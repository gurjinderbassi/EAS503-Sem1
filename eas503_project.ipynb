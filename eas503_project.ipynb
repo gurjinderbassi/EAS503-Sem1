{
  "cells": [
    {
      "cell_type": "markdown",
      "id": "3f91823a",
      "metadata": {
        "id": "3f91823a"
      },
      "source": [
        "# Analysis of Google Playstore Apps"
      ]
    },
    {
      "cell_type": "markdown",
      "id": "887cf2c7",
      "metadata": {
        "id": "887cf2c7"
      },
      "source": [
        "## Import libraries\n",
        "\n",
        "The first step is to import required libraries that will be used throughout the project such as,\n",
        "- Pandas for data reading the csv file\n",
        "- matplotlib, seaborn for visualization\n",
        "- sqlite3 for database handling"
      ]
    },
    {
      "cell_type": "code",
      "execution_count": 132,
      "id": "504a9b95",
      "metadata": {
        "id": "504a9b95"
      },
      "outputs": [],
      "source": [
        "import pandas as pd\n",
        "import numpy as np\n",
        "import matplotlib.pyplot as plt\n",
        "import plotly.express as px\n",
        "import seaborn as sns\n",
        "import sqlite3\n",
        "from sqlite3 import Error\n",
        "import ipywidgets as widgets\n",
        "import re\n",
        "%matplotlib inline"
      ]
    },
    {
      "cell_type": "code",
      "execution_count": 133,
      "id": "4e40f1a3",
      "metadata": {
        "id": "4e40f1a3"
      },
      "outputs": [],
      "source": [
        "pd.options.display.max_rows = 999"
      ]
    },
    {
      "cell_type": "markdown",
      "id": "b7f20eb9",
      "metadata": {
        "id": "b7f20eb9"
      },
      "source": [
        "## Reading the dataset\n",
        "\n",
        "We are using pandas to load the dataset into a dataframe."
      ]
    },
    {
      "cell_type": "code",
      "execution_count": 134,
      "id": "931281dc",
      "metadata": {
        "id": "931281dc"
      },
      "outputs": [],
      "source": [
        "df = pd.read_csv('/content/googleplaystore.csv')"
      ]
    },
    {
      "cell_type": "code",
      "execution_count": 135,
      "id": "54fadb99",
      "metadata": {
        "colab": {
          "base_uri": "https://localhost:8080/",
          "height": 206
        },
        "id": "54fadb99",
        "outputId": "d17f538f-c603-4189-ac2e-339845db6921"
      },
      "outputs": [
        {
          "output_type": "execute_result",
          "data": {
            "text/html": [
              "\n",
              "  <div id=\"df-876f29ee-99cb-476e-99d4-c6f5b4117b63\">\n",
              "    <div class=\"colab-df-container\">\n",
              "      <div>\n",
              "<style scoped>\n",
              "    .dataframe tbody tr th:only-of-type {\n",
              "        vertical-align: middle;\n",
              "    }\n",
              "\n",
              "    .dataframe tbody tr th {\n",
              "        vertical-align: top;\n",
              "    }\n",
              "\n",
              "    .dataframe thead th {\n",
              "        text-align: right;\n",
              "    }\n",
              "</style>\n",
              "<table border=\"1\" class=\"dataframe\">\n",
              "  <thead>\n",
              "    <tr style=\"text-align: right;\">\n",
              "      <th></th>\n",
              "      <th>App</th>\n",
              "      <th>Category</th>\n",
              "      <th>Rating</th>\n",
              "      <th>Reviews</th>\n",
              "      <th>Size</th>\n",
              "      <th>Installs</th>\n",
              "      <th>Type</th>\n",
              "      <th>Price</th>\n",
              "      <th>Content Rating</th>\n",
              "      <th>Genres</th>\n",
              "      <th>Last Updated</th>\n",
              "      <th>Current Ver</th>\n",
              "      <th>Android Ver</th>\n",
              "    </tr>\n",
              "  </thead>\n",
              "  <tbody>\n",
              "    <tr>\n",
              "      <th>0</th>\n",
              "      <td>Photo Editor &amp; Candy Camera &amp; Grid &amp; ScrapBook</td>\n",
              "      <td>ART_AND_DESIGN</td>\n",
              "      <td>4.1</td>\n",
              "      <td>159</td>\n",
              "      <td>19M</td>\n",
              "      <td>10,000+</td>\n",
              "      <td>Free</td>\n",
              "      <td>0</td>\n",
              "      <td>Everyone</td>\n",
              "      <td>Art &amp; Design</td>\n",
              "      <td>January 7, 2018</td>\n",
              "      <td>1.0.0</td>\n",
              "      <td>4.0.3 and up</td>\n",
              "    </tr>\n",
              "    <tr>\n",
              "      <th>1</th>\n",
              "      <td>Coloring book moana</td>\n",
              "      <td>ART_AND_DESIGN</td>\n",
              "      <td>3.9</td>\n",
              "      <td>967</td>\n",
              "      <td>14M</td>\n",
              "      <td>500,000+</td>\n",
              "      <td>Free</td>\n",
              "      <td>0</td>\n",
              "      <td>Everyone</td>\n",
              "      <td>Art &amp; Design;Pretend Play</td>\n",
              "      <td>January 15, 2018</td>\n",
              "      <td>2.0.0</td>\n",
              "      <td>4.0.3 and up</td>\n",
              "    </tr>\n",
              "    <tr>\n",
              "      <th>2</th>\n",
              "      <td>U Launcher Lite – FREE Live Cool Themes, Hide ...</td>\n",
              "      <td>ART_AND_DESIGN</td>\n",
              "      <td>4.7</td>\n",
              "      <td>87510</td>\n",
              "      <td>8.7M</td>\n",
              "      <td>5,000,000+</td>\n",
              "      <td>Free</td>\n",
              "      <td>0</td>\n",
              "      <td>Everyone</td>\n",
              "      <td>Art &amp; Design</td>\n",
              "      <td>August 1, 2018</td>\n",
              "      <td>1.2.4</td>\n",
              "      <td>4.0.3 and up</td>\n",
              "    </tr>\n",
              "    <tr>\n",
              "      <th>3</th>\n",
              "      <td>Sketch - Draw &amp; Paint</td>\n",
              "      <td>ART_AND_DESIGN</td>\n",
              "      <td>4.5</td>\n",
              "      <td>215644</td>\n",
              "      <td>25M</td>\n",
              "      <td>50,000,000+</td>\n",
              "      <td>Free</td>\n",
              "      <td>0</td>\n",
              "      <td>Teen</td>\n",
              "      <td>Art &amp; Design</td>\n",
              "      <td>June 8, 2018</td>\n",
              "      <td>Varies with device</td>\n",
              "      <td>4.2 and up</td>\n",
              "    </tr>\n",
              "    <tr>\n",
              "      <th>4</th>\n",
              "      <td>Pixel Draw - Number Art Coloring Book</td>\n",
              "      <td>ART_AND_DESIGN</td>\n",
              "      <td>4.3</td>\n",
              "      <td>967</td>\n",
              "      <td>2.8M</td>\n",
              "      <td>100,000+</td>\n",
              "      <td>Free</td>\n",
              "      <td>0</td>\n",
              "      <td>Everyone</td>\n",
              "      <td>Art &amp; Design;Creativity</td>\n",
              "      <td>June 20, 2018</td>\n",
              "      <td>1.1</td>\n",
              "      <td>4.4 and up</td>\n",
              "    </tr>\n",
              "  </tbody>\n",
              "</table>\n",
              "</div>\n",
              "      <button class=\"colab-df-convert\" onclick=\"convertToInteractive('df-876f29ee-99cb-476e-99d4-c6f5b4117b63')\"\n",
              "              title=\"Convert this dataframe to an interactive table.\"\n",
              "              style=\"display:none;\">\n",
              "        \n",
              "  <svg xmlns=\"http://www.w3.org/2000/svg\" height=\"24px\"viewBox=\"0 0 24 24\"\n",
              "       width=\"24px\">\n",
              "    <path d=\"M0 0h24v24H0V0z\" fill=\"none\"/>\n",
              "    <path d=\"M18.56 5.44l.94 2.06.94-2.06 2.06-.94-2.06-.94-.94-2.06-.94 2.06-2.06.94zm-11 1L8.5 8.5l.94-2.06 2.06-.94-2.06-.94L8.5 2.5l-.94 2.06-2.06.94zm10 10l.94 2.06.94-2.06 2.06-.94-2.06-.94-.94-2.06-.94 2.06-2.06.94z\"/><path d=\"M17.41 7.96l-1.37-1.37c-.4-.4-.92-.59-1.43-.59-.52 0-1.04.2-1.43.59L10.3 9.45l-7.72 7.72c-.78.78-.78 2.05 0 2.83L4 21.41c.39.39.9.59 1.41.59.51 0 1.02-.2 1.41-.59l7.78-7.78 2.81-2.81c.8-.78.8-2.07 0-2.86zM5.41 20L4 18.59l7.72-7.72 1.47 1.35L5.41 20z\"/>\n",
              "  </svg>\n",
              "      </button>\n",
              "      \n",
              "  <style>\n",
              "    .colab-df-container {\n",
              "      display:flex;\n",
              "      flex-wrap:wrap;\n",
              "      gap: 12px;\n",
              "    }\n",
              "\n",
              "    .colab-df-convert {\n",
              "      background-color: #E8F0FE;\n",
              "      border: none;\n",
              "      border-radius: 50%;\n",
              "      cursor: pointer;\n",
              "      display: none;\n",
              "      fill: #1967D2;\n",
              "      height: 32px;\n",
              "      padding: 0 0 0 0;\n",
              "      width: 32px;\n",
              "    }\n",
              "\n",
              "    .colab-df-convert:hover {\n",
              "      background-color: #E2EBFA;\n",
              "      box-shadow: 0px 1px 2px rgba(60, 64, 67, 0.3), 0px 1px 3px 1px rgba(60, 64, 67, 0.15);\n",
              "      fill: #174EA6;\n",
              "    }\n",
              "\n",
              "    [theme=dark] .colab-df-convert {\n",
              "      background-color: #3B4455;\n",
              "      fill: #D2E3FC;\n",
              "    }\n",
              "\n",
              "    [theme=dark] .colab-df-convert:hover {\n",
              "      background-color: #434B5C;\n",
              "      box-shadow: 0px 1px 3px 1px rgba(0, 0, 0, 0.15);\n",
              "      filter: drop-shadow(0px 1px 2px rgba(0, 0, 0, 0.3));\n",
              "      fill: #FFFFFF;\n",
              "    }\n",
              "  </style>\n",
              "\n",
              "      <script>\n",
              "        const buttonEl =\n",
              "          document.querySelector('#df-876f29ee-99cb-476e-99d4-c6f5b4117b63 button.colab-df-convert');\n",
              "        buttonEl.style.display =\n",
              "          google.colab.kernel.accessAllowed ? 'block' : 'none';\n",
              "\n",
              "        async function convertToInteractive(key) {\n",
              "          const element = document.querySelector('#df-876f29ee-99cb-476e-99d4-c6f5b4117b63');\n",
              "          const dataTable =\n",
              "            await google.colab.kernel.invokeFunction('convertToInteractive',\n",
              "                                                     [key], {});\n",
              "          if (!dataTable) return;\n",
              "\n",
              "          const docLinkHtml = 'Like what you see? Visit the ' +\n",
              "            '<a target=\"_blank\" href=https://colab.research.google.com/notebooks/data_table.ipynb>data table notebook</a>'\n",
              "            + ' to learn more about interactive tables.';\n",
              "          element.innerHTML = '';\n",
              "          dataTable['output_type'] = 'display_data';\n",
              "          await google.colab.output.renderOutput(dataTable, element);\n",
              "          const docLink = document.createElement('div');\n",
              "          docLink.innerHTML = docLinkHtml;\n",
              "          element.appendChild(docLink);\n",
              "        }\n",
              "      </script>\n",
              "    </div>\n",
              "  </div>\n",
              "  "
            ],
            "text/plain": [
              "                                                 App  ...   Android Ver\n",
              "0     Photo Editor & Candy Camera & Grid & ScrapBook  ...  4.0.3 and up\n",
              "1                                Coloring book moana  ...  4.0.3 and up\n",
              "2  U Launcher Lite – FREE Live Cool Themes, Hide ...  ...  4.0.3 and up\n",
              "3                              Sketch - Draw & Paint  ...    4.2 and up\n",
              "4              Pixel Draw - Number Art Coloring Book  ...    4.4 and up\n",
              "\n",
              "[5 rows x 13 columns]"
            ]
          },
          "metadata": {},
          "execution_count": 135
        }
      ],
      "source": [
        "df.head(5)"
      ]
    },
    {
      "cell_type": "markdown",
      "id": "e6eec563",
      "metadata": {
        "id": "e6eec563"
      },
      "source": [
        "#### Our dataset has 10841 rows and 13 columns"
      ]
    },
    {
      "cell_type": "code",
      "execution_count": 136,
      "id": "1faf941b",
      "metadata": {
        "colab": {
          "base_uri": "https://localhost:8080/"
        },
        "id": "1faf941b",
        "outputId": "9d5f60f1-d3b2-4a11-a71c-cee49de899a9"
      },
      "outputs": [
        {
          "output_type": "execute_result",
          "data": {
            "text/plain": [
              "(10841, 13)"
            ]
          },
          "metadata": {},
          "execution_count": 136
        }
      ],
      "source": [
        "df.shape"
      ]
    },
    {
      "cell_type": "code",
      "execution_count": 137,
      "id": "59c1c3be",
      "metadata": {
        "colab": {
          "base_uri": "https://localhost:8080/"
        },
        "id": "59c1c3be",
        "outputId": "f3ff4677-2591-436c-ec67-e2ed8ff67751"
      },
      "outputs": [
        {
          "output_type": "execute_result",
          "data": {
            "text/plain": [
              "Index(['App', 'Category', 'Rating', 'Reviews', 'Size', 'Installs', 'Type',\n",
              "       'Price', 'Content Rating', 'Genres', 'Last Updated', 'Current Ver',\n",
              "       'Android Ver'],\n",
              "      dtype='object')"
            ]
          },
          "metadata": {},
          "execution_count": 137
        }
      ],
      "source": [
        "df.columns"
      ]
    },
    {
      "cell_type": "markdown",
      "id": "5913d993",
      "metadata": {
        "id": "5913d993"
      },
      "source": [
        "## Data cleaning\n",
        "\n",
        " We have read the csv file into a dataframe. To create a normalized database from this data, we need to check if the data is free of inconsistencies and anomalies.\n",
        " \n",
        "Some important things to consider before creating a database:\n",
        "- Check for missing or null values\n",
        "- Check if each column has valid entries (for example in terms of datatypes, acceptable value range etc.)\n",
        "- Check for duplicate rows\n",
        "- Remove extraneous rows and unwanted columns, etc."
      ]
    },
    {
      "cell_type": "markdown",
      "id": "1ee701b9",
      "metadata": {
        "id": "1ee701b9"
      },
      "source": [
        "#### Print the info of the data"
      ]
    },
    {
      "cell_type": "code",
      "execution_count": 138,
      "id": "6b6ee72e",
      "metadata": {
        "colab": {
          "base_uri": "https://localhost:8080/"
        },
        "id": "6b6ee72e",
        "outputId": "cadba754-76b5-4e84-e6bf-358ab151d0fb"
      },
      "outputs": [
        {
          "output_type": "stream",
          "name": "stdout",
          "text": [
            "<class 'pandas.core.frame.DataFrame'>\n",
            "RangeIndex: 10841 entries, 0 to 10840\n",
            "Data columns (total 13 columns):\n",
            " #   Column          Non-Null Count  Dtype  \n",
            "---  ------          --------------  -----  \n",
            " 0   App             10841 non-null  object \n",
            " 1   Category        10841 non-null  object \n",
            " 2   Rating          9367 non-null   float64\n",
            " 3   Reviews         10841 non-null  object \n",
            " 4   Size            10841 non-null  object \n",
            " 5   Installs        10841 non-null  object \n",
            " 6   Type            10840 non-null  object \n",
            " 7   Price           10841 non-null  object \n",
            " 8   Content Rating  10840 non-null  object \n",
            " 9   Genres          10841 non-null  object \n",
            " 10  Last Updated    10841 non-null  object \n",
            " 11  Current Ver     10833 non-null  object \n",
            " 12  Android Ver     10838 non-null  object \n",
            "dtypes: float64(1), object(12)\n",
            "memory usage: 1.1+ MB\n"
          ]
        }
      ],
      "source": [
        "df.info()"
      ]
    },
    {
      "cell_type": "markdown",
      "id": "8558f496",
      "metadata": {
        "id": "8558f496"
      },
      "source": [
        "From the above output, we can see that *Rating*, column has a large number of *null* values, *Type* and *ContentRating* have one *null* value, and *CurrentVer* and *AndroidVer* also have some *null* values.\n",
        "#### However *Rating* column having *null* values is no problem! We interpret such apps as those that have not received any rating.\n",
        "\n",
        "\n",
        "#### Now let us look into *Type* and *Content Rating* columns having null entries\n"
      ]
    },
    {
      "cell_type": "code",
      "execution_count": 139,
      "id": "93fd853e",
      "metadata": {
        "colab": {
          "base_uri": "https://localhost:8080/",
          "height": 81
        },
        "id": "93fd853e",
        "outputId": "f592ee52-6d5e-4f12-e6b6-d529652d58d4"
      },
      "outputs": [
        {
          "output_type": "execute_result",
          "data": {
            "text/html": [
              "\n",
              "  <div id=\"df-ee85bc86-ebf9-476c-a84b-876b57769be0\">\n",
              "    <div class=\"colab-df-container\">\n",
              "      <div>\n",
              "<style scoped>\n",
              "    .dataframe tbody tr th:only-of-type {\n",
              "        vertical-align: middle;\n",
              "    }\n",
              "\n",
              "    .dataframe tbody tr th {\n",
              "        vertical-align: top;\n",
              "    }\n",
              "\n",
              "    .dataframe thead th {\n",
              "        text-align: right;\n",
              "    }\n",
              "</style>\n",
              "<table border=\"1\" class=\"dataframe\">\n",
              "  <thead>\n",
              "    <tr style=\"text-align: right;\">\n",
              "      <th></th>\n",
              "      <th>App</th>\n",
              "      <th>Category</th>\n",
              "      <th>Rating</th>\n",
              "      <th>Reviews</th>\n",
              "      <th>Size</th>\n",
              "      <th>Installs</th>\n",
              "      <th>Type</th>\n",
              "      <th>Price</th>\n",
              "      <th>Content Rating</th>\n",
              "      <th>Genres</th>\n",
              "      <th>Last Updated</th>\n",
              "      <th>Current Ver</th>\n",
              "      <th>Android Ver</th>\n",
              "    </tr>\n",
              "  </thead>\n",
              "  <tbody>\n",
              "    <tr>\n",
              "      <th>9148</th>\n",
              "      <td>Command &amp; Conquer: Rivals</td>\n",
              "      <td>FAMILY</td>\n",
              "      <td>NaN</td>\n",
              "      <td>0</td>\n",
              "      <td>Varies with device</td>\n",
              "      <td>0</td>\n",
              "      <td>NaN</td>\n",
              "      <td>0</td>\n",
              "      <td>Everyone 10+</td>\n",
              "      <td>Strategy</td>\n",
              "      <td>June 28, 2018</td>\n",
              "      <td>Varies with device</td>\n",
              "      <td>Varies with device</td>\n",
              "    </tr>\n",
              "  </tbody>\n",
              "</table>\n",
              "</div>\n",
              "      <button class=\"colab-df-convert\" onclick=\"convertToInteractive('df-ee85bc86-ebf9-476c-a84b-876b57769be0')\"\n",
              "              title=\"Convert this dataframe to an interactive table.\"\n",
              "              style=\"display:none;\">\n",
              "        \n",
              "  <svg xmlns=\"http://www.w3.org/2000/svg\" height=\"24px\"viewBox=\"0 0 24 24\"\n",
              "       width=\"24px\">\n",
              "    <path d=\"M0 0h24v24H0V0z\" fill=\"none\"/>\n",
              "    <path d=\"M18.56 5.44l.94 2.06.94-2.06 2.06-.94-2.06-.94-.94-2.06-.94 2.06-2.06.94zm-11 1L8.5 8.5l.94-2.06 2.06-.94-2.06-.94L8.5 2.5l-.94 2.06-2.06.94zm10 10l.94 2.06.94-2.06 2.06-.94-2.06-.94-.94-2.06-.94 2.06-2.06.94z\"/><path d=\"M17.41 7.96l-1.37-1.37c-.4-.4-.92-.59-1.43-.59-.52 0-1.04.2-1.43.59L10.3 9.45l-7.72 7.72c-.78.78-.78 2.05 0 2.83L4 21.41c.39.39.9.59 1.41.59.51 0 1.02-.2 1.41-.59l7.78-7.78 2.81-2.81c.8-.78.8-2.07 0-2.86zM5.41 20L4 18.59l7.72-7.72 1.47 1.35L5.41 20z\"/>\n",
              "  </svg>\n",
              "      </button>\n",
              "      \n",
              "  <style>\n",
              "    .colab-df-container {\n",
              "      display:flex;\n",
              "      flex-wrap:wrap;\n",
              "      gap: 12px;\n",
              "    }\n",
              "\n",
              "    .colab-df-convert {\n",
              "      background-color: #E8F0FE;\n",
              "      border: none;\n",
              "      border-radius: 50%;\n",
              "      cursor: pointer;\n",
              "      display: none;\n",
              "      fill: #1967D2;\n",
              "      height: 32px;\n",
              "      padding: 0 0 0 0;\n",
              "      width: 32px;\n",
              "    }\n",
              "\n",
              "    .colab-df-convert:hover {\n",
              "      background-color: #E2EBFA;\n",
              "      box-shadow: 0px 1px 2px rgba(60, 64, 67, 0.3), 0px 1px 3px 1px rgba(60, 64, 67, 0.15);\n",
              "      fill: #174EA6;\n",
              "    }\n",
              "\n",
              "    [theme=dark] .colab-df-convert {\n",
              "      background-color: #3B4455;\n",
              "      fill: #D2E3FC;\n",
              "    }\n",
              "\n",
              "    [theme=dark] .colab-df-convert:hover {\n",
              "      background-color: #434B5C;\n",
              "      box-shadow: 0px 1px 3px 1px rgba(0, 0, 0, 0.15);\n",
              "      filter: drop-shadow(0px 1px 2px rgba(0, 0, 0, 0.3));\n",
              "      fill: #FFFFFF;\n",
              "    }\n",
              "  </style>\n",
              "\n",
              "      <script>\n",
              "        const buttonEl =\n",
              "          document.querySelector('#df-ee85bc86-ebf9-476c-a84b-876b57769be0 button.colab-df-convert');\n",
              "        buttonEl.style.display =\n",
              "          google.colab.kernel.accessAllowed ? 'block' : 'none';\n",
              "\n",
              "        async function convertToInteractive(key) {\n",
              "          const element = document.querySelector('#df-ee85bc86-ebf9-476c-a84b-876b57769be0');\n",
              "          const dataTable =\n",
              "            await google.colab.kernel.invokeFunction('convertToInteractive',\n",
              "                                                     [key], {});\n",
              "          if (!dataTable) return;\n",
              "\n",
              "          const docLinkHtml = 'Like what you see? Visit the ' +\n",
              "            '<a target=\"_blank\" href=https://colab.research.google.com/notebooks/data_table.ipynb>data table notebook</a>'\n",
              "            + ' to learn more about interactive tables.';\n",
              "          element.innerHTML = '';\n",
              "          dataTable['output_type'] = 'display_data';\n",
              "          await google.colab.output.renderOutput(dataTable, element);\n",
              "          const docLink = document.createElement('div');\n",
              "          docLink.innerHTML = docLinkHtml;\n",
              "          element.appendChild(docLink);\n",
              "        }\n",
              "      </script>\n",
              "    </div>\n",
              "  </div>\n",
              "  "
            ],
            "text/plain": [
              "                            App  ...         Android Ver\n",
              "9148  Command & Conquer: Rivals  ...  Varies with device\n",
              "\n",
              "[1 rows x 13 columns]"
            ]
          },
          "metadata": {},
          "execution_count": 139
        }
      ],
      "source": [
        "df[df['Type'].isnull()]"
      ]
    },
    {
      "cell_type": "markdown",
      "id": "26178009",
      "metadata": {
        "id": "26178009"
      },
      "source": [
        "There is only one row where *Type* is *NaN*. As the *Price* is 0 for this row, we make *Type* as *Free*. Now, there is no row with null values in *Type* column."
      ]
    },
    {
      "cell_type": "code",
      "execution_count": 140,
      "id": "2950c3b1",
      "metadata": {
        "id": "2950c3b1"
      },
      "outputs": [],
      "source": [
        "df.loc[df['Type'].isnull(),'Type'] = 'Free'"
      ]
    },
    {
      "cell_type": "code",
      "execution_count": 141,
      "id": "8c765957",
      "metadata": {
        "colab": {
          "base_uri": "https://localhost:8080/",
          "height": 50
        },
        "id": "8c765957",
        "outputId": "2bc0722e-5343-4fef-90a5-4803c9677b7d"
      },
      "outputs": [
        {
          "output_type": "execute_result",
          "data": {
            "text/html": [
              "\n",
              "  <div id=\"df-72669611-4769-441f-bd32-f17a0d7d2707\">\n",
              "    <div class=\"colab-df-container\">\n",
              "      <div>\n",
              "<style scoped>\n",
              "    .dataframe tbody tr th:only-of-type {\n",
              "        vertical-align: middle;\n",
              "    }\n",
              "\n",
              "    .dataframe tbody tr th {\n",
              "        vertical-align: top;\n",
              "    }\n",
              "\n",
              "    .dataframe thead th {\n",
              "        text-align: right;\n",
              "    }\n",
              "</style>\n",
              "<table border=\"1\" class=\"dataframe\">\n",
              "  <thead>\n",
              "    <tr style=\"text-align: right;\">\n",
              "      <th></th>\n",
              "      <th>App</th>\n",
              "      <th>Category</th>\n",
              "      <th>Rating</th>\n",
              "      <th>Reviews</th>\n",
              "      <th>Size</th>\n",
              "      <th>Installs</th>\n",
              "      <th>Type</th>\n",
              "      <th>Price</th>\n",
              "      <th>Content Rating</th>\n",
              "      <th>Genres</th>\n",
              "      <th>Last Updated</th>\n",
              "      <th>Current Ver</th>\n",
              "      <th>Android Ver</th>\n",
              "    </tr>\n",
              "  </thead>\n",
              "  <tbody>\n",
              "  </tbody>\n",
              "</table>\n",
              "</div>\n",
              "      <button class=\"colab-df-convert\" onclick=\"convertToInteractive('df-72669611-4769-441f-bd32-f17a0d7d2707')\"\n",
              "              title=\"Convert this dataframe to an interactive table.\"\n",
              "              style=\"display:none;\">\n",
              "        \n",
              "  <svg xmlns=\"http://www.w3.org/2000/svg\" height=\"24px\"viewBox=\"0 0 24 24\"\n",
              "       width=\"24px\">\n",
              "    <path d=\"M0 0h24v24H0V0z\" fill=\"none\"/>\n",
              "    <path d=\"M18.56 5.44l.94 2.06.94-2.06 2.06-.94-2.06-.94-.94-2.06-.94 2.06-2.06.94zm-11 1L8.5 8.5l.94-2.06 2.06-.94-2.06-.94L8.5 2.5l-.94 2.06-2.06.94zm10 10l.94 2.06.94-2.06 2.06-.94-2.06-.94-.94-2.06-.94 2.06-2.06.94z\"/><path d=\"M17.41 7.96l-1.37-1.37c-.4-.4-.92-.59-1.43-.59-.52 0-1.04.2-1.43.59L10.3 9.45l-7.72 7.72c-.78.78-.78 2.05 0 2.83L4 21.41c.39.39.9.59 1.41.59.51 0 1.02-.2 1.41-.59l7.78-7.78 2.81-2.81c.8-.78.8-2.07 0-2.86zM5.41 20L4 18.59l7.72-7.72 1.47 1.35L5.41 20z\"/>\n",
              "  </svg>\n",
              "      </button>\n",
              "      \n",
              "  <style>\n",
              "    .colab-df-container {\n",
              "      display:flex;\n",
              "      flex-wrap:wrap;\n",
              "      gap: 12px;\n",
              "    }\n",
              "\n",
              "    .colab-df-convert {\n",
              "      background-color: #E8F0FE;\n",
              "      border: none;\n",
              "      border-radius: 50%;\n",
              "      cursor: pointer;\n",
              "      display: none;\n",
              "      fill: #1967D2;\n",
              "      height: 32px;\n",
              "      padding: 0 0 0 0;\n",
              "      width: 32px;\n",
              "    }\n",
              "\n",
              "    .colab-df-convert:hover {\n",
              "      background-color: #E2EBFA;\n",
              "      box-shadow: 0px 1px 2px rgba(60, 64, 67, 0.3), 0px 1px 3px 1px rgba(60, 64, 67, 0.15);\n",
              "      fill: #174EA6;\n",
              "    }\n",
              "\n",
              "    [theme=dark] .colab-df-convert {\n",
              "      background-color: #3B4455;\n",
              "      fill: #D2E3FC;\n",
              "    }\n",
              "\n",
              "    [theme=dark] .colab-df-convert:hover {\n",
              "      background-color: #434B5C;\n",
              "      box-shadow: 0px 1px 3px 1px rgba(0, 0, 0, 0.15);\n",
              "      filter: drop-shadow(0px 1px 2px rgba(0, 0, 0, 0.3));\n",
              "      fill: #FFFFFF;\n",
              "    }\n",
              "  </style>\n",
              "\n",
              "      <script>\n",
              "        const buttonEl =\n",
              "          document.querySelector('#df-72669611-4769-441f-bd32-f17a0d7d2707 button.colab-df-convert');\n",
              "        buttonEl.style.display =\n",
              "          google.colab.kernel.accessAllowed ? 'block' : 'none';\n",
              "\n",
              "        async function convertToInteractive(key) {\n",
              "          const element = document.querySelector('#df-72669611-4769-441f-bd32-f17a0d7d2707');\n",
              "          const dataTable =\n",
              "            await google.colab.kernel.invokeFunction('convertToInteractive',\n",
              "                                                     [key], {});\n",
              "          if (!dataTable) return;\n",
              "\n",
              "          const docLinkHtml = 'Like what you see? Visit the ' +\n",
              "            '<a target=\"_blank\" href=https://colab.research.google.com/notebooks/data_table.ipynb>data table notebook</a>'\n",
              "            + ' to learn more about interactive tables.';\n",
              "          element.innerHTML = '';\n",
              "          dataTable['output_type'] = 'display_data';\n",
              "          await google.colab.output.renderOutput(dataTable, element);\n",
              "          const docLink = document.createElement('div');\n",
              "          docLink.innerHTML = docLinkHtml;\n",
              "          element.appendChild(docLink);\n",
              "        }\n",
              "      </script>\n",
              "    </div>\n",
              "  </div>\n",
              "  "
            ],
            "text/plain": [
              "Empty DataFrame\n",
              "Columns: [App, Category, Rating, Reviews, Size, Installs, Type, Price, Content Rating, Genres, Last Updated, Current Ver, Android Ver]\n",
              "Index: []"
            ]
          },
          "metadata": {},
          "execution_count": 141
        }
      ],
      "source": [
        "df[df['Type'].isnull()]"
      ]
    },
    {
      "cell_type": "code",
      "execution_count": 142,
      "id": "eb82f47c",
      "metadata": {
        "scrolled": true,
        "colab": {
          "base_uri": "https://localhost:8080/",
          "height": 81
        },
        "id": "eb82f47c",
        "outputId": "b69a0031-6d18-4ed7-9a42-03986b5dda5c"
      },
      "outputs": [
        {
          "output_type": "execute_result",
          "data": {
            "text/html": [
              "\n",
              "  <div id=\"df-7f0877ba-dff9-407d-96e5-15589fef5ec5\">\n",
              "    <div class=\"colab-df-container\">\n",
              "      <div>\n",
              "<style scoped>\n",
              "    .dataframe tbody tr th:only-of-type {\n",
              "        vertical-align: middle;\n",
              "    }\n",
              "\n",
              "    .dataframe tbody tr th {\n",
              "        vertical-align: top;\n",
              "    }\n",
              "\n",
              "    .dataframe thead th {\n",
              "        text-align: right;\n",
              "    }\n",
              "</style>\n",
              "<table border=\"1\" class=\"dataframe\">\n",
              "  <thead>\n",
              "    <tr style=\"text-align: right;\">\n",
              "      <th></th>\n",
              "      <th>App</th>\n",
              "      <th>Category</th>\n",
              "      <th>Rating</th>\n",
              "      <th>Reviews</th>\n",
              "      <th>Size</th>\n",
              "      <th>Installs</th>\n",
              "      <th>Type</th>\n",
              "      <th>Price</th>\n",
              "      <th>Content Rating</th>\n",
              "      <th>Genres</th>\n",
              "      <th>Last Updated</th>\n",
              "      <th>Current Ver</th>\n",
              "      <th>Android Ver</th>\n",
              "    </tr>\n",
              "  </thead>\n",
              "  <tbody>\n",
              "    <tr>\n",
              "      <th>9148</th>\n",
              "      <td>Command &amp; Conquer: Rivals</td>\n",
              "      <td>FAMILY</td>\n",
              "      <td>NaN</td>\n",
              "      <td>0</td>\n",
              "      <td>Varies with device</td>\n",
              "      <td>0</td>\n",
              "      <td>Free</td>\n",
              "      <td>0</td>\n",
              "      <td>Everyone 10+</td>\n",
              "      <td>Strategy</td>\n",
              "      <td>June 28, 2018</td>\n",
              "      <td>Varies with device</td>\n",
              "      <td>Varies with device</td>\n",
              "    </tr>\n",
              "  </tbody>\n",
              "</table>\n",
              "</div>\n",
              "      <button class=\"colab-df-convert\" onclick=\"convertToInteractive('df-7f0877ba-dff9-407d-96e5-15589fef5ec5')\"\n",
              "              title=\"Convert this dataframe to an interactive table.\"\n",
              "              style=\"display:none;\">\n",
              "        \n",
              "  <svg xmlns=\"http://www.w3.org/2000/svg\" height=\"24px\"viewBox=\"0 0 24 24\"\n",
              "       width=\"24px\">\n",
              "    <path d=\"M0 0h24v24H0V0z\" fill=\"none\"/>\n",
              "    <path d=\"M18.56 5.44l.94 2.06.94-2.06 2.06-.94-2.06-.94-.94-2.06-.94 2.06-2.06.94zm-11 1L8.5 8.5l.94-2.06 2.06-.94-2.06-.94L8.5 2.5l-.94 2.06-2.06.94zm10 10l.94 2.06.94-2.06 2.06-.94-2.06-.94-.94-2.06-.94 2.06-2.06.94z\"/><path d=\"M17.41 7.96l-1.37-1.37c-.4-.4-.92-.59-1.43-.59-.52 0-1.04.2-1.43.59L10.3 9.45l-7.72 7.72c-.78.78-.78 2.05 0 2.83L4 21.41c.39.39.9.59 1.41.59.51 0 1.02-.2 1.41-.59l7.78-7.78 2.81-2.81c.8-.78.8-2.07 0-2.86zM5.41 20L4 18.59l7.72-7.72 1.47 1.35L5.41 20z\"/>\n",
              "  </svg>\n",
              "      </button>\n",
              "      \n",
              "  <style>\n",
              "    .colab-df-container {\n",
              "      display:flex;\n",
              "      flex-wrap:wrap;\n",
              "      gap: 12px;\n",
              "    }\n",
              "\n",
              "    .colab-df-convert {\n",
              "      background-color: #E8F0FE;\n",
              "      border: none;\n",
              "      border-radius: 50%;\n",
              "      cursor: pointer;\n",
              "      display: none;\n",
              "      fill: #1967D2;\n",
              "      height: 32px;\n",
              "      padding: 0 0 0 0;\n",
              "      width: 32px;\n",
              "    }\n",
              "\n",
              "    .colab-df-convert:hover {\n",
              "      background-color: #E2EBFA;\n",
              "      box-shadow: 0px 1px 2px rgba(60, 64, 67, 0.3), 0px 1px 3px 1px rgba(60, 64, 67, 0.15);\n",
              "      fill: #174EA6;\n",
              "    }\n",
              "\n",
              "    [theme=dark] .colab-df-convert {\n",
              "      background-color: #3B4455;\n",
              "      fill: #D2E3FC;\n",
              "    }\n",
              "\n",
              "    [theme=dark] .colab-df-convert:hover {\n",
              "      background-color: #434B5C;\n",
              "      box-shadow: 0px 1px 3px 1px rgba(0, 0, 0, 0.15);\n",
              "      filter: drop-shadow(0px 1px 2px rgba(0, 0, 0, 0.3));\n",
              "      fill: #FFFFFF;\n",
              "    }\n",
              "  </style>\n",
              "\n",
              "      <script>\n",
              "        const buttonEl =\n",
              "          document.querySelector('#df-7f0877ba-dff9-407d-96e5-15589fef5ec5 button.colab-df-convert');\n",
              "        buttonEl.style.display =\n",
              "          google.colab.kernel.accessAllowed ? 'block' : 'none';\n",
              "\n",
              "        async function convertToInteractive(key) {\n",
              "          const element = document.querySelector('#df-7f0877ba-dff9-407d-96e5-15589fef5ec5');\n",
              "          const dataTable =\n",
              "            await google.colab.kernel.invokeFunction('convertToInteractive',\n",
              "                                                     [key], {});\n",
              "          if (!dataTable) return;\n",
              "\n",
              "          const docLinkHtml = 'Like what you see? Visit the ' +\n",
              "            '<a target=\"_blank\" href=https://colab.research.google.com/notebooks/data_table.ipynb>data table notebook</a>'\n",
              "            + ' to learn more about interactive tables.';\n",
              "          element.innerHTML = '';\n",
              "          dataTable['output_type'] = 'display_data';\n",
              "          await google.colab.output.renderOutput(dataTable, element);\n",
              "          const docLink = document.createElement('div');\n",
              "          docLink.innerHTML = docLinkHtml;\n",
              "          element.appendChild(docLink);\n",
              "        }\n",
              "      </script>\n",
              "    </div>\n",
              "  </div>\n",
              "  "
            ],
            "text/plain": [
              "                            App  ...         Android Ver\n",
              "9148  Command & Conquer: Rivals  ...  Varies with device\n",
              "\n",
              "[1 rows x 13 columns]"
            ]
          },
          "metadata": {},
          "execution_count": 142
        }
      ],
      "source": [
        "df[df['App']=='Command & Conquer: Rivals']"
      ]
    },
    {
      "cell_type": "markdown",
      "id": "7085426f",
      "metadata": {
        "id": "7085426f"
      },
      "source": [
        "Perform similar step for *Content Rating*, i.e., print the row having null value for *Content Rating*."
      ]
    },
    {
      "cell_type": "code",
      "execution_count": 143,
      "id": "96645123",
      "metadata": {
        "colab": {
          "base_uri": "https://localhost:8080/",
          "height": 81
        },
        "id": "96645123",
        "outputId": "21b640e3-466a-4492-fc84-58a4ecd2f506"
      },
      "outputs": [
        {
          "output_type": "execute_result",
          "data": {
            "text/html": [
              "\n",
              "  <div id=\"df-bb727341-54b3-4746-8dbd-cad53416aace\">\n",
              "    <div class=\"colab-df-container\">\n",
              "      <div>\n",
              "<style scoped>\n",
              "    .dataframe tbody tr th:only-of-type {\n",
              "        vertical-align: middle;\n",
              "    }\n",
              "\n",
              "    .dataframe tbody tr th {\n",
              "        vertical-align: top;\n",
              "    }\n",
              "\n",
              "    .dataframe thead th {\n",
              "        text-align: right;\n",
              "    }\n",
              "</style>\n",
              "<table border=\"1\" class=\"dataframe\">\n",
              "  <thead>\n",
              "    <tr style=\"text-align: right;\">\n",
              "      <th></th>\n",
              "      <th>App</th>\n",
              "      <th>Category</th>\n",
              "      <th>Rating</th>\n",
              "      <th>Reviews</th>\n",
              "      <th>Size</th>\n",
              "      <th>Installs</th>\n",
              "      <th>Type</th>\n",
              "      <th>Price</th>\n",
              "      <th>Content Rating</th>\n",
              "      <th>Genres</th>\n",
              "      <th>Last Updated</th>\n",
              "      <th>Current Ver</th>\n",
              "      <th>Android Ver</th>\n",
              "    </tr>\n",
              "  </thead>\n",
              "  <tbody>\n",
              "    <tr>\n",
              "      <th>10472</th>\n",
              "      <td>Life Made WI-Fi Touchscreen Photo Frame</td>\n",
              "      <td>1.9</td>\n",
              "      <td>19.0</td>\n",
              "      <td>3.0M</td>\n",
              "      <td>1,000+</td>\n",
              "      <td>Free</td>\n",
              "      <td>0</td>\n",
              "      <td>Everyone</td>\n",
              "      <td>NaN</td>\n",
              "      <td>February 11, 2018</td>\n",
              "      <td>1.0.19</td>\n",
              "      <td>4.0 and up</td>\n",
              "      <td>NaN</td>\n",
              "    </tr>\n",
              "  </tbody>\n",
              "</table>\n",
              "</div>\n",
              "      <button class=\"colab-df-convert\" onclick=\"convertToInteractive('df-bb727341-54b3-4746-8dbd-cad53416aace')\"\n",
              "              title=\"Convert this dataframe to an interactive table.\"\n",
              "              style=\"display:none;\">\n",
              "        \n",
              "  <svg xmlns=\"http://www.w3.org/2000/svg\" height=\"24px\"viewBox=\"0 0 24 24\"\n",
              "       width=\"24px\">\n",
              "    <path d=\"M0 0h24v24H0V0z\" fill=\"none\"/>\n",
              "    <path d=\"M18.56 5.44l.94 2.06.94-2.06 2.06-.94-2.06-.94-.94-2.06-.94 2.06-2.06.94zm-11 1L8.5 8.5l.94-2.06 2.06-.94-2.06-.94L8.5 2.5l-.94 2.06-2.06.94zm10 10l.94 2.06.94-2.06 2.06-.94-2.06-.94-.94-2.06-.94 2.06-2.06.94z\"/><path d=\"M17.41 7.96l-1.37-1.37c-.4-.4-.92-.59-1.43-.59-.52 0-1.04.2-1.43.59L10.3 9.45l-7.72 7.72c-.78.78-.78 2.05 0 2.83L4 21.41c.39.39.9.59 1.41.59.51 0 1.02-.2 1.41-.59l7.78-7.78 2.81-2.81c.8-.78.8-2.07 0-2.86zM5.41 20L4 18.59l7.72-7.72 1.47 1.35L5.41 20z\"/>\n",
              "  </svg>\n",
              "      </button>\n",
              "      \n",
              "  <style>\n",
              "    .colab-df-container {\n",
              "      display:flex;\n",
              "      flex-wrap:wrap;\n",
              "      gap: 12px;\n",
              "    }\n",
              "\n",
              "    .colab-df-convert {\n",
              "      background-color: #E8F0FE;\n",
              "      border: none;\n",
              "      border-radius: 50%;\n",
              "      cursor: pointer;\n",
              "      display: none;\n",
              "      fill: #1967D2;\n",
              "      height: 32px;\n",
              "      padding: 0 0 0 0;\n",
              "      width: 32px;\n",
              "    }\n",
              "\n",
              "    .colab-df-convert:hover {\n",
              "      background-color: #E2EBFA;\n",
              "      box-shadow: 0px 1px 2px rgba(60, 64, 67, 0.3), 0px 1px 3px 1px rgba(60, 64, 67, 0.15);\n",
              "      fill: #174EA6;\n",
              "    }\n",
              "\n",
              "    [theme=dark] .colab-df-convert {\n",
              "      background-color: #3B4455;\n",
              "      fill: #D2E3FC;\n",
              "    }\n",
              "\n",
              "    [theme=dark] .colab-df-convert:hover {\n",
              "      background-color: #434B5C;\n",
              "      box-shadow: 0px 1px 3px 1px rgba(0, 0, 0, 0.15);\n",
              "      filter: drop-shadow(0px 1px 2px rgba(0, 0, 0, 0.3));\n",
              "      fill: #FFFFFF;\n",
              "    }\n",
              "  </style>\n",
              "\n",
              "      <script>\n",
              "        const buttonEl =\n",
              "          document.querySelector('#df-bb727341-54b3-4746-8dbd-cad53416aace button.colab-df-convert');\n",
              "        buttonEl.style.display =\n",
              "          google.colab.kernel.accessAllowed ? 'block' : 'none';\n",
              "\n",
              "        async function convertToInteractive(key) {\n",
              "          const element = document.querySelector('#df-bb727341-54b3-4746-8dbd-cad53416aace');\n",
              "          const dataTable =\n",
              "            await google.colab.kernel.invokeFunction('convertToInteractive',\n",
              "                                                     [key], {});\n",
              "          if (!dataTable) return;\n",
              "\n",
              "          const docLinkHtml = 'Like what you see? Visit the ' +\n",
              "            '<a target=\"_blank\" href=https://colab.research.google.com/notebooks/data_table.ipynb>data table notebook</a>'\n",
              "            + ' to learn more about interactive tables.';\n",
              "          element.innerHTML = '';\n",
              "          dataTable['output_type'] = 'display_data';\n",
              "          await google.colab.output.renderOutput(dataTable, element);\n",
              "          const docLink = document.createElement('div');\n",
              "          docLink.innerHTML = docLinkHtml;\n",
              "          element.appendChild(docLink);\n",
              "        }\n",
              "      </script>\n",
              "    </div>\n",
              "  </div>\n",
              "  "
            ],
            "text/plain": [
              "                                           App Category  ...  Current Ver Android Ver\n",
              "10472  Life Made WI-Fi Touchscreen Photo Frame      1.9  ...   4.0 and up         NaN\n",
              "\n",
              "[1 rows x 13 columns]"
            ]
          },
          "metadata": {},
          "execution_count": 143
        }
      ],
      "source": [
        "df[df['Content Rating'].isnull()]"
      ]
    },
    {
      "cell_type": "markdown",
      "id": "fc960b10",
      "metadata": {
        "id": "fc960b10"
      },
      "source": [
        "This row looks errorneous, so we delete this row from our dataframe to avoid inconsistency. As there is only one row, we can drop it by index as shown below."
      ]
    },
    {
      "cell_type": "code",
      "execution_count": 144,
      "id": "ee6df04a",
      "metadata": {
        "id": "ee6df04a"
      },
      "outputs": [],
      "source": [
        "if 10472 in df.index:\n",
        "    df.drop([10472],inplace=True)"
      ]
    },
    {
      "cell_type": "code",
      "execution_count": 145,
      "id": "743a770a",
      "metadata": {
        "scrolled": true,
        "colab": {
          "base_uri": "https://localhost:8080/",
          "height": 50
        },
        "id": "743a770a",
        "outputId": "aea2ac98-1bf5-4190-bbdb-6d2ff8b2d306"
      },
      "outputs": [
        {
          "output_type": "execute_result",
          "data": {
            "text/html": [
              "\n",
              "  <div id=\"df-9f8939b7-46aa-4d37-8562-9ba0373fb335\">\n",
              "    <div class=\"colab-df-container\">\n",
              "      <div>\n",
              "<style scoped>\n",
              "    .dataframe tbody tr th:only-of-type {\n",
              "        vertical-align: middle;\n",
              "    }\n",
              "\n",
              "    .dataframe tbody tr th {\n",
              "        vertical-align: top;\n",
              "    }\n",
              "\n",
              "    .dataframe thead th {\n",
              "        text-align: right;\n",
              "    }\n",
              "</style>\n",
              "<table border=\"1\" class=\"dataframe\">\n",
              "  <thead>\n",
              "    <tr style=\"text-align: right;\">\n",
              "      <th></th>\n",
              "      <th>App</th>\n",
              "      <th>Category</th>\n",
              "      <th>Rating</th>\n",
              "      <th>Reviews</th>\n",
              "      <th>Size</th>\n",
              "      <th>Installs</th>\n",
              "      <th>Type</th>\n",
              "      <th>Price</th>\n",
              "      <th>Content Rating</th>\n",
              "      <th>Genres</th>\n",
              "      <th>Last Updated</th>\n",
              "      <th>Current Ver</th>\n",
              "      <th>Android Ver</th>\n",
              "    </tr>\n",
              "  </thead>\n",
              "  <tbody>\n",
              "  </tbody>\n",
              "</table>\n",
              "</div>\n",
              "      <button class=\"colab-df-convert\" onclick=\"convertToInteractive('df-9f8939b7-46aa-4d37-8562-9ba0373fb335')\"\n",
              "              title=\"Convert this dataframe to an interactive table.\"\n",
              "              style=\"display:none;\">\n",
              "        \n",
              "  <svg xmlns=\"http://www.w3.org/2000/svg\" height=\"24px\"viewBox=\"0 0 24 24\"\n",
              "       width=\"24px\">\n",
              "    <path d=\"M0 0h24v24H0V0z\" fill=\"none\"/>\n",
              "    <path d=\"M18.56 5.44l.94 2.06.94-2.06 2.06-.94-2.06-.94-.94-2.06-.94 2.06-2.06.94zm-11 1L8.5 8.5l.94-2.06 2.06-.94-2.06-.94L8.5 2.5l-.94 2.06-2.06.94zm10 10l.94 2.06.94-2.06 2.06-.94-2.06-.94-.94-2.06-.94 2.06-2.06.94z\"/><path d=\"M17.41 7.96l-1.37-1.37c-.4-.4-.92-.59-1.43-.59-.52 0-1.04.2-1.43.59L10.3 9.45l-7.72 7.72c-.78.78-.78 2.05 0 2.83L4 21.41c.39.39.9.59 1.41.59.51 0 1.02-.2 1.41-.59l7.78-7.78 2.81-2.81c.8-.78.8-2.07 0-2.86zM5.41 20L4 18.59l7.72-7.72 1.47 1.35L5.41 20z\"/>\n",
              "  </svg>\n",
              "      </button>\n",
              "      \n",
              "  <style>\n",
              "    .colab-df-container {\n",
              "      display:flex;\n",
              "      flex-wrap:wrap;\n",
              "      gap: 12px;\n",
              "    }\n",
              "\n",
              "    .colab-df-convert {\n",
              "      background-color: #E8F0FE;\n",
              "      border: none;\n",
              "      border-radius: 50%;\n",
              "      cursor: pointer;\n",
              "      display: none;\n",
              "      fill: #1967D2;\n",
              "      height: 32px;\n",
              "      padding: 0 0 0 0;\n",
              "      width: 32px;\n",
              "    }\n",
              "\n",
              "    .colab-df-convert:hover {\n",
              "      background-color: #E2EBFA;\n",
              "      box-shadow: 0px 1px 2px rgba(60, 64, 67, 0.3), 0px 1px 3px 1px rgba(60, 64, 67, 0.15);\n",
              "      fill: #174EA6;\n",
              "    }\n",
              "\n",
              "    [theme=dark] .colab-df-convert {\n",
              "      background-color: #3B4455;\n",
              "      fill: #D2E3FC;\n",
              "    }\n",
              "\n",
              "    [theme=dark] .colab-df-convert:hover {\n",
              "      background-color: #434B5C;\n",
              "      box-shadow: 0px 1px 3px 1px rgba(0, 0, 0, 0.15);\n",
              "      filter: drop-shadow(0px 1px 2px rgba(0, 0, 0, 0.3));\n",
              "      fill: #FFFFFF;\n",
              "    }\n",
              "  </style>\n",
              "\n",
              "      <script>\n",
              "        const buttonEl =\n",
              "          document.querySelector('#df-9f8939b7-46aa-4d37-8562-9ba0373fb335 button.colab-df-convert');\n",
              "        buttonEl.style.display =\n",
              "          google.colab.kernel.accessAllowed ? 'block' : 'none';\n",
              "\n",
              "        async function convertToInteractive(key) {\n",
              "          const element = document.querySelector('#df-9f8939b7-46aa-4d37-8562-9ba0373fb335');\n",
              "          const dataTable =\n",
              "            await google.colab.kernel.invokeFunction('convertToInteractive',\n",
              "                                                     [key], {});\n",
              "          if (!dataTable) return;\n",
              "\n",
              "          const docLinkHtml = 'Like what you see? Visit the ' +\n",
              "            '<a target=\"_blank\" href=https://colab.research.google.com/notebooks/data_table.ipynb>data table notebook</a>'\n",
              "            + ' to learn more about interactive tables.';\n",
              "          element.innerHTML = '';\n",
              "          dataTable['output_type'] = 'display_data';\n",
              "          await google.colab.output.renderOutput(dataTable, element);\n",
              "          const docLink = document.createElement('div');\n",
              "          docLink.innerHTML = docLinkHtml;\n",
              "          element.appendChild(docLink);\n",
              "        }\n",
              "      </script>\n",
              "    </div>\n",
              "  </div>\n",
              "  "
            ],
            "text/plain": [
              "Empty DataFrame\n",
              "Columns: [App, Category, Rating, Reviews, Size, Installs, Type, Price, Content Rating, Genres, Last Updated, Current Ver, Android Ver]\n",
              "Index: []"
            ]
          },
          "metadata": {},
          "execution_count": 145
        }
      ],
      "source": [
        "df[df['Content Rating'].isnull()]"
      ]
    },
    {
      "cell_type": "markdown",
      "id": "e2e6d8bf",
      "metadata": {
        "id": "e2e6d8bf"
      },
      "source": [
        "The inconsistent row has been removed successfully!\n",
        "\n",
        "#### Moving on, we need to convert *Price* column's datatype to Float.\n",
        "The price values for paid apps are basically string in the original data, starting with $ symbol. To perform analysis or comparison we have to convert these values into float."
      ]
    },
    {
      "cell_type": "code",
      "execution_count": 146,
      "id": "f3ff0161",
      "metadata": {
        "id": "f3ff0161"
      },
      "outputs": [],
      "source": [
        "paid_price_converted_to_float = False\n",
        "paid_app_price_series = df.loc[df['Type']=='Paid','Price']\n",
        "# paid_app_price_series.head(10)"
      ]
    },
    {
      "cell_type": "code",
      "execution_count": 147,
      "id": "5bf22016",
      "metadata": {
        "id": "5bf22016"
      },
      "outputs": [],
      "source": [
        "indices = []\n",
        "items = []\n",
        "for ind,item in paid_app_price_series.iteritems():\n",
        "    # if paid_price_converted_to_float == False:\n",
        "        # item = float(item.lstrip('$'))\n",
        "        item = float(re.findall(\"[\\d].[\\d]*\", item)[0])\n",
        "        items.append(item)\n",
        "        indices.append(ind)\n",
        "        # paid_price_converted_to_float = True\n"
      ]
    },
    {
      "cell_type": "code",
      "execution_count": 148,
      "id": "f55a8c70",
      "metadata": {
        "id": "f55a8c70"
      },
      "outputs": [],
      "source": [
        "paid_app_price_series.update(pd.Series(items,indices,dtype='float64'))"
      ]
    },
    {
      "cell_type": "code",
      "execution_count": 149,
      "id": "b33e79ee",
      "metadata": {
        "id": "b33e79ee"
      },
      "outputs": [],
      "source": [
        "df.loc[df['Type']=='Paid','Price'] = paid_app_price_series"
      ]
    },
    {
      "cell_type": "code",
      "source": [
        "paid_app_price_series.unique()"
      ],
      "metadata": {
        "colab": {
          "base_uri": "https://localhost:8080/"
        },
        "id": "dV21hhanP08m",
        "outputId": "d6126a55-3209-4af5-f92a-72e3e45d656e"
      },
      "id": "dV21hhanP08m",
      "execution_count": 150,
      "outputs": [
        {
          "output_type": "execute_result",
          "data": {
            "text/plain": [
              "array([4.99, 3.99, 6.99, 1.49, 2.99, 7.99, 5.99, 3.49, 1.99, 9.99, 7.49,\n",
              "       0.99, 9.0, 5.49, 10.0, 24.0, 11.0, 79.0, 16.0, 14.0, 1.0, 29.0,\n",
              "       12.0, 2.49, 1.5, 19.0, 15.0, 33.0, 74.0, 39.0, 3.95, 4.49, 1.7,\n",
              "       8.99, 2.0, 3.88, 25.0, 399.0, 17.0, 400.0, 3.02, 1.76, 4.84, 4.77,\n",
              "       1.61, 2.5, 1.59, 6.49, 1.29, 5.0, 13.0, 299.0, 379.0, 37.0, 18.0,\n",
              "       389.0, 8.49, 1.75, 4.85, 46.0, 109.0, 154.0, 3.08, 2.59, 4.8, 1.96,\n",
              "       3.9, 4.59, 3.04, 4.29, 2.6, 3.28, 4.6, 28.0, 2.95, 2.9, 1.97,\n",
              "       200.0, 89.0, 2.56, 30.0, 3.61, 394.0, 1.26, 1.2, 1.04],\n",
              "      dtype=object)"
            ]
          },
          "metadata": {},
          "execution_count": 150
        }
      ]
    },
    {
      "cell_type": "markdown",
      "id": "e0f817e9",
      "metadata": {
        "id": "e0f817e9"
      },
      "source": [
        "Now convert all entries of *Price* column into float type."
      ]
    },
    {
      "cell_type": "code",
      "execution_count": 151,
      "id": "8559e648",
      "metadata": {
        "id": "8559e648"
      },
      "outputs": [],
      "source": [
        "try:\n",
        "    df['Price'] = df['Price'].astype('float')\n",
        "except ValueError as e:\n",
        "    print(e)"
      ]
    },
    {
      "cell_type": "markdown",
      "id": "f30566ef",
      "metadata": {
        "id": "f30566ef"
      },
      "source": [
        "#### Check for any duplicate values"
      ]
    },
    {
      "cell_type": "code",
      "execution_count": 152,
      "id": "e5fa18b9",
      "metadata": {
        "id": "e5fa18b9"
      },
      "outputs": [],
      "source": [
        "grouped_df = df.groupby(df.columns.tolist(),as_index=False).size()"
      ]
    },
    {
      "cell_type": "code",
      "execution_count": 153,
      "id": "e49b1077",
      "metadata": {
        "colab": {
          "base_uri": "https://localhost:8080/"
        },
        "id": "e49b1077",
        "outputId": "f0a4cffd-39f9-4dd2-d21b-4fd4ee5c3b52"
      },
      "outputs": [
        {
          "output_type": "execute_result",
          "data": {
            "text/plain": [
              "483"
            ]
          },
          "metadata": {},
          "execution_count": 153
        }
      ],
      "source": [
        "df.duplicated(keep='first').sum()"
      ]
    },
    {
      "cell_type": "markdown",
      "id": "d02bca9c",
      "metadata": {
        "id": "d02bca9c"
      },
      "source": [
        "There are 482 duplicate rows, which are dropped in the following cell."
      ]
    },
    {
      "cell_type": "code",
      "execution_count": 154,
      "id": "fd87bf99",
      "metadata": {
        "colab": {
          "base_uri": "https://localhost:8080/"
        },
        "id": "fd87bf99",
        "outputId": "40da3175-0ff3-4cb0-8926-82123632dd8f"
      },
      "outputs": [
        {
          "output_type": "execute_result",
          "data": {
            "text/plain": [
              "0"
            ]
          },
          "metadata": {},
          "execution_count": 154
        }
      ],
      "source": [
        "df.drop_duplicates(keep='first',inplace=True)\n",
        "df.duplicated(keep='first').sum()"
      ]
    },
    {
      "cell_type": "code",
      "execution_count": 155,
      "id": "583939fc",
      "metadata": {
        "colab": {
          "base_uri": "https://localhost:8080/"
        },
        "id": "583939fc",
        "outputId": "0afeb9de-effd-4157-c6e2-d17a0115cf26"
      },
      "outputs": [
        {
          "output_type": "execute_result",
          "data": {
            "text/plain": [
              "(10357, 13)"
            ]
          },
          "metadata": {},
          "execution_count": 155
        }
      ],
      "source": [
        "df.shape"
      ]
    },
    {
      "cell_type": "markdown",
      "id": "08c9ca5d",
      "metadata": {
        "id": "08c9ca5d"
      },
      "source": [
        "#### Now our updated data is left with 10358 unique records.\n",
        "\n",
        "#### We also need to convert *Installs* into int datatype."
      ]
    },
    {
      "cell_type": "code",
      "execution_count": 156,
      "id": "ad994397",
      "metadata": {
        "colab": {
          "base_uri": "https://localhost:8080/"
        },
        "id": "ad994397",
        "outputId": "c8a3fced-9a0f-4bf0-9962-e51d3325740a"
      },
      "outputs": [
        {
          "output_type": "execute_result",
          "data": {
            "text/plain": [
              "0            10,000+\n",
              "1           500,000+\n",
              "2         5,000,000+\n",
              "3        50,000,000+\n",
              "4           100,000+\n",
              "            ...     \n",
              "10836         5,000+\n",
              "10837           100+\n",
              "10838         1,000+\n",
              "10839         1,000+\n",
              "10840    10,000,000+\n",
              "Name: Installs, Length: 10357, dtype: object"
            ]
          },
          "metadata": {},
          "execution_count": 156
        }
      ],
      "source": [
        "df['Installs']"
      ]
    },
    {
      "cell_type": "code",
      "execution_count": 157,
      "id": "b2ff508e",
      "metadata": {
        "id": "b2ff508e"
      },
      "outputs": [],
      "source": [
        "no_of_installs_series = df['Installs']"
      ]
    },
    {
      "cell_type": "code",
      "execution_count": 158,
      "id": "688add74",
      "metadata": {
        "id": "688add74"
      },
      "outputs": [],
      "source": [
        "indices = []\n",
        "items = []\n",
        "for ind,item in no_of_installs_series.iteritems():\n",
        "    item = item.replace(',','')\n",
        "    item = int(float(item.rstrip('+')))\n",
        "#     print(type(item))\n",
        "    indices.append(ind)\n",
        "    items.append(item)"
      ]
    },
    {
      "cell_type": "code",
      "execution_count": 159,
      "id": "75b81767",
      "metadata": {
        "id": "75b81767"
      },
      "outputs": [],
      "source": [
        "no_of_installs_series.update(pd.Series(items,indices,dtype='int64'))"
      ]
    },
    {
      "cell_type": "code",
      "execution_count": 160,
      "id": "b66f4195",
      "metadata": {
        "id": "b66f4195"
      },
      "outputs": [],
      "source": [
        "df['Installs'] = no_of_installs_series"
      ]
    },
    {
      "cell_type": "code",
      "execution_count": 161,
      "id": "53154c3d",
      "metadata": {
        "scrolled": true,
        "colab": {
          "base_uri": "https://localhost:8080/"
        },
        "id": "53154c3d",
        "outputId": "a34216b7-35c0-4904-c7df-bd72cb61d7b2"
      },
      "outputs": [
        {
          "output_type": "execute_result",
          "data": {
            "text/plain": [
              "0           10000\n",
              "1          500000\n",
              "2         5000000\n",
              "3        50000000\n",
              "4          100000\n",
              "           ...   \n",
              "10836        5000\n",
              "10837         100\n",
              "10838        1000\n",
              "10839        1000\n",
              "10840    10000000\n",
              "Name: Installs, Length: 10357, dtype: int64"
            ]
          },
          "metadata": {},
          "execution_count": 161
        }
      ],
      "source": [
        "df['Installs'] = df['Installs'].astype('int')\n",
        "df['Installs']"
      ]
    },
    {
      "cell_type": "markdown",
      "id": "87187edc",
      "metadata": {
        "id": "87187edc"
      },
      "source": [
        "The *Installs* column has now been converted into integer type.\n",
        "#### Now we need to make sure that *Size* column is in proper format."
      ]
    },
    {
      "cell_type": "code",
      "execution_count": 162,
      "id": "bc17cd2d",
      "metadata": {
        "colab": {
          "base_uri": "https://localhost:8080/"
        },
        "id": "bc17cd2d",
        "outputId": "257617ff-5b06-4589-8086-829ee3354da9"
      },
      "outputs": [
        {
          "output_type": "execute_result",
          "data": {
            "text/plain": [
              "0                       19M\n",
              "1                       14M\n",
              "2                      8.7M\n",
              "3                       25M\n",
              "4                      2.8M\n",
              "                ...        \n",
              "10836                   53M\n",
              "10837                  3.6M\n",
              "10838                  9.5M\n",
              "10839    Varies with device\n",
              "10840                   19M\n",
              "Name: Size, Length: 10357, dtype: object"
            ]
          },
          "metadata": {},
          "execution_count": 162
        }
      ],
      "source": [
        "df['Size']"
      ]
    },
    {
      "cell_type": "markdown",
      "id": "01e3f937",
      "metadata": {
        "id": "01e3f937"
      },
      "source": [
        "For proper quantitative analysis, we need to convert this column into numeric type.\n",
        "For many records, *Size* column has the value *Varies with device*. We can assign a special value -1 for records having Size = Varies with device. For the remaining, we will convert them into number of bytes. "
      ]
    },
    {
      "cell_type": "code",
      "execution_count": 163,
      "id": "bdd4be6b",
      "metadata": {
        "id": "bdd4be6b"
      },
      "outputs": [],
      "source": [
        "size_series = df['Size']"
      ]
    },
    {
      "cell_type": "code",
      "execution_count": 164,
      "id": "dee2c593",
      "metadata": {
        "id": "dee2c593"
      },
      "outputs": [],
      "source": [
        "items = []\n",
        "indices = []\n",
        "for ind,item in size_series.iteritems():\n",
        "    if item == 'Varies with device':\n",
        "        n = float(-1)\n",
        "    else:\n",
        "        size_identifier = item[-1] #gets the last character to know if it is M (for MB) or K (for KB)\n",
        "        if size_identifier == 'M' or size_identifier == 'm':\n",
        "            n = float(item[:len(item)-1]) \n",
        "        elif size_identifier == 'K' or size_identifier == 'k':\n",
        "            n = float(item[:len(item)-1]) / 1000\n",
        "    items.append(n)\n",
        "    indices.append(ind)"
      ]
    },
    {
      "cell_type": "code",
      "execution_count": 165,
      "id": "9b97b747",
      "metadata": {
        "id": "9b97b747"
      },
      "outputs": [],
      "source": [
        "size_series.update(pd.Series(items,indices,dtype='float64'))\n",
        "df['Size'] = size_series"
      ]
    },
    {
      "cell_type": "code",
      "execution_count": 166,
      "id": "2aa500cd",
      "metadata": {
        "scrolled": true,
        "colab": {
          "base_uri": "https://localhost:8080/"
        },
        "id": "2aa500cd",
        "outputId": "809c0965-d144-4bf6-fc4b-7717afbba37b"
      },
      "outputs": [
        {
          "output_type": "execute_result",
          "data": {
            "text/plain": [
              "0        19.0\n",
              "1        14.0\n",
              "2         8.7\n",
              "3        25.0\n",
              "4         2.8\n",
              "         ... \n",
              "10836    53.0\n",
              "10837     3.6\n",
              "10838     9.5\n",
              "10839    -1.0\n",
              "10840    19.0\n",
              "Name: Size, Length: 10357, dtype: float64"
            ]
          },
          "metadata": {},
          "execution_count": 166
        }
      ],
      "source": [
        "df['Size'] = df['Size'].astype('float64')\n",
        "df['Size']"
      ]
    },
    {
      "cell_type": "markdown",
      "id": "c7d98acd",
      "metadata": {
        "id": "c7d98acd"
      },
      "source": [
        "### Convert the *Last Updated* column into *Date* format."
      ]
    },
    {
      "cell_type": "code",
      "execution_count": 167,
      "id": "fadcaf60",
      "metadata": {
        "scrolled": true,
        "colab": {
          "base_uri": "https://localhost:8080/"
        },
        "id": "fadcaf60",
        "outputId": "7a18e576-c5b3-428a-cfc6-9057bfddbf81"
      },
      "outputs": [
        {
          "output_type": "execute_result",
          "data": {
            "text/plain": [
              "0         January 7, 2018\n",
              "1        January 15, 2018\n",
              "2          August 1, 2018\n",
              "3            June 8, 2018\n",
              "4           June 20, 2018\n",
              "               ...       \n",
              "10836       July 25, 2017\n",
              "10837        July 6, 2018\n",
              "10838    January 20, 2017\n",
              "10839    January 19, 2015\n",
              "10840       July 25, 2018\n",
              "Name: Last Updated, Length: 10357, dtype: object"
            ]
          },
          "metadata": {},
          "execution_count": 167
        }
      ],
      "source": [
        "df['Last Updated']"
      ]
    },
    {
      "cell_type": "code",
      "execution_count": 168,
      "id": "24f18d99",
      "metadata": {
        "id": "24f18d99"
      },
      "outputs": [],
      "source": [
        "from datetime import datetime"
      ]
    },
    {
      "cell_type": "code",
      "execution_count": 169,
      "id": "06c4fcd9",
      "metadata": {
        "id": "06c4fcd9"
      },
      "outputs": [],
      "source": [
        "# converting month strings to numbers\n",
        "date_series = df['Last Updated']"
      ]
    },
    {
      "cell_type": "code",
      "execution_count": 170,
      "id": "9b65cb49",
      "metadata": {
        "id": "9b65cb49"
      },
      "outputs": [],
      "source": [
        "date_objs = []\n",
        "date_ind = []\n",
        "for index, date_str in date_series.iteritems():\n",
        "    month,date,year = date_str.split(' ')\n",
        "    datetime_object = datetime.strptime(date_str, \"%B %d, %Y\")\n",
        "    date_objs.append(datetime_object)\n",
        "    date_ind.append(index)"
      ]
    },
    {
      "cell_type": "code",
      "execution_count": 171,
      "id": "4900f1dc",
      "metadata": {
        "id": "4900f1dc"
      },
      "outputs": [],
      "source": [
        "date_series.update(pd.Series(date_objs,date_ind))"
      ]
    },
    {
      "cell_type": "code",
      "execution_count": 172,
      "id": "22a3b22e",
      "metadata": {
        "id": "22a3b22e"
      },
      "outputs": [],
      "source": [
        "df['Last Updated'] = date_series"
      ]
    },
    {
      "cell_type": "code",
      "execution_count": 173,
      "id": "d07a84ba",
      "metadata": {
        "colab": {
          "base_uri": "https://localhost:8080/",
          "height": 112
        },
        "id": "d07a84ba",
        "outputId": "917de27b-b3c0-4bd8-ddb9-2e0c72aa230e"
      },
      "outputs": [
        {
          "output_type": "execute_result",
          "data": {
            "text/html": [
              "\n",
              "  <div id=\"df-64e69a06-12f8-4c4d-994a-639d6c20d0e9\">\n",
              "    <div class=\"colab-df-container\">\n",
              "      <div>\n",
              "<style scoped>\n",
              "    .dataframe tbody tr th:only-of-type {\n",
              "        vertical-align: middle;\n",
              "    }\n",
              "\n",
              "    .dataframe tbody tr th {\n",
              "        vertical-align: top;\n",
              "    }\n",
              "\n",
              "    .dataframe thead th {\n",
              "        text-align: right;\n",
              "    }\n",
              "</style>\n",
              "<table border=\"1\" class=\"dataframe\">\n",
              "  <thead>\n",
              "    <tr style=\"text-align: right;\">\n",
              "      <th></th>\n",
              "      <th>App</th>\n",
              "      <th>Category</th>\n",
              "      <th>Rating</th>\n",
              "      <th>Reviews</th>\n",
              "      <th>Size</th>\n",
              "      <th>Installs</th>\n",
              "      <th>Type</th>\n",
              "      <th>Price</th>\n",
              "      <th>Content Rating</th>\n",
              "      <th>Genres</th>\n",
              "      <th>Last Updated</th>\n",
              "      <th>Current Ver</th>\n",
              "      <th>Android Ver</th>\n",
              "    </tr>\n",
              "  </thead>\n",
              "  <tbody>\n",
              "    <tr>\n",
              "      <th>0</th>\n",
              "      <td>Photo Editor &amp; Candy Camera &amp; Grid &amp; ScrapBook</td>\n",
              "      <td>ART_AND_DESIGN</td>\n",
              "      <td>4.1</td>\n",
              "      <td>159</td>\n",
              "      <td>19.0</td>\n",
              "      <td>10000</td>\n",
              "      <td>Free</td>\n",
              "      <td>0.0</td>\n",
              "      <td>Everyone</td>\n",
              "      <td>Art &amp; Design</td>\n",
              "      <td>2018-01-07 00:00:00</td>\n",
              "      <td>1.0.0</td>\n",
              "      <td>4.0.3 and up</td>\n",
              "    </tr>\n",
              "    <tr>\n",
              "      <th>1</th>\n",
              "      <td>Coloring book moana</td>\n",
              "      <td>ART_AND_DESIGN</td>\n",
              "      <td>3.9</td>\n",
              "      <td>967</td>\n",
              "      <td>14.0</td>\n",
              "      <td>500000</td>\n",
              "      <td>Free</td>\n",
              "      <td>0.0</td>\n",
              "      <td>Everyone</td>\n",
              "      <td>Art &amp; Design;Pretend Play</td>\n",
              "      <td>2018-01-15 00:00:00</td>\n",
              "      <td>2.0.0</td>\n",
              "      <td>4.0.3 and up</td>\n",
              "    </tr>\n",
              "  </tbody>\n",
              "</table>\n",
              "</div>\n",
              "      <button class=\"colab-df-convert\" onclick=\"convertToInteractive('df-64e69a06-12f8-4c4d-994a-639d6c20d0e9')\"\n",
              "              title=\"Convert this dataframe to an interactive table.\"\n",
              "              style=\"display:none;\">\n",
              "        \n",
              "  <svg xmlns=\"http://www.w3.org/2000/svg\" height=\"24px\"viewBox=\"0 0 24 24\"\n",
              "       width=\"24px\">\n",
              "    <path d=\"M0 0h24v24H0V0z\" fill=\"none\"/>\n",
              "    <path d=\"M18.56 5.44l.94 2.06.94-2.06 2.06-.94-2.06-.94-.94-2.06-.94 2.06-2.06.94zm-11 1L8.5 8.5l.94-2.06 2.06-.94-2.06-.94L8.5 2.5l-.94 2.06-2.06.94zm10 10l.94 2.06.94-2.06 2.06-.94-2.06-.94-.94-2.06-.94 2.06-2.06.94z\"/><path d=\"M17.41 7.96l-1.37-1.37c-.4-.4-.92-.59-1.43-.59-.52 0-1.04.2-1.43.59L10.3 9.45l-7.72 7.72c-.78.78-.78 2.05 0 2.83L4 21.41c.39.39.9.59 1.41.59.51 0 1.02-.2 1.41-.59l7.78-7.78 2.81-2.81c.8-.78.8-2.07 0-2.86zM5.41 20L4 18.59l7.72-7.72 1.47 1.35L5.41 20z\"/>\n",
              "  </svg>\n",
              "      </button>\n",
              "      \n",
              "  <style>\n",
              "    .colab-df-container {\n",
              "      display:flex;\n",
              "      flex-wrap:wrap;\n",
              "      gap: 12px;\n",
              "    }\n",
              "\n",
              "    .colab-df-convert {\n",
              "      background-color: #E8F0FE;\n",
              "      border: none;\n",
              "      border-radius: 50%;\n",
              "      cursor: pointer;\n",
              "      display: none;\n",
              "      fill: #1967D2;\n",
              "      height: 32px;\n",
              "      padding: 0 0 0 0;\n",
              "      width: 32px;\n",
              "    }\n",
              "\n",
              "    .colab-df-convert:hover {\n",
              "      background-color: #E2EBFA;\n",
              "      box-shadow: 0px 1px 2px rgba(60, 64, 67, 0.3), 0px 1px 3px 1px rgba(60, 64, 67, 0.15);\n",
              "      fill: #174EA6;\n",
              "    }\n",
              "\n",
              "    [theme=dark] .colab-df-convert {\n",
              "      background-color: #3B4455;\n",
              "      fill: #D2E3FC;\n",
              "    }\n",
              "\n",
              "    [theme=dark] .colab-df-convert:hover {\n",
              "      background-color: #434B5C;\n",
              "      box-shadow: 0px 1px 3px 1px rgba(0, 0, 0, 0.15);\n",
              "      filter: drop-shadow(0px 1px 2px rgba(0, 0, 0, 0.3));\n",
              "      fill: #FFFFFF;\n",
              "    }\n",
              "  </style>\n",
              "\n",
              "      <script>\n",
              "        const buttonEl =\n",
              "          document.querySelector('#df-64e69a06-12f8-4c4d-994a-639d6c20d0e9 button.colab-df-convert');\n",
              "        buttonEl.style.display =\n",
              "          google.colab.kernel.accessAllowed ? 'block' : 'none';\n",
              "\n",
              "        async function convertToInteractive(key) {\n",
              "          const element = document.querySelector('#df-64e69a06-12f8-4c4d-994a-639d6c20d0e9');\n",
              "          const dataTable =\n",
              "            await google.colab.kernel.invokeFunction('convertToInteractive',\n",
              "                                                     [key], {});\n",
              "          if (!dataTable) return;\n",
              "\n",
              "          const docLinkHtml = 'Like what you see? Visit the ' +\n",
              "            '<a target=\"_blank\" href=https://colab.research.google.com/notebooks/data_table.ipynb>data table notebook</a>'\n",
              "            + ' to learn more about interactive tables.';\n",
              "          element.innerHTML = '';\n",
              "          dataTable['output_type'] = 'display_data';\n",
              "          await google.colab.output.renderOutput(dataTable, element);\n",
              "          const docLink = document.createElement('div');\n",
              "          docLink.innerHTML = docLinkHtml;\n",
              "          element.appendChild(docLink);\n",
              "        }\n",
              "      </script>\n",
              "    </div>\n",
              "  </div>\n",
              "  "
            ],
            "text/plain": [
              "                                              App  ...   Android Ver\n",
              "0  Photo Editor & Candy Camera & Grid & ScrapBook  ...  4.0.3 and up\n",
              "1                             Coloring book moana  ...  4.0.3 and up\n",
              "\n",
              "[2 rows x 13 columns]"
            ]
          },
          "metadata": {},
          "execution_count": 173
        }
      ],
      "source": [
        "df.head(2)"
      ]
    },
    {
      "cell_type": "markdown",
      "id": "334c3e58",
      "metadata": {
        "id": "334c3e58"
      },
      "source": [
        "We can see that the *Last Updated* column is now converted into python Datetime datatype.\n",
        "Now we will modify the representation of *Category* column for better readability."
      ]
    },
    {
      "cell_type": "code",
      "execution_count": 174,
      "id": "f5bba181",
      "metadata": {
        "colab": {
          "base_uri": "https://localhost:8080/"
        },
        "id": "f5bba181",
        "outputId": "621be373-d767-4108-df74-8a08b9b6d726"
      },
      "outputs": [
        {
          "output_type": "execute_result",
          "data": {
            "text/plain": [
              "array(['ART_AND_DESIGN', 'AUTO_AND_VEHICLES', 'BEAUTY',\n",
              "       'BOOKS_AND_REFERENCE', 'BUSINESS', 'COMICS', 'COMMUNICATION',\n",
              "       'DATING', 'EDUCATION', 'ENTERTAINMENT', 'EVENTS', 'FINANCE',\n",
              "       'FOOD_AND_DRINK', 'HEALTH_AND_FITNESS', 'HOUSE_AND_HOME',\n",
              "       'LIBRARIES_AND_DEMO', 'LIFESTYLE', 'GAME', 'FAMILY', 'MEDICAL',\n",
              "       'SOCIAL', 'SHOPPING', 'PHOTOGRAPHY', 'SPORTS', 'TRAVEL_AND_LOCAL',\n",
              "       'TOOLS', 'PERSONALIZATION', 'PRODUCTIVITY', 'PARENTING', 'WEATHER',\n",
              "       'VIDEO_PLAYERS', 'NEWS_AND_MAGAZINES', 'MAPS_AND_NAVIGATION'],\n",
              "      dtype=object)"
            ]
          },
          "metadata": {},
          "execution_count": 174
        }
      ],
      "source": [
        "df['Category'].unique()"
      ]
    },
    {
      "cell_type": "markdown",
      "id": "d719ac54",
      "metadata": {
        "id": "d719ac54"
      },
      "source": [
        "Remove the underscores from the category strings and convert them into titlecase i.e. capitalize first letter of each string."
      ]
    },
    {
      "cell_type": "code",
      "execution_count": 175,
      "id": "343d74b3",
      "metadata": {
        "id": "343d74b3"
      },
      "outputs": [],
      "source": [
        "cat_list = []\n",
        "cat_ind = []\n",
        "category = df['Category']\n",
        "for ind, cat in category.iteritems():\n",
        "    cat = cat.replace('_',' ')\n",
        "    cat = cat.capitalize()\n",
        "    cat_list.append(cat)\n",
        "    cat_ind.append(ind)\n",
        "category.update(pd.Series(cat_list,cat_ind))\n",
        "df['Category'] = category"
      ]
    },
    {
      "cell_type": "code",
      "execution_count": 176,
      "id": "b0198978",
      "metadata": {
        "scrolled": true,
        "colab": {
          "base_uri": "https://localhost:8080/"
        },
        "id": "b0198978",
        "outputId": "adc74dd6-19ab-4adc-fed1-96b0c8b7680e"
      },
      "outputs": [
        {
          "output_type": "execute_result",
          "data": {
            "text/plain": [
              "array(['Art and design', 'Auto and vehicles', 'Beauty',\n",
              "       'Books and reference', 'Business', 'Comics', 'Communication',\n",
              "       'Dating', 'Education', 'Entertainment', 'Events', 'Finance',\n",
              "       'Food and drink', 'Health and fitness', 'House and home',\n",
              "       'Libraries and demo', 'Lifestyle', 'Game', 'Family', 'Medical',\n",
              "       'Social', 'Shopping', 'Photography', 'Sports', 'Travel and local',\n",
              "       'Tools', 'Personalization', 'Productivity', 'Parenting', 'Weather',\n",
              "       'Video players', 'News and magazines', 'Maps and navigation'],\n",
              "      dtype=object)"
            ]
          },
          "metadata": {},
          "execution_count": 176
        }
      ],
      "source": [
        "df['Category'].unique()"
      ]
    },
    {
      "cell_type": "markdown",
      "id": "209b3224",
      "metadata": {
        "id": "209b3224"
      },
      "source": [
        "\n",
        "### Now our data seems ready to be inserted into the relational database!"
      ]
    },
    {
      "cell_type": "markdown",
      "id": "f51979c3",
      "metadata": {
        "id": "f51979c3"
      },
      "source": [
        "## Database Schema\n",
        "The database consists of following tables:"
      ]
    },
    {
      "cell_type": "markdown",
      "source": [
        "\n",
        "**Category** : This lookup stores unique categories\n",
        "```\n",
        "+---------------+----------+--------+-------------------------+---------+\n",
        "| Column        |Data Type | PK     | FK                      | Is Null |\n",
        "+---------------+----------+--------+-------------------------+---------+\n",
        "| category_id   | Integer  | True   | True (App->category_id) | False   |\n",
        "| category_name | Text     | False  | False                   | False   |\n",
        "+---------------+----------+--------+-------------------------+---------+\n",
        "```\n",
        "**Payment** : This lookup stores unique payment types (free/paid)\n",
        "```\n",
        "+---------------+----------+--------+--------------------------------+----------+\n",
        "| Column        |Data Type | PK     | FK                             | Is Null  |\n",
        "+---------------+----------+--------+--------------------------------+----------+\n",
        "| type_id       | Integer  | True   | True (App->payment_type_id)    | False    |\n",
        "| type_desc     | Text     | False  | False                          | False    |\n",
        "+---------------+----------+--------+--------------------------------+----------+\n",
        "```\n",
        "**ContentRating** : This table stores unique content ratings\n",
        "```\n",
        "+---------------+----------+--------+--------------------------------+-----------+\n",
        "| Column        |Data Type | PK     | FK                             | Is Null   |\n",
        "+---------------+----------+--------+--------------------------------+-----------+\n",
        "| rating_id     | Integer  | True   | True (App->cr_id)              | False     |\n",
        "| rating_desc   | Text     | False  | False                          | False     |\n",
        "+---------------+----------+--------+--------------------------------+-----------+\n",
        "```\n",
        "**App** : This is the main entity we're interested in, all other tables linked via FK relationship\n",
        "```\n",
        "+-----------------+----------+--------+--------------------------------+----------+\n",
        "| Column          |Data Type | PK     | FK                             | Is Null  |\n",
        "+-----------------+----------+--------+--------------------------------+----------+\n",
        "| app_id          | Integer  | True   | False                          | False    |\n",
        "| app_name        | Text     | False  | False                          | False    | \n",
        "| category_id     | Integer  | False  | True (Category->category_id)   | False    |\n",
        "| ratings         | Float    | False  | False                          | True     |\n",
        "| review_count    | Integer  | False  | False                          | False    |\n",
        "| size            | Float    | False  | False                          | False    |\n",
        "| installs_count  | Integer  | False  | False                          | False    |\n",
        "| payment_type_id | Integer  | False  | True (Payment->type_id)        | False    |\n",
        "| cr_id           | Integer  | False  | True (ContentRating->rating_id)| False    |\n",
        "| last_updated    | Date     | False  | False                          | False    |\n",
        "| curr_app_ver    | Text     | False  | False                          | False    |\n",
        "| base_android_ver| Text     | False  | False                          | False    |\n",
        "+-----------------+----------+--------+--------------------------------+----------+\n",
        "```"
      ],
      "metadata": {
        "id": "wcjmNE4mqYr3"
      },
      "id": "wcjmNE4mqYr3"
    },
    {
      "cell_type": "markdown",
      "id": "7b86004c",
      "metadata": {
        "id": "7b86004c"
      },
      "source": [
        "## Utility functions\n",
        "### Function to create database"
      ]
    },
    {
      "cell_type": "code",
      "execution_count": 177,
      "id": "34c72085",
      "metadata": {
        "id": "34c72085"
      },
      "outputs": [],
      "source": [
        "def create_connection(db_file, delete_db=False):\n",
        "    import os\n",
        "    if delete_db and os.path.exists(db_file):\n",
        "        os.remove(db_file)\n",
        "\n",
        "    conn = None\n",
        "    try:\n",
        "        conn = sqlite3.connect(db_file)\n",
        "        conn.execute(\"PRAGMA foreign_keys = 1\")\n",
        "    except Error as e:\n",
        "        print(e)\n",
        "\n",
        "    return conn"
      ]
    },
    {
      "cell_type": "markdown",
      "id": "53d24b5d",
      "metadata": {
        "id": "53d24b5d"
      },
      "source": [
        "We call the function *create_connection()* to create an instance of database namely *app_db*."
      ]
    },
    {
      "cell_type": "code",
      "execution_count": 178,
      "id": "90045d35",
      "metadata": {
        "id": "90045d35"
      },
      "outputs": [],
      "source": [
        "db_filename = 'app_db'"
      ]
    },
    {
      "cell_type": "markdown",
      "id": "fc85c339",
      "metadata": {
        "id": "fc85c339"
      },
      "source": [
        "### Function to create a table"
      ]
    },
    {
      "cell_type": "code",
      "execution_count": 179,
      "id": "065c2a9a",
      "metadata": {
        "id": "065c2a9a"
      },
      "outputs": [],
      "source": [
        "def create_table(conn, create_table_sql, drop_table_name=None):\n",
        "    \n",
        "    if drop_table_name: # You can optionally pass drop_table_name to drop the table. \n",
        "        try:\n",
        "            c = conn.cursor()\n",
        "            c.execute(\"\"\"DROP TABLE IF EXISTS %s\"\"\" % (drop_table_name))\n",
        "        except Error as e:\n",
        "            print(e)\n",
        "    \n",
        "    try:\n",
        "        c = conn.cursor()\n",
        "        c.execute(create_table_sql)\n",
        "    except Error as e:\n",
        "        print(e)"
      ]
    },
    {
      "cell_type": "markdown",
      "id": "1ba0baff",
      "metadata": {
        "id": "1ba0baff"
      },
      "source": [
        "## Create the Category table\n",
        "- Create the Category table:\n",
        "```SQL\n",
        "Category\n",
        "    [category_id] Integer not null primary key\n",
        "    [category_name] Text not null\n",
        "```\n",
        "- Get the distinct/unique categories from the dataframe and insert them into the table.\n"
      ]
    },
    {
      "cell_type": "code",
      "execution_count": 180,
      "id": "209410d1",
      "metadata": {
        "scrolled": true,
        "colab": {
          "base_uri": "https://localhost:8080/"
        },
        "id": "209410d1",
        "outputId": "f89fea0f-deae-4e86-f93e-220d6ec6e31a"
      },
      "outputs": [
        {
          "output_type": "stream",
          "name": "stdout",
          "text": [
            "    category_id        category_name\n",
            "0             1       Art and design\n",
            "1             2    Auto and vehicles\n",
            "2             3               Beauty\n",
            "3             4  Books and reference\n",
            "4             5             Business\n",
            "5             6               Comics\n",
            "6             7        Communication\n",
            "7             8               Dating\n",
            "8             9            Education\n",
            "9            10        Entertainment\n",
            "10           11               Events\n",
            "11           12               Family\n",
            "12           13              Finance\n",
            "13           14       Food and drink\n",
            "14           15                 Game\n",
            "15           16   Health and fitness\n",
            "16           17       House and home\n",
            "17           18   Libraries and demo\n",
            "18           19            Lifestyle\n",
            "19           20  Maps and navigation\n",
            "20           21              Medical\n",
            "21           22   News and magazines\n",
            "22           23            Parenting\n",
            "23           24      Personalization\n",
            "24           25          Photography\n",
            "25           26         Productivity\n",
            "26           27             Shopping\n",
            "27           28               Social\n",
            "28           29               Sports\n",
            "29           30                Tools\n",
            "30           31     Travel and local\n",
            "31           32        Video players\n",
            "32           33              Weather\n"
          ]
        }
      ],
      "source": [
        "categories = sorted(df['Category'].unique().tolist()) # get unique categories, convert them into list, sort alphabetically\n",
        "# print(type(categories))\n",
        "conn = create_connection(db_filename)\n",
        "with conn:\n",
        "    c = conn.cursor()\n",
        "    sql_statement = '''Create table Category (category_id integer not null primary key, category_name text not null)'''\n",
        "    create_table(conn, sql_statement, 'Category')\n",
        "    for cat in categories:\n",
        "        c.execute('''Insert into Category (category_name) values (?)''',(cat,))\n",
        "    c.execute('''Select * from Category''')\n",
        "    print(pd.read_sql_query(\"SELECT * FROM Category\", conn))\n",
        "conn.close()"
      ]
    },
    {
      "cell_type": "markdown",
      "id": "9c5065e7",
      "metadata": {
        "id": "9c5065e7"
      },
      "source": [
        "#### Create category_desc to category_id dictionary"
      ]
    },
    {
      "cell_type": "code",
      "execution_count": 181,
      "id": "23135740",
      "metadata": {
        "id": "23135740"
      },
      "outputs": [],
      "source": [
        "def cat_desc_to_cat_id_dict(db_filename):\n",
        "    conn = create_connection(db_filename)\n",
        "    category_dict = {}\n",
        "    with conn:\n",
        "        c = conn.cursor()\n",
        "        c.execute('''Select * from Category''')\n",
        "        output = c.fetchall()\n",
        "        for tpl in output:\n",
        "            category_dict[tpl[1]] = tpl[0]\n",
        "    return category_dict"
      ]
    },
    {
      "cell_type": "markdown",
      "id": "9ffca23a",
      "metadata": {
        "id": "9ffca23a"
      },
      "source": [
        "### Create the Payment table\n",
        "\n",
        "```SQL\n",
        "Payment\n",
        "    [type_id] Integer not null primary key\n",
        "    [type_desc] Text not null\n",
        "```"
      ]
    },
    {
      "cell_type": "code",
      "execution_count": 182,
      "id": "3ab2b4d3",
      "metadata": {
        "scrolled": true,
        "colab": {
          "base_uri": "https://localhost:8080/"
        },
        "id": "3ab2b4d3",
        "outputId": "488cac2e-2bf0-472c-e108-af8c5de519f0"
      },
      "outputs": [
        {
          "output_type": "stream",
          "name": "stdout",
          "text": [
            "   type_id type_desc\n",
            "0        1      Paid\n",
            "1        2      Free\n"
          ]
        }
      ],
      "source": [
        "payment_type = ['Paid','Free']\n",
        "conn = create_connection(db_filename)\n",
        "with conn:\n",
        "    sql_statement = '''Create table Payment (type_id Integer not null primary key, type_desc Text not null)'''\n",
        "    create_table(conn,sql_statement,'Payment')\n",
        "    c = conn.cursor()\n",
        "    for i in payment_type:\n",
        "        c.execute('''Insert into Payment (type_desc) values (?)''',(i,))\n",
        "    print(pd.read_sql_query('''Select * from Payment''',conn))"
      ]
    },
    {
      "cell_type": "markdown",
      "id": "36fd088c",
      "metadata": {
        "id": "36fd088c"
      },
      "source": [
        "#### Create dictionary to map type_desc to type_id"
      ]
    },
    {
      "cell_type": "code",
      "execution_count": 183,
      "id": "fe1837ff",
      "metadata": {
        "id": "fe1837ff"
      },
      "outputs": [],
      "source": [
        "def type_desc_to_type_id_dict(db_filename):\n",
        "    conn = create_connection(db_filename)\n",
        "    type_dict = {}\n",
        "    with conn:\n",
        "        c = conn.cursor()\n",
        "        c.execute('''Select * from Payment''')\n",
        "        output = c.fetchall()\n",
        "        for tpl in output:\n",
        "            type_dict[tpl[1]] = tpl[0]\n",
        "    return type_dict"
      ]
    },
    {
      "cell_type": "markdown",
      "id": "743a7142",
      "metadata": {
        "id": "743a7142"
      },
      "source": [
        "### Create the ContentRating table\n",
        "```SQL\n",
        "ContentRating\n",
        "    [rating_id] Integer not null primary key\n",
        "    [rating_desc] Text not null\n",
        "```"
      ]
    },
    {
      "cell_type": "code",
      "execution_count": 184,
      "id": "922f6347",
      "metadata": {
        "scrolled": false,
        "colab": {
          "base_uri": "https://localhost:8080/"
        },
        "id": "922f6347",
        "outputId": "db3ea4c5-1252-4ebb-9514-a31b8edf8aac"
      },
      "outputs": [
        {
          "output_type": "stream",
          "name": "stdout",
          "text": [
            "['Adults only 18+', 'Everyone', 'Everyone 10+', 'Mature 17+', 'Teen', 'Unrated']\n",
            "Adults only 18+\n",
            "Everyone\n",
            "Everyone 10+\n",
            "Mature 17+\n",
            "Teen\n",
            "Unrated\n"
          ]
        }
      ],
      "source": [
        "# get the unique values of ContentRating from the dataframe\n",
        "content_rating = sorted(df['Content Rating'].unique().tolist())\n",
        "print(content_rating)\n",
        "# create the table and insert values\n",
        "conn = create_connection(db_filename)\n",
        "with conn:\n",
        "    sql_statement = '''Create table ContentRating (rating_id integer not null primary key, \n",
        "                        rating_desc text not null)'''\n",
        "    create_table(conn, sql_statement, 'ContentRating')\n",
        "    c = conn.cursor()\n",
        "    for i in content_rating:\n",
        "        print(i)\n",
        "        c.execute('''Insert into ContentRating (rating_desc) values (?)''',(i,))\n",
        "#     print(pd.read_sql_query('''Select * from ContentRating''', conn))"
      ]
    },
    {
      "cell_type": "markdown",
      "id": "2702e54d",
      "metadata": {
        "id": "2702e54d"
      },
      "source": [
        "#### Create dictionary to map rating_desc to rating_id"
      ]
    },
    {
      "cell_type": "code",
      "execution_count": 185,
      "id": "b7ae23e7",
      "metadata": {
        "id": "b7ae23e7"
      },
      "outputs": [],
      "source": [
        "def rating_desc_to_rating_id_dict(db_filename):\n",
        "    conn = create_connection(db_filename)\n",
        "    rating_dict = {}\n",
        "    with conn:\n",
        "        c = conn.cursor()\n",
        "        c.execute('''Select * from ContentRating''')\n",
        "        output = c.fetchall()\n",
        "        for tpl in output:\n",
        "            rating_dict[tpl[1]] = tpl[0]\n",
        "    return rating_dict"
      ]
    },
    {
      "cell_type": "markdown",
      "id": "cad8cf34",
      "metadata": {
        "id": "cad8cf34"
      },
      "source": [
        "### Create the App table\n",
        "```SQL\n",
        "App\n",
        "    [app_id] Integer not null primary key\n",
        "    [app_name] Text not null\n",
        "    [category_id] Integer not null foreign key to Category table\n",
        "    [ratings] Float \n",
        "    [review_count] Integer not null\n",
        "    [size] Float not null\n",
        "    [installs_count] Integer not null\n",
        "    [payment_type_id] Integer not null foreign key to Payment table\n",
        "    [cr_id] Integer not null foreign key to ContentRating table\n",
        "    [last_updated] Date not null\n",
        "    [curr_app_ver] Text not null\n",
        "    [base_android_ver] Text not null\n",
        "```"
      ]
    },
    {
      "cell_type": "code",
      "execution_count": 186,
      "id": "97b910c9",
      "metadata": {
        "id": "97b910c9"
      },
      "outputs": [],
      "source": [
        "apps = df['App'].tolist()\n",
        "rating = df['Rating'].tolist()\n",
        "reviews = df['Reviews'].tolist()\n",
        "size = df['Size'].tolist()\n",
        "installs = df['Installs'].tolist()\n",
        "category = df['Category'].tolist()\n",
        "payment_type = df['Type'].tolist()\n",
        "cur_ver = df['Current Ver'].tolist()\n",
        "and_ver = df['Android Ver'].tolist()\n",
        "date = df['Last Updated'].tolist()\n",
        "content_rating = df['Content Rating'].tolist()\n",
        "category_id = []\n",
        "cr_id = []\n",
        "type_id = []\n",
        "cid_dict = cat_desc_to_cat_id_dict(db_filename)\n",
        "pid_dict = type_desc_to_type_id_dict(db_filename)\n",
        "crid_dict = rating_desc_to_rating_id_dict(db_filename)\n",
        "for i in category:\n",
        "    category_id.append(cid_dict[i])\n",
        "for i in payment_type:\n",
        "    type_id.append(pid_dict[i])\n",
        "for i in content_rating:\n",
        "    cr_id.append(crid_dict[i])\n",
        "for i in range(len(date)):\n",
        "    date[i] = date[i].to_pydatetime()\n",
        "rows = zip(apps,category_id,rating,reviews,size,installs,type_id,cr_id,date,cur_ver,and_ver)\n",
        "# type(category_id[0])"
      ]
    },
    {
      "cell_type": "code",
      "execution_count": 187,
      "id": "2587b2cd",
      "metadata": {
        "colab": {
          "base_uri": "https://localhost:8080/"
        },
        "id": "2587b2cd",
        "outputId": "36a0b765-def5-4f47-98b6-a96935235495"
      },
      "outputs": [
        {
          "output_type": "stream",
          "name": "stdout",
          "text": [
            "       app_id  ...    base_android_ver\n",
            "0           1  ...        4.0.3 and up\n",
            "1           2  ...        4.0.3 and up\n",
            "2           3  ...        4.0.3 and up\n",
            "3           4  ...          4.2 and up\n",
            "4           5  ...          4.4 and up\n",
            "...       ...  ...                 ...\n",
            "10352   10353  ...          4.1 and up\n",
            "10353   10354  ...          4.1 and up\n",
            "10354   10355  ...          2.2 and up\n",
            "10355   10356  ...  Varies with device\n",
            "10356   10357  ...  Varies with device\n",
            "\n",
            "[10357 rows x 12 columns]\n"
          ]
        }
      ],
      "source": [
        "conn = create_connection(db_filename)\n",
        "with conn:\n",
        "    c = conn.cursor()\n",
        "    sql_statement = '''Create table App (app_id integer not null primary key,\n",
        "                        app_name text not null,\n",
        "                        category_id integer not null,\n",
        "                        rating float,\n",
        "                        reviews integer not null,\n",
        "                        size float not null,\n",
        "                        installs integer not null,\n",
        "                        payment_type_id integer not null,\n",
        "                        cr_id integer not null,\n",
        "                        last_updated timestamp,\n",
        "                        cur_app_ver text,\n",
        "                        base_android_ver text,\n",
        "                        foreign key (category_id) references Category (category_id),\n",
        "                        foreign key (cr_id) references ContentRating (rating_id),\n",
        "                        foreign key(payment_type_id) references Payment (type_id))'''\n",
        "    create_table(conn, sql_statement, 'App')\n",
        "    c.executemany('''Insert into App (app_name, category_id, rating, reviews, size, installs, payment_type_id,cr_id, last_updated, cur_app_ver, base_android_ver) values (?,?,?,?,?,?,?,?,?,?,?)''',(rows))\n",
        "#     c.execute('''Select * from App''')\n",
        "#     print(c.fetchall())\n",
        "    print(pd.read_sql_query('''Select * from App''', conn))\n",
        "    "
      ]
    },
    {
      "cell_type": "markdown",
      "id": "41393904",
      "metadata": {
        "id": "41393904"
      },
      "source": [
        "#### Now as our relational database is ready, we can move onto analysis component."
      ]
    },
    {
      "cell_type": "markdown",
      "id": "0abc53b4",
      "metadata": {
        "id": "0abc53b4"
      },
      "source": [
        "## Analysis"
      ]
    },
    {
      "cell_type": "markdown",
      "id": "ffbb8992",
      "metadata": {
        "id": "ffbb8992"
      },
      "source": [
        "### Content rating and number of apps available on google playstore\n",
        "We first start by analyzing the popular target audience of the apps. As the ContentRating table consists of the values of target audience such as 'Teens', 'Mature', 'Everyone', etc., we will create a barplot that shows number of apps for each category in the ContentRating table.\n",
        "\n",
        "Steps:\n",
        "- Read distinct ContentRating types from ContentRating table into a list.\n",
        "- Select count of apps from App table grouped by ContentRating.\n",
        "- Plot the results using bar plot."
      ]
    },
    {
      "cell_type": "code",
      "execution_count": 188,
      "id": "1b65a647",
      "metadata": {
        "colab": {
          "base_uri": "https://localhost:8080/",
          "height": 367
        },
        "id": "1b65a647",
        "outputId": "99473da0-67d1-412e-f3a1-391ddae8f8ab"
      },
      "outputs": [
        {
          "output_type": "stream",
          "name": "stdout",
          "text": [
            "['Adults only 18+', 'Everyone', 'Everyone 10+', 'Mature 17+', 'Teen', 'Unrated']\n"
          ]
        },
        {
          "output_type": "display_data",
          "data": {
            "image/png": "[encoded data removed]",
            "text/plain": [
              "<Figure size 720x360 with 1 Axes>"
            ]
          },
          "metadata": {
            "needs_background": "light"
          }
        }
      ],
      "source": [
        "conn = create_connection(db_filename)\n",
        "with conn:\n",
        "    audience = []\n",
        "    counts = []\n",
        "    c = conn.cursor()\n",
        "    c.execute('''Select rating_desc from ContentRating''')\n",
        "    res = c.fetchall() # values of target audience\n",
        "    for i in res:\n",
        "        audience.append(i[0])\n",
        "    print(audience)\n",
        "    # get total count of apps for each target audience category\n",
        "    sql_statement = '''Select count(*) from app group by cr_id'''\n",
        "    c.execute(sql_statement)\n",
        "    res = c.fetchall()\n",
        "    for i in res:\n",
        "        counts.append(i[0])\n",
        "    fig = plt.figure(figsize = (10, 5))\n",
        "    \n",
        "    # creating the bar plot\n",
        "    plt.bar(audience, counts,width = 0.4)\n",
        "    plt.title('Number of apps available on playstore based on Content Rating')\n",
        "    plt.xlabel('Content rating (target audience)')\n",
        "    plt.ylabel('Number of apps')\n",
        "    "
      ]
    },
    {
      "cell_type": "markdown",
      "id": "676f805a",
      "metadata": {
        "id": "676f805a"
      },
      "source": [
        "We can visualize the same thing using a more interactive representation of a pie chart as shown below.\n",
        "It can be seen that more than 80% of the apps are designed for *Everyone*.\n",
        "The proportion of *Unrated* apps is very negligible, so it will not play any important role in the analysis."
      ]
    },
    {
      "cell_type": "code",
      "execution_count": 189,
      "id": "2595ff23",
      "metadata": {
        "colab": {
          "base_uri": "https://localhost:8080/",
          "height": 542
        },
        "id": "2595ff23",
        "outputId": "2ba83c16-ef01-4210-9042-ffeadedfdb0b"
      },
      "outputs": [
        {
          "output_type": "display_data",
          "data": {
            "text/html": [
              "<html>\n",
              "<head><meta charset=\"utf-8\" /></head>\n",
              "<body>\n",
              "    <div>\n",
              "            <script src=\"https://cdnjs.cloudflare.com/ajax/libs/mathjax/2.7.5/MathJax.js?config=TeX-AMS-MML_SVG\"></script><script type=\"text/javascript\">if (window.MathJax) {MathJax.Hub.Config({SVG: {font: \"STIX-Web\"}});}</script>\n",
              "                <script type=\"text/javascript\">window.PlotlyConfig = {MathJaxConfig: 'local'};</script>\n",
              "        <script src=\"https://cdn.plot.ly/plotly-latest.min.js\"></script>    \n",
              "            <div id=\"0f259102-c65d-494c-9005-177986f5a186\" class=\"plotly-graph-div\" style=\"height:525px; width:100%;\"></div>\n",
              "            <script type=\"text/javascript\">\n",
              "                \n",
              "                    window.PLOTLYENV=window.PLOTLYENV || {};\n",
              "                    \n",
              "                if (document.getElementById(\"0f259102-c65d-494c-9005-177986f5a186\")) {\n",
              "                    Plotly.newPlot(\n",
              "                        '0f259102-c65d-494c-9005-177986f5a186',\n",
              "                        [{\"domain\": {\"x\": [0.0, 1.0], \"y\": [0.0, 1.0]}, \"hoverlabel\": {\"namelength\": 0}, \"hovertemplate\": \"Target audience=%{label}<br>Count=%{value}\", \"labels\": [\"Adults only 18+\", \"Everyone\", \"Everyone 10+\", \"Mature 17+\", \"Teen\", \"Unrated\"], \"legendgroup\": \"\", \"name\": \"\", \"showlegend\": true, \"type\": \"pie\", \"values\": [3, 8382, 377, 447, 1146, 2]}],\n",
              "                        {\"legend\": {\"tracegroupgap\": 0}, \"template\": {\"data\": {\"bar\": [{\"error_x\": {\"color\": \"#2a3f5f\"}, \"error_y\": {\"color\": \"#2a3f5f\"}, \"marker\": {\"line\": {\"color\": \"#E5ECF6\", \"width\": 0.5}}, \"type\": \"bar\"}], \"barpolar\": [{\"marker\": {\"line\": {\"color\": \"#E5ECF6\", \"width\": 0.5}}, \"type\": \"barpolar\"}], \"carpet\": [{\"aaxis\": {\"endlinecolor\": \"#2a3f5f\", \"gridcolor\": \"white\", \"linecolor\": \"white\", \"minorgridcolor\": \"white\", \"startlinecolor\": \"#2a3f5f\"}, \"baxis\": {\"endlinecolor\": \"#2a3f5f\", \"gridcolor\": \"white\", \"linecolor\": \"white\", \"minorgridcolor\": \"white\", \"startlinecolor\": \"#2a3f5f\"}, \"type\": \"carpet\"}], \"choropleth\": [{\"colorbar\": {\"outlinewidth\": 0, \"ticks\": \"\"}, \"type\": \"choropleth\"}], \"contour\": [{\"colorbar\": {\"outlinewidth\": 0, \"ticks\": \"\"}, \"colorscale\": [[0.0, \"#0d0887\"], [0.1111111111111111, \"#46039f\"], [0.2222222222222222, \"#7201a8\"], [0.3333333333333333, \"#9c179e\"], [0.4444444444444444, \"#bd3786\"], [0.5555555555555556, \"#d8576b\"], [0.6666666666666666, \"#ed7953\"], [0.7777777777777778, \"#fb9f3a\"], [0.8888888888888888, \"#fdca26\"], [1.0, \"#f0f921\"]], \"type\": \"contour\"}], \"contourcarpet\": [{\"colorbar\": {\"outlinewidth\": 0, \"ticks\": \"\"}, \"type\": \"contourcarpet\"}], \"heatmap\": [{\"colorbar\": {\"outlinewidth\": 0, \"ticks\": \"\"}, \"colorscale\": [[0.0, \"#0d0887\"], [0.1111111111111111, \"#46039f\"], [0.2222222222222222, \"#7201a8\"], [0.3333333333333333, \"#9c179e\"], [0.4444444444444444, \"#bd3786\"], [0.5555555555555556, \"#d8576b\"], [0.6666666666666666, \"#ed7953\"], [0.7777777777777778, \"#fb9f3a\"], [0.8888888888888888, \"#fdca26\"], [1.0, \"#f0f921\"]], \"type\": \"heatmap\"}], \"heatmapgl\": [{\"colorbar\": {\"outlinewidth\": 0, \"ticks\": \"\"}, \"colorscale\": [[0.0, \"#0d0887\"], [0.1111111111111111, \"#46039f\"], [0.2222222222222222, \"#7201a8\"], [0.3333333333333333, \"#9c179e\"], [0.4444444444444444, \"#bd3786\"], [0.5555555555555556, \"#d8576b\"], [0.6666666666666666, \"#ed7953\"], [0.7777777777777778, \"#fb9f3a\"], [0.8888888888888888, \"#fdca26\"], [1.0, \"#f0f921\"]], \"type\": \"heatmapgl\"}], \"histogram\": [{\"marker\": {\"colorbar\": {\"outlinewidth\": 0, \"ticks\": \"\"}}, \"type\": \"histogram\"}], \"histogram2d\": [{\"colorbar\": {\"outlinewidth\": 0, \"ticks\": \"\"}, \"colorscale\": [[0.0, \"#0d0887\"], [0.1111111111111111, \"#46039f\"], [0.2222222222222222, \"#7201a8\"], [0.3333333333333333, \"#9c179e\"], [0.4444444444444444, \"#bd3786\"], [0.5555555555555556, \"#d8576b\"], [0.6666666666666666, \"#ed7953\"], [0.7777777777777778, \"#fb9f3a\"], [0.8888888888888888, \"#fdca26\"], [1.0, \"#f0f921\"]], \"type\": \"histogram2d\"}], \"histogram2dcontour\": [{\"colorbar\": {\"outlinewidth\": 0, \"ticks\": \"\"}, \"colorscale\": [[0.0, \"#0d0887\"], [0.1111111111111111, \"#46039f\"], [0.2222222222222222, \"#7201a8\"], [0.3333333333333333, \"#9c179e\"], [0.4444444444444444, \"#bd3786\"], [0.5555555555555556, \"#d8576b\"], [0.6666666666666666, \"#ed7953\"], [0.7777777777777778, \"#fb9f3a\"], [0.8888888888888888, \"#fdca26\"], [1.0, \"#f0f921\"]], \"type\": \"histogram2dcontour\"}], \"mesh3d\": [{\"colorbar\": {\"outlinewidth\": 0, \"ticks\": \"\"}, \"type\": \"mesh3d\"}], \"parcoords\": [{\"line\": {\"colorbar\": {\"outlinewidth\": 0, \"ticks\": \"\"}}, \"type\": \"parcoords\"}], \"pie\": [{\"automargin\": true, \"type\": \"pie\"}], \"scatter\": [{\"marker\": {\"colorbar\": {\"outlinewidth\": 0, \"ticks\": \"\"}}, \"type\": \"scatter\"}], \"scatter3d\": [{\"line\": {\"colorbar\": {\"outlinewidth\": 0, \"ticks\": \"\"}}, \"marker\": {\"colorbar\": {\"outlinewidth\": 0, \"ticks\": \"\"}}, \"type\": \"scatter3d\"}], \"scattercarpet\": [{\"marker\": {\"colorbar\": {\"outlinewidth\": 0, \"ticks\": \"\"}}, \"type\": \"scattercarpet\"}], \"scattergeo\": [{\"marker\": {\"colorbar\": {\"outlinewidth\": 0, \"ticks\": \"\"}}, \"type\": \"scattergeo\"}], \"scattergl\": [{\"marker\": {\"colorbar\": {\"outlinewidth\": 0, \"ticks\": \"\"}}, \"type\": \"scattergl\"}], \"scattermapbox\": [{\"marker\": {\"colorbar\": {\"outlinewidth\": 0, \"ticks\": \"\"}}, \"type\": \"scattermapbox\"}], \"scatterpolar\": [{\"marker\": {\"colorbar\": {\"outlinewidth\": 0, \"ticks\": \"\"}}, \"type\": \"scatterpolar\"}], \"scatterpolargl\": [{\"marker\": {\"colorbar\": {\"outlinewidth\": 0, \"ticks\": \"\"}}, \"type\": \"scatterpolargl\"}], \"scatterternary\": [{\"marker\": {\"colorbar\": {\"outlinewidth\": 0, \"ticks\": \"\"}}, \"type\": \"scatterternary\"}], \"surface\": [{\"colorbar\": {\"outlinewidth\": 0, \"ticks\": \"\"}, \"colorscale\": [[0.0, \"#0d0887\"], [0.1111111111111111, \"#46039f\"], [0.2222222222222222, \"#7201a8\"], [0.3333333333333333, \"#9c179e\"], [0.4444444444444444, \"#bd3786\"], [0.5555555555555556, \"#d8576b\"], [0.6666666666666666, \"#ed7953\"], [0.7777777777777778, \"#fb9f3a\"], [0.8888888888888888, \"#fdca26\"], [1.0, \"#f0f921\"]], \"type\": \"surface\"}], \"table\": [{\"cells\": {\"fill\": {\"color\": \"#EBF0F8\"}, \"line\": {\"color\": \"white\"}}, \"header\": {\"fill\": {\"color\": \"#C8D4E3\"}, \"line\": {\"color\": \"white\"}}, \"type\": \"table\"}]}, \"layout\": {\"annotationdefaults\": {\"arrowcolor\": \"#2a3f5f\", \"arrowhead\": 0, \"arrowwidth\": 1}, \"coloraxis\": {\"colorbar\": {\"outlinewidth\": 0, \"ticks\": \"\"}}, \"colorscale\": {\"diverging\": [[0, \"#8e0152\"], [0.1, \"#c51b7d\"], [0.2, \"#de77ae\"], [0.3, \"#f1b6da\"], [0.4, \"#fde0ef\"], [0.5, \"#f7f7f7\"], [0.6, \"#e6f5d0\"], [0.7, \"#b8e186\"], [0.8, \"#7fbc41\"], [0.9, \"#4d9221\"], [1, \"#276419\"]], \"sequential\": [[0.0, \"#0d0887\"], [0.1111111111111111, \"#46039f\"], [0.2222222222222222, \"#7201a8\"], [0.3333333333333333, \"#9c179e\"], [0.4444444444444444, \"#bd3786\"], [0.5555555555555556, \"#d8576b\"], [0.6666666666666666, \"#ed7953\"], [0.7777777777777778, \"#fb9f3a\"], [0.8888888888888888, \"#fdca26\"], [1.0, \"#f0f921\"]], \"sequentialminus\": [[0.0, \"#0d0887\"], [0.1111111111111111, \"#46039f\"], [0.2222222222222222, \"#7201a8\"], [0.3333333333333333, \"#9c179e\"], [0.4444444444444444, \"#bd3786\"], [0.5555555555555556, \"#d8576b\"], [0.6666666666666666, \"#ed7953\"], [0.7777777777777778, \"#fb9f3a\"], [0.8888888888888888, \"#fdca26\"], [1.0, \"#f0f921\"]]}, \"colorway\": [\"#636efa\", \"#EF553B\", \"#00cc96\", \"#ab63fa\", \"#FFA15A\", \"#19d3f3\", \"#FF6692\", \"#B6E880\", \"#FF97FF\", \"#FECB52\"], \"font\": {\"color\": \"#2a3f5f\"}, \"geo\": {\"bgcolor\": \"white\", \"lakecolor\": \"white\", \"landcolor\": \"#E5ECF6\", \"showlakes\": true, \"showland\": true, \"subunitcolor\": \"white\"}, \"hoverlabel\": {\"align\": \"left\"}, \"hovermode\": \"closest\", \"mapbox\": {\"style\": \"light\"}, \"paper_bgcolor\": \"white\", \"plot_bgcolor\": \"#E5ECF6\", \"polar\": {\"angularaxis\": {\"gridcolor\": \"white\", \"linecolor\": \"white\", \"ticks\": \"\"}, \"bgcolor\": \"#E5ECF6\", \"radialaxis\": {\"gridcolor\": \"white\", \"linecolor\": \"white\", \"ticks\": \"\"}}, \"scene\": {\"xaxis\": {\"backgroundcolor\": \"#E5ECF6\", \"gridcolor\": \"white\", \"gridwidth\": 2, \"linecolor\": \"white\", \"showbackground\": true, \"ticks\": \"\", \"zerolinecolor\": \"white\"}, \"yaxis\": {\"backgroundcolor\": \"#E5ECF6\", \"gridcolor\": \"white\", \"gridwidth\": 2, \"linecolor\": \"white\", \"showbackground\": true, \"ticks\": \"\", \"zerolinecolor\": \"white\"}, \"zaxis\": {\"backgroundcolor\": \"#E5ECF6\", \"gridcolor\": \"white\", \"gridwidth\": 2, \"linecolor\": \"white\", \"showbackground\": true, \"ticks\": \"\", \"zerolinecolor\": \"white\"}}, \"shapedefaults\": {\"line\": {\"color\": \"#2a3f5f\"}}, \"ternary\": {\"aaxis\": {\"gridcolor\": \"white\", \"linecolor\": \"white\", \"ticks\": \"\"}, \"baxis\": {\"gridcolor\": \"white\", \"linecolor\": \"white\", \"ticks\": \"\"}, \"bgcolor\": \"#E5ECF6\", \"caxis\": {\"gridcolor\": \"white\", \"linecolor\": \"white\", \"ticks\": \"\"}}, \"title\": {\"x\": 0.05}, \"xaxis\": {\"automargin\": true, \"gridcolor\": \"white\", \"linecolor\": \"white\", \"ticks\": \"\", \"title\": {\"standoff\": 15}, \"zerolinecolor\": \"white\", \"zerolinewidth\": 2}, \"yaxis\": {\"automargin\": true, \"gridcolor\": \"white\", \"linecolor\": \"white\", \"ticks\": \"\", \"title\": {\"standoff\": 15}, \"zerolinecolor\": \"white\", \"zerolinewidth\": 2}}}, \"title\": {\"text\": \"Distribution of the number of apps based on content rating\"}},\n",
              "                        {\"responsive\": true}\n",
              "                    ).then(function(){\n",
              "                            \n",
              "var gd = document.getElementById('0f259102-c65d-494c-9005-177986f5a186');\n",
              "var x = new MutationObserver(function (mutations, observer) {{\n",
              "        var display = window.getComputedStyle(gd).display;\n",
              "        if (!display || display === 'none') {{\n",
              "            console.log([gd, 'removed!']);\n",
              "            Plotly.purge(gd);\n",
              "            observer.disconnect();\n",
              "        }}\n",
              "}});\n",
              "\n",
              "// Listen for the removal of the full notebook cells\n",
              "var notebookContainer = gd.closest('#notebook-container');\n",
              "if (notebookContainer) {{\n",
              "    x.observe(notebookContainer, {childList: true});\n",
              "}}\n",
              "\n",
              "// Listen for the clearing of the current output cell\n",
              "var outputEl = gd.closest('.output');\n",
              "if (outputEl) {{\n",
              "    x.observe(outputEl, {childList: true});\n",
              "}}\n",
              "\n",
              "                        })\n",
              "                };\n",
              "                \n",
              "            </script>\n",
              "        </div>\n",
              "</body>\n",
              "</html>"
            ]
          },
          "metadata": {}
        }
      ],
      "source": [
        "data = pd.DataFrame({'Count':counts,'Target audience':audience})\n",
        "fig = px.pie(data, values='Count', names='Target audience', title='Distribution of the number of apps based on content rating')\n",
        "fig.show()"
      ]
    },
    {
      "cell_type": "markdown",
      "source": [
        "#### We can observe that there are no apps for *Adults only 18+* and also there are no *Unrated* apps. *Everyone* category has the highest number of apps followed by *Teen*, *Mature 17+* and *Everyone 10+*."
      ],
      "metadata": {
        "id": "vPnbv1aysNx9"
      },
      "id": "vPnbv1aysNx9"
    },
    {
      "cell_type": "markdown",
      "id": "fcca5249",
      "metadata": {
        "id": "fcca5249"
      },
      "source": [
        "### Number of apps for each category"
      ]
    },
    {
      "cell_type": "code",
      "execution_count": 190,
      "id": "2cd95d81",
      "metadata": {
        "id": "2cd95d81",
        "colab": {
          "base_uri": "https://localhost:8080/",
          "height": 542
        },
        "outputId": "448d744b-9b61-4ac3-8585-26f6e058dcaf"
      },
      "outputs": [
        {
          "output_type": "display_data",
          "data": {
            "text/html": [
              "<html>\n",
              "<head><meta charset=\"utf-8\" /></head>\n",
              "<body>\n",
              "    <div>\n",
              "            <script src=\"https://cdnjs.cloudflare.com/ajax/libs/mathjax/2.7.5/MathJax.js?config=TeX-AMS-MML_SVG\"></script><script type=\"text/javascript\">if (window.MathJax) {MathJax.Hub.Config({SVG: {font: \"STIX-Web\"}});}</script>\n",
              "                <script type=\"text/javascript\">window.PlotlyConfig = {MathJaxConfig: 'local'};</script>\n",
              "        <script src=\"https://cdn.plot.ly/plotly-latest.min.js\"></script>    \n",
              "            <div id=\"9c76e261-9dfa-4b4b-951c-a1555a8e599c\" class=\"plotly-graph-div\" style=\"height:525px; width:100%;\"></div>\n",
              "            <script type=\"text/javascript\">\n",
              "                \n",
              "                    window.PLOTLYENV=window.PLOTLYENV || {};\n",
              "                    \n",
              "                if (document.getElementById(\"9c76e261-9dfa-4b4b-951c-a1555a8e599c\")) {\n",
              "                    Plotly.newPlot(\n",
              "                        '9c76e261-9dfa-4b4b-951c-a1555a8e599c',\n",
              "                        [{\"domain\": {\"x\": [0.0, 1.0], \"y\": [0.0, 1.0]}, \"hoverlabel\": {\"namelength\": 0}, \"hovertemplate\": \"category=%{label}<br>count=%{value}\", \"labels\": [\"Art and design\", \"Auto and vehicles\", \"Beauty\", \"Books and reference\", \"Business\", \"Comics\", \"Communication\", \"Dating\", \"Education\", \"Entertainment\", \"Events\", \"Family\", \"Finance\", \"Food and drink\", \"Game\", \"Health and fitness\", \"House and home\", \"Libraries and demo\", \"Lifestyle\", \"Maps and navigation\", \"Medical\", \"News and magazines\", \"Parenting\", \"Personalization\", \"Photography\", \"Productivity\", \"Shopping\", \"Social\", \"Sports\", \"Tools\", \"Travel and local\", \"Video players\", \"Weather\"], \"legendgroup\": \"\", \"name\": \"\", \"showlegend\": true, \"type\": \"pie\", \"values\": [65, 85, 53, 230, 427, 60, 366, 196, 130, 111, 64, 1943, 360, 124, 1121, 306, 80, 85, 373, 137, 408, 264, 60, 388, 322, 407, 224, 280, 351, 843, 237, 175, 82]}],\n",
              "                        {\"legend\": {\"tracegroupgap\": 0}, \"template\": {\"data\": {\"bar\": [{\"error_x\": {\"color\": \"#2a3f5f\"}, \"error_y\": {\"color\": \"#2a3f5f\"}, \"marker\": {\"line\": {\"color\": \"#E5ECF6\", \"width\": 0.5}}, \"type\": \"bar\"}], \"barpolar\": [{\"marker\": {\"line\": {\"color\": \"#E5ECF6\", \"width\": 0.5}}, \"type\": \"barpolar\"}], \"carpet\": [{\"aaxis\": {\"endlinecolor\": \"#2a3f5f\", \"gridcolor\": \"white\", \"linecolor\": \"white\", \"minorgridcolor\": \"white\", \"startlinecolor\": \"#2a3f5f\"}, \"baxis\": {\"endlinecolor\": \"#2a3f5f\", \"gridcolor\": \"white\", \"linecolor\": \"white\", \"minorgridcolor\": \"white\", \"startlinecolor\": \"#2a3f5f\"}, \"type\": \"carpet\"}], \"choropleth\": [{\"colorbar\": {\"outlinewidth\": 0, \"ticks\": \"\"}, \"type\": \"choropleth\"}], \"contour\": [{\"colorbar\": {\"outlinewidth\": 0, \"ticks\": \"\"}, \"colorscale\": [[0.0, \"#0d0887\"], [0.1111111111111111, \"#46039f\"], [0.2222222222222222, \"#7201a8\"], [0.3333333333333333, \"#9c179e\"], [0.4444444444444444, \"#bd3786\"], [0.5555555555555556, \"#d8576b\"], [0.6666666666666666, \"#ed7953\"], [0.7777777777777778, \"#fb9f3a\"], [0.8888888888888888, \"#fdca26\"], [1.0, \"#f0f921\"]], \"type\": \"contour\"}], \"contourcarpet\": [{\"colorbar\": {\"outlinewidth\": 0, \"ticks\": \"\"}, \"type\": \"contourcarpet\"}], \"heatmap\": [{\"colorbar\": {\"outlinewidth\": 0, \"ticks\": \"\"}, \"colorscale\": [[0.0, \"#0d0887\"], [0.1111111111111111, \"#46039f\"], [0.2222222222222222, \"#7201a8\"], [0.3333333333333333, \"#9c179e\"], [0.4444444444444444, \"#bd3786\"], [0.5555555555555556, \"#d8576b\"], [0.6666666666666666, \"#ed7953\"], [0.7777777777777778, \"#fb9f3a\"], [0.8888888888888888, \"#fdca26\"], [1.0, \"#f0f921\"]], \"type\": \"heatmap\"}], \"heatmapgl\": [{\"colorbar\": {\"outlinewidth\": 0, \"ticks\": \"\"}, \"colorscale\": [[0.0, \"#0d0887\"], [0.1111111111111111, \"#46039f\"], [0.2222222222222222, \"#7201a8\"], [0.3333333333333333, \"#9c179e\"], [0.4444444444444444, \"#bd3786\"], [0.5555555555555556, \"#d8576b\"], [0.6666666666666666, \"#ed7953\"], [0.7777777777777778, \"#fb9f3a\"], [0.8888888888888888, \"#fdca26\"], [1.0, \"#f0f921\"]], \"type\": \"heatmapgl\"}], \"histogram\": [{\"marker\": {\"colorbar\": {\"outlinewidth\": 0, \"ticks\": \"\"}}, \"type\": \"histogram\"}], \"histogram2d\": [{\"colorbar\": {\"outlinewidth\": 0, \"ticks\": \"\"}, \"colorscale\": [[0.0, \"#0d0887\"], [0.1111111111111111, \"#46039f\"], [0.2222222222222222, \"#7201a8\"], [0.3333333333333333, \"#9c179e\"], [0.4444444444444444, \"#bd3786\"], [0.5555555555555556, \"#d8576b\"], [0.6666666666666666, \"#ed7953\"], [0.7777777777777778, \"#fb9f3a\"], [0.8888888888888888, \"#fdca26\"], [1.0, \"#f0f921\"]], \"type\": \"histogram2d\"}], \"histogram2dcontour\": [{\"colorbar\": {\"outlinewidth\": 0, \"ticks\": \"\"}, \"colorscale\": [[0.0, \"#0d0887\"], [0.1111111111111111, \"#46039f\"], [0.2222222222222222, \"#7201a8\"], [0.3333333333333333, \"#9c179e\"], [0.4444444444444444, \"#bd3786\"], [0.5555555555555556, \"#d8576b\"], [0.6666666666666666, \"#ed7953\"], [0.7777777777777778, \"#fb9f3a\"], [0.8888888888888888, \"#fdca26\"], [1.0, \"#f0f921\"]], \"type\": \"histogram2dcontour\"}], \"mesh3d\": [{\"colorbar\": {\"outlinewidth\": 0, \"ticks\": \"\"}, \"type\": \"mesh3d\"}], \"parcoords\": [{\"line\": {\"colorbar\": {\"outlinewidth\": 0, \"ticks\": \"\"}}, \"type\": \"parcoords\"}], \"pie\": [{\"automargin\": true, \"type\": \"pie\"}], \"scatter\": [{\"marker\": {\"colorbar\": {\"outlinewidth\": 0, \"ticks\": \"\"}}, \"type\": \"scatter\"}], \"scatter3d\": [{\"line\": {\"colorbar\": {\"outlinewidth\": 0, \"ticks\": \"\"}}, \"marker\": {\"colorbar\": {\"outlinewidth\": 0, \"ticks\": \"\"}}, \"type\": \"scatter3d\"}], \"scattercarpet\": [{\"marker\": {\"colorbar\": {\"outlinewidth\": 0, \"ticks\": \"\"}}, \"type\": \"scattercarpet\"}], \"scattergeo\": [{\"marker\": {\"colorbar\": {\"outlinewidth\": 0, \"ticks\": \"\"}}, \"type\": \"scattergeo\"}], \"scattergl\": [{\"marker\": {\"colorbar\": {\"outlinewidth\": 0, \"ticks\": \"\"}}, \"type\": \"scattergl\"}], \"scattermapbox\": [{\"marker\": {\"colorbar\": {\"outlinewidth\": 0, \"ticks\": \"\"}}, \"type\": \"scattermapbox\"}], \"scatterpolar\": [{\"marker\": {\"colorbar\": {\"outlinewidth\": 0, \"ticks\": \"\"}}, \"type\": \"scatterpolar\"}], \"scatterpolargl\": [{\"marker\": {\"colorbar\": {\"outlinewidth\": 0, \"ticks\": \"\"}}, \"type\": \"scatterpolargl\"}], \"scatterternary\": [{\"marker\": {\"colorbar\": {\"outlinewidth\": 0, \"ticks\": \"\"}}, \"type\": \"scatterternary\"}], \"surface\": [{\"colorbar\": {\"outlinewidth\": 0, \"ticks\": \"\"}, \"colorscale\": [[0.0, \"#0d0887\"], [0.1111111111111111, \"#46039f\"], [0.2222222222222222, \"#7201a8\"], [0.3333333333333333, \"#9c179e\"], [0.4444444444444444, \"#bd3786\"], [0.5555555555555556, \"#d8576b\"], [0.6666666666666666, \"#ed7953\"], [0.7777777777777778, \"#fb9f3a\"], [0.8888888888888888, \"#fdca26\"], [1.0, \"#f0f921\"]], \"type\": \"surface\"}], \"table\": [{\"cells\": {\"fill\": {\"color\": \"#EBF0F8\"}, \"line\": {\"color\": \"white\"}}, \"header\": {\"fill\": {\"color\": \"#C8D4E3\"}, \"line\": {\"color\": \"white\"}}, \"type\": \"table\"}]}, \"layout\": {\"annotationdefaults\": {\"arrowcolor\": \"#2a3f5f\", \"arrowhead\": 0, \"arrowwidth\": 1}, \"coloraxis\": {\"colorbar\": {\"outlinewidth\": 0, \"ticks\": \"\"}}, \"colorscale\": {\"diverging\": [[0, \"#8e0152\"], [0.1, \"#c51b7d\"], [0.2, \"#de77ae\"], [0.3, \"#f1b6da\"], [0.4, \"#fde0ef\"], [0.5, \"#f7f7f7\"], [0.6, \"#e6f5d0\"], [0.7, \"#b8e186\"], [0.8, \"#7fbc41\"], [0.9, \"#4d9221\"], [1, \"#276419\"]], \"sequential\": [[0.0, \"#0d0887\"], [0.1111111111111111, \"#46039f\"], [0.2222222222222222, \"#7201a8\"], [0.3333333333333333, \"#9c179e\"], [0.4444444444444444, \"#bd3786\"], [0.5555555555555556, \"#d8576b\"], [0.6666666666666666, \"#ed7953\"], [0.7777777777777778, \"#fb9f3a\"], [0.8888888888888888, \"#fdca26\"], [1.0, \"#f0f921\"]], \"sequentialminus\": [[0.0, \"#0d0887\"], [0.1111111111111111, \"#46039f\"], [0.2222222222222222, \"#7201a8\"], [0.3333333333333333, \"#9c179e\"], [0.4444444444444444, \"#bd3786\"], [0.5555555555555556, \"#d8576b\"], [0.6666666666666666, \"#ed7953\"], [0.7777777777777778, \"#fb9f3a\"], [0.8888888888888888, \"#fdca26\"], [1.0, \"#f0f921\"]]}, \"colorway\": [\"#636efa\", \"#EF553B\", \"#00cc96\", \"#ab63fa\", \"#FFA15A\", \"#19d3f3\", \"#FF6692\", \"#B6E880\", \"#FF97FF\", \"#FECB52\"], \"font\": {\"color\": \"#2a3f5f\"}, \"geo\": {\"bgcolor\": \"white\", \"lakecolor\": \"white\", \"landcolor\": \"#E5ECF6\", \"showlakes\": true, \"showland\": true, \"subunitcolor\": \"white\"}, \"hoverlabel\": {\"align\": \"left\"}, \"hovermode\": \"closest\", \"mapbox\": {\"style\": \"light\"}, \"paper_bgcolor\": \"white\", \"plot_bgcolor\": \"#E5ECF6\", \"polar\": {\"angularaxis\": {\"gridcolor\": \"white\", \"linecolor\": \"white\", \"ticks\": \"\"}, \"bgcolor\": \"#E5ECF6\", \"radialaxis\": {\"gridcolor\": \"white\", \"linecolor\": \"white\", \"ticks\": \"\"}}, \"scene\": {\"xaxis\": {\"backgroundcolor\": \"#E5ECF6\", \"gridcolor\": \"white\", \"gridwidth\": 2, \"linecolor\": \"white\", \"showbackground\": true, \"ticks\": \"\", \"zerolinecolor\": \"white\"}, \"yaxis\": {\"backgroundcolor\": \"#E5ECF6\", \"gridcolor\": \"white\", \"gridwidth\": 2, \"linecolor\": \"white\", \"showbackground\": true, \"ticks\": \"\", \"zerolinecolor\": \"white\"}, \"zaxis\": {\"backgroundcolor\": \"#E5ECF6\", \"gridcolor\": \"white\", \"gridwidth\": 2, \"linecolor\": \"white\", \"showbackground\": true, \"ticks\": \"\", \"zerolinecolor\": \"white\"}}, \"shapedefaults\": {\"line\": {\"color\": \"#2a3f5f\"}}, \"ternary\": {\"aaxis\": {\"gridcolor\": \"white\", \"linecolor\": \"white\", \"ticks\": \"\"}, \"baxis\": {\"gridcolor\": \"white\", \"linecolor\": \"white\", \"ticks\": \"\"}, \"bgcolor\": \"#E5ECF6\", \"caxis\": {\"gridcolor\": \"white\", \"linecolor\": \"white\", \"ticks\": \"\"}}, \"title\": {\"x\": 0.05}, \"xaxis\": {\"automargin\": true, \"gridcolor\": \"white\", \"linecolor\": \"white\", \"ticks\": \"\", \"title\": {\"standoff\": 15}, \"zerolinecolor\": \"white\", \"zerolinewidth\": 2}, \"yaxis\": {\"automargin\": true, \"gridcolor\": \"white\", \"linecolor\": \"white\", \"ticks\": \"\", \"title\": {\"standoff\": 15}, \"zerolinecolor\": \"white\", \"zerolinewidth\": 2}}}, \"title\": {\"text\": \"App category and number of apps\"}},\n",
              "                        {\"responsive\": true}\n",
              "                    ).then(function(){\n",
              "                            \n",
              "var gd = document.getElementById('9c76e261-9dfa-4b4b-951c-a1555a8e599c');\n",
              "var x = new MutationObserver(function (mutations, observer) {{\n",
              "        var display = window.getComputedStyle(gd).display;\n",
              "        if (!display || display === 'none') {{\n",
              "            console.log([gd, 'removed!']);\n",
              "            Plotly.purge(gd);\n",
              "            observer.disconnect();\n",
              "        }}\n",
              "}});\n",
              "\n",
              "// Listen for the removal of the full notebook cells\n",
              "var notebookContainer = gd.closest('#notebook-container');\n",
              "if (notebookContainer) {{\n",
              "    x.observe(notebookContainer, {childList: true});\n",
              "}}\n",
              "\n",
              "// Listen for the clearing of the current output cell\n",
              "var outputEl = gd.closest('.output');\n",
              "if (outputEl) {{\n",
              "    x.observe(outputEl, {childList: true});\n",
              "}}\n",
              "\n",
              "                        })\n",
              "                };\n",
              "                \n",
              "            </script>\n",
              "        </div>\n",
              "</body>\n",
              "</html>"
            ]
          },
          "metadata": {}
        }
      ],
      "source": [
        "conn = create_connection(db_filename)\n",
        "category = []\n",
        "counts = []\n",
        "with conn:\n",
        "    c = conn.cursor()\n",
        "    # Query the Category table to get distinct categories\n",
        "    c.execute('''Select category_name from Category''')\n",
        "    for (i,) in c.fetchall():\n",
        "        category.append(i)\n",
        "    # There are total 33 unique app categories\n",
        "    # Query the app table to get count for each category (group by category id)\n",
        "    c.execute('''Select category_id, count(*) from App group by category_id''')\n",
        "    res = c.fetchall() # gives us pairs of (category_id, count)\n",
        "    for i,j in res:\n",
        "        counts.append(j)\n",
        "    # use the dictionary to get corresponding category names\n",
        "    dic = cat_desc_to_cat_id_dict(db_filename)\n",
        "    data = pd.DataFrame({'category':category, 'count':counts})\n",
        "    fig = px.pie(data, values='count', names='category', title='App category and number of apps')\n",
        "    fig.show()\n",
        "    "
      ]
    },
    {
      "cell_type": "markdown",
      "id": "0023e837",
      "metadata": {
        "id": "0023e837"
      },
      "source": [
        "From the above plot, we can see that *Family* is the most popular category among the developers, followed by *Game* and *Tools*."
      ]
    },
    {
      "cell_type": "markdown",
      "id": "187bcc10",
      "metadata": {
        "id": "187bcc10"
      },
      "source": [
        "### Distribution of free and paid apps"
      ]
    },
    {
      "cell_type": "code",
      "execution_count": 191,
      "id": "bcf951fc",
      "metadata": {
        "scrolled": false,
        "colab": {
          "base_uri": "https://localhost:8080/",
          "height": 542
        },
        "id": "bcf951fc",
        "outputId": "c47bc436-322c-4f74-cf5a-62023e2e5fe1"
      },
      "outputs": [
        {
          "output_type": "display_data",
          "data": {
            "text/html": [
              "<html>\n",
              "<head><meta charset=\"utf-8\" /></head>\n",
              "<body>\n",
              "    <div>\n",
              "            <script src=\"https://cdnjs.cloudflare.com/ajax/libs/mathjax/2.7.5/MathJax.js?config=TeX-AMS-MML_SVG\"></script><script type=\"text/javascript\">if (window.MathJax) {MathJax.Hub.Config({SVG: {font: \"STIX-Web\"}});}</script>\n",
              "                <script type=\"text/javascript\">window.PlotlyConfig = {MathJaxConfig: 'local'};</script>\n",
              "        <script src=\"https://cdn.plot.ly/plotly-latest.min.js\"></script>    \n",
              "            <div id=\"2c21a369-7a7d-41e5-8089-1ca3a0608651\" class=\"plotly-graph-div\" style=\"height:525px; width:100%;\"></div>\n",
              "            <script type=\"text/javascript\">\n",
              "                \n",
              "                    window.PLOTLYENV=window.PLOTLYENV || {};\n",
              "                    \n",
              "                if (document.getElementById(\"2c21a369-7a7d-41e5-8089-1ca3a0608651\")) {\n",
              "                    Plotly.newPlot(\n",
              "                        '2c21a369-7a7d-41e5-8089-1ca3a0608651',\n",
              "                        [{\"domain\": {\"x\": [0.0, 1.0], \"y\": [0.0, 1.0]}, \"hoverlabel\": {\"namelength\": 0}, \"hovertemplate\": \"apptype=%{label}<br>count=%{value}\", \"labels\": [\"Paid\", \"Free\"], \"legendgroup\": \"\", \"name\": \"\", \"showlegend\": true, \"type\": \"pie\", \"values\": [765, 9592]}],\n",
              "                        {\"legend\": {\"tracegroupgap\": 0}, \"template\": {\"data\": {\"bar\": [{\"error_x\": {\"color\": \"#2a3f5f\"}, \"error_y\": {\"color\": \"#2a3f5f\"}, \"marker\": {\"line\": {\"color\": \"#E5ECF6\", \"width\": 0.5}}, \"type\": \"bar\"}], \"barpolar\": [{\"marker\": {\"line\": {\"color\": \"#E5ECF6\", \"width\": 0.5}}, \"type\": \"barpolar\"}], \"carpet\": [{\"aaxis\": {\"endlinecolor\": \"#2a3f5f\", \"gridcolor\": \"white\", \"linecolor\": \"white\", \"minorgridcolor\": \"white\", \"startlinecolor\": \"#2a3f5f\"}, \"baxis\": {\"endlinecolor\": \"#2a3f5f\", \"gridcolor\": \"white\", \"linecolor\": \"white\", \"minorgridcolor\": \"white\", \"startlinecolor\": \"#2a3f5f\"}, \"type\": \"carpet\"}], \"choropleth\": [{\"colorbar\": {\"outlinewidth\": 0, \"ticks\": \"\"}, \"type\": \"choropleth\"}], \"contour\": [{\"colorbar\": {\"outlinewidth\": 0, \"ticks\": \"\"}, \"colorscale\": [[0.0, \"#0d0887\"], [0.1111111111111111, \"#46039f\"], [0.2222222222222222, \"#7201a8\"], [0.3333333333333333, \"#9c179e\"], [0.4444444444444444, \"#bd3786\"], [0.5555555555555556, \"#d8576b\"], [0.6666666666666666, \"#ed7953\"], [0.7777777777777778, \"#fb9f3a\"], [0.8888888888888888, \"#fdca26\"], [1.0, \"#f0f921\"]], \"type\": \"contour\"}], \"contourcarpet\": [{\"colorbar\": {\"outlinewidth\": 0, \"ticks\": \"\"}, \"type\": \"contourcarpet\"}], \"heatmap\": [{\"colorbar\": {\"outlinewidth\": 0, \"ticks\": \"\"}, \"colorscale\": [[0.0, \"#0d0887\"], [0.1111111111111111, \"#46039f\"], [0.2222222222222222, \"#7201a8\"], [0.3333333333333333, \"#9c179e\"], [0.4444444444444444, \"#bd3786\"], [0.5555555555555556, \"#d8576b\"], [0.6666666666666666, \"#ed7953\"], [0.7777777777777778, \"#fb9f3a\"], [0.8888888888888888, \"#fdca26\"], [1.0, \"#f0f921\"]], \"type\": \"heatmap\"}], \"heatmapgl\": [{\"colorbar\": {\"outlinewidth\": 0, \"ticks\": \"\"}, \"colorscale\": [[0.0, \"#0d0887\"], [0.1111111111111111, \"#46039f\"], [0.2222222222222222, \"#7201a8\"], [0.3333333333333333, \"#9c179e\"], [0.4444444444444444, \"#bd3786\"], [0.5555555555555556, \"#d8576b\"], [0.6666666666666666, \"#ed7953\"], [0.7777777777777778, \"#fb9f3a\"], [0.8888888888888888, \"#fdca26\"], [1.0, \"#f0f921\"]], \"type\": \"heatmapgl\"}], \"histogram\": [{\"marker\": {\"colorbar\": {\"outlinewidth\": 0, \"ticks\": \"\"}}, \"type\": \"histogram\"}], \"histogram2d\": [{\"colorbar\": {\"outlinewidth\": 0, \"ticks\": \"\"}, \"colorscale\": [[0.0, \"#0d0887\"], [0.1111111111111111, \"#46039f\"], [0.2222222222222222, \"#7201a8\"], [0.3333333333333333, \"#9c179e\"], [0.4444444444444444, \"#bd3786\"], [0.5555555555555556, \"#d8576b\"], [0.6666666666666666, \"#ed7953\"], [0.7777777777777778, \"#fb9f3a\"], [0.8888888888888888, \"#fdca26\"], [1.0, \"#f0f921\"]], \"type\": \"histogram2d\"}], \"histogram2dcontour\": [{\"colorbar\": {\"outlinewidth\": 0, \"ticks\": \"\"}, \"colorscale\": [[0.0, \"#0d0887\"], [0.1111111111111111, \"#46039f\"], [0.2222222222222222, \"#7201a8\"], [0.3333333333333333, \"#9c179e\"], [0.4444444444444444, \"#bd3786\"], [0.5555555555555556, \"#d8576b\"], [0.6666666666666666, \"#ed7953\"], [0.7777777777777778, \"#fb9f3a\"], [0.8888888888888888, \"#fdca26\"], [1.0, \"#f0f921\"]], \"type\": \"histogram2dcontour\"}], \"mesh3d\": [{\"colorbar\": {\"outlinewidth\": 0, \"ticks\": \"\"}, \"type\": \"mesh3d\"}], \"parcoords\": [{\"line\": {\"colorbar\": {\"outlinewidth\": 0, \"ticks\": \"\"}}, \"type\": \"parcoords\"}], \"pie\": [{\"automargin\": true, \"type\": \"pie\"}], \"scatter\": [{\"marker\": {\"colorbar\": {\"outlinewidth\": 0, \"ticks\": \"\"}}, \"type\": \"scatter\"}], \"scatter3d\": [{\"line\": {\"colorbar\": {\"outlinewidth\": 0, \"ticks\": \"\"}}, \"marker\": {\"colorbar\": {\"outlinewidth\": 0, \"ticks\": \"\"}}, \"type\": \"scatter3d\"}], \"scattercarpet\": [{\"marker\": {\"colorbar\": {\"outlinewidth\": 0, \"ticks\": \"\"}}, \"type\": \"scattercarpet\"}], \"scattergeo\": [{\"marker\": {\"colorbar\": {\"outlinewidth\": 0, \"ticks\": \"\"}}, \"type\": \"scattergeo\"}], \"scattergl\": [{\"marker\": {\"colorbar\": {\"outlinewidth\": 0, \"ticks\": \"\"}}, \"type\": \"scattergl\"}], \"scattermapbox\": [{\"marker\": {\"colorbar\": {\"outlinewidth\": 0, \"ticks\": \"\"}}, \"type\": \"scattermapbox\"}], \"scatterpolar\": [{\"marker\": {\"colorbar\": {\"outlinewidth\": 0, \"ticks\": \"\"}}, \"type\": \"scatterpolar\"}], \"scatterpolargl\": [{\"marker\": {\"colorbar\": {\"outlinewidth\": 0, \"ticks\": \"\"}}, \"type\": \"scatterpolargl\"}], \"scatterternary\": [{\"marker\": {\"colorbar\": {\"outlinewidth\": 0, \"ticks\": \"\"}}, \"type\": \"scatterternary\"}], \"surface\": [{\"colorbar\": {\"outlinewidth\": 0, \"ticks\": \"\"}, \"colorscale\": [[0.0, \"#0d0887\"], [0.1111111111111111, \"#46039f\"], [0.2222222222222222, \"#7201a8\"], [0.3333333333333333, \"#9c179e\"], [0.4444444444444444, \"#bd3786\"], [0.5555555555555556, \"#d8576b\"], [0.6666666666666666, \"#ed7953\"], [0.7777777777777778, \"#fb9f3a\"], [0.8888888888888888, \"#fdca26\"], [1.0, \"#f0f921\"]], \"type\": \"surface\"}], \"table\": [{\"cells\": {\"fill\": {\"color\": \"#EBF0F8\"}, \"line\": {\"color\": \"white\"}}, \"header\": {\"fill\": {\"color\": \"#C8D4E3\"}, \"line\": {\"color\": \"white\"}}, \"type\": \"table\"}]}, \"layout\": {\"annotationdefaults\": {\"arrowcolor\": \"#2a3f5f\", \"arrowhead\": 0, \"arrowwidth\": 1}, \"coloraxis\": {\"colorbar\": {\"outlinewidth\": 0, \"ticks\": \"\"}}, \"colorscale\": {\"diverging\": [[0, \"#8e0152\"], [0.1, \"#c51b7d\"], [0.2, \"#de77ae\"], [0.3, \"#f1b6da\"], [0.4, \"#fde0ef\"], [0.5, \"#f7f7f7\"], [0.6, \"#e6f5d0\"], [0.7, \"#b8e186\"], [0.8, \"#7fbc41\"], [0.9, \"#4d9221\"], [1, \"#276419\"]], \"sequential\": [[0.0, \"#0d0887\"], [0.1111111111111111, \"#46039f\"], [0.2222222222222222, \"#7201a8\"], [0.3333333333333333, \"#9c179e\"], [0.4444444444444444, \"#bd3786\"], [0.5555555555555556, \"#d8576b\"], [0.6666666666666666, \"#ed7953\"], [0.7777777777777778, \"#fb9f3a\"], [0.8888888888888888, \"#fdca26\"], [1.0, \"#f0f921\"]], \"sequentialminus\": [[0.0, \"#0d0887\"], [0.1111111111111111, \"#46039f\"], [0.2222222222222222, \"#7201a8\"], [0.3333333333333333, \"#9c179e\"], [0.4444444444444444, \"#bd3786\"], [0.5555555555555556, \"#d8576b\"], [0.6666666666666666, \"#ed7953\"], [0.7777777777777778, \"#fb9f3a\"], [0.8888888888888888, \"#fdca26\"], [1.0, \"#f0f921\"]]}, \"colorway\": [\"#636efa\", \"#EF553B\", \"#00cc96\", \"#ab63fa\", \"#FFA15A\", \"#19d3f3\", \"#FF6692\", \"#B6E880\", \"#FF97FF\", \"#FECB52\"], \"font\": {\"color\": \"#2a3f5f\"}, \"geo\": {\"bgcolor\": \"white\", \"lakecolor\": \"white\", \"landcolor\": \"#E5ECF6\", \"showlakes\": true, \"showland\": true, \"subunitcolor\": \"white\"}, \"hoverlabel\": {\"align\": \"left\"}, \"hovermode\": \"closest\", \"mapbox\": {\"style\": \"light\"}, \"paper_bgcolor\": \"white\", \"plot_bgcolor\": \"#E5ECF6\", \"polar\": {\"angularaxis\": {\"gridcolor\": \"white\", \"linecolor\": \"white\", \"ticks\": \"\"}, \"bgcolor\": \"#E5ECF6\", \"radialaxis\": {\"gridcolor\": \"white\", \"linecolor\": \"white\", \"ticks\": \"\"}}, \"scene\": {\"xaxis\": {\"backgroundcolor\": \"#E5ECF6\", \"gridcolor\": \"white\", \"gridwidth\": 2, \"linecolor\": \"white\", \"showbackground\": true, \"ticks\": \"\", \"zerolinecolor\": \"white\"}, \"yaxis\": {\"backgroundcolor\": \"#E5ECF6\", \"gridcolor\": \"white\", \"gridwidth\": 2, \"linecolor\": \"white\", \"showbackground\": true, \"ticks\": \"\", \"zerolinecolor\": \"white\"}, \"zaxis\": {\"backgroundcolor\": \"#E5ECF6\", \"gridcolor\": \"white\", \"gridwidth\": 2, \"linecolor\": \"white\", \"showbackground\": true, \"ticks\": \"\", \"zerolinecolor\": \"white\"}}, \"shapedefaults\": {\"line\": {\"color\": \"#2a3f5f\"}}, \"ternary\": {\"aaxis\": {\"gridcolor\": \"white\", \"linecolor\": \"white\", \"ticks\": \"\"}, \"baxis\": {\"gridcolor\": \"white\", \"linecolor\": \"white\", \"ticks\": \"\"}, \"bgcolor\": \"#E5ECF6\", \"caxis\": {\"gridcolor\": \"white\", \"linecolor\": \"white\", \"ticks\": \"\"}}, \"title\": {\"x\": 0.05}, \"xaxis\": {\"automargin\": true, \"gridcolor\": \"white\", \"linecolor\": \"white\", \"ticks\": \"\", \"title\": {\"standoff\": 15}, \"zerolinecolor\": \"white\", \"zerolinewidth\": 2}, \"yaxis\": {\"automargin\": true, \"gridcolor\": \"white\", \"linecolor\": \"white\", \"ticks\": \"\", \"title\": {\"standoff\": 15}, \"zerolinecolor\": \"white\", \"zerolinewidth\": 2}}}, \"title\": {\"text\": \"Proportion of Free and Paid apps\"}},\n",
              "                        {\"responsive\": true}\n",
              "                    ).then(function(){\n",
              "                            \n",
              "var gd = document.getElementById('2c21a369-7a7d-41e5-8089-1ca3a0608651');\n",
              "var x = new MutationObserver(function (mutations, observer) {{\n",
              "        var display = window.getComputedStyle(gd).display;\n",
              "        if (!display || display === 'none') {{\n",
              "            console.log([gd, 'removed!']);\n",
              "            Plotly.purge(gd);\n",
              "            observer.disconnect();\n",
              "        }}\n",
              "}});\n",
              "\n",
              "// Listen for the removal of the full notebook cells\n",
              "var notebookContainer = gd.closest('#notebook-container');\n",
              "if (notebookContainer) {{\n",
              "    x.observe(notebookContainer, {childList: true});\n",
              "}}\n",
              "\n",
              "// Listen for the clearing of the current output cell\n",
              "var outputEl = gd.closest('.output');\n",
              "if (outputEl) {{\n",
              "    x.observe(outputEl, {childList: true});\n",
              "}}\n",
              "\n",
              "                        })\n",
              "                };\n",
              "                \n",
              "            </script>\n",
              "        </div>\n",
              "</body>\n",
              "</html>"
            ]
          },
          "metadata": {}
        }
      ],
      "source": [
        "conn = create_connection(db_filename)\n",
        "with conn:\n",
        "    counts = []\n",
        "    c = conn.cursor()\n",
        "    c.execute('''Select count(*), payment_type_id from App group by payment_type_id''')\n",
        "    res = c.fetchall()\n",
        "#     print(res)\n",
        "    c.execute('''Select type_desc from payment''')\n",
        "    for (i,j) in res:\n",
        "        counts.append(i)\n",
        "    data = pd.DataFrame({'apptype':['Paid','Free'],'count':counts})\n",
        "    # print(data)\n",
        "#     fig = px.bar(data, x='apptype', y='count')\n",
        "#     fig.show()\n",
        "    fig = px.pie(data, values='count', names='apptype', title='Proportion of Free and Paid apps')\n",
        "    fig.show()"
      ]
    },
    {
      "cell_type": "markdown",
      "source": [
        "### Top 5 Categories by count of app installs, and avg. rating of apps in each of these categories\n",
        "Now that we have seen which categories have the highest no. of apps, we can compare this to the categories having highest no. of app installs.\n",
        "\n",
        "Steps:\n",
        "- Fetch data from normalized db using an a joined sql statement fetching category name, sum(installs) and avg. rating.\n",
        "- Group results by catrgory name, and select top 5 after sorting by count of installs (in descending order).\n",
        "- Plot the results using pie plot."
      ],
      "metadata": {
        "id": "vfLTiefaroQX"
      },
      "id": "vfLTiefaroQX"
    },
    {
      "cell_type": "code",
      "source": [
        "import datetime\n",
        "import pandas as pd\n",
        "import ipywidgets as widgets\n",
        "import plotly.graph_objects as go\n",
        "from IPython.display import display\n",
        "from IPython.display import HTML\n",
        "import plotly           #(version 4.5.4) #pip install plotly==4.5.4\n",
        "import plotly.express as px\n",
        "import plotly.io as pio\n",
        "\n",
        "conn = create_connection(db_filename)\n",
        "sql_statement = \"select c.category_name,sum(a.installs) as total_installs,avg(a.rating) as avg_ratings from App a, Category c where a.category_id=c.category_id group by c. category_name order by total_installs desc limit 5\" \n",
        "subset = pd.read_sql_query(sql_statement, conn)\n",
        "print(subset)\n",
        "\n",
        "pie_chart = px.pie(\n",
        "        data_frame=subset,\n",
        "        values='total_installs',\n",
        "        names='category_name',\n",
        "        color='category_name',                      \n",
        "        color_discrete_sequence=[\"red\",\"green\",\"blue\",\"orange\",\"pink\"],     #set marker colors\n",
        "        hover_name='avg_ratings',              #values appear in bold in the hover tooltip      \n",
        "        labels={\"category_name\":\"Category\"},       #map the labels\n",
        "        title='Top 5 Category wise Installs',     #figure title\n",
        "        template='presentation',            #'ggplot2', 'seaborn', 'simple_white', 'plotly',\n",
        "                                            #'plotly_white', 'plotly_dark', 'presentation',\n",
        "                                            #'xgridoff', 'ygridoff', 'gridon', 'none'\n",
        "        width=800,                          #figure width in pixels\n",
        "        height=600,                         #figure height in pixels\n",
        "        hole=0.5,                           #represents the hole in middle of pie\n",
        "        )\n",
        "\n",
        "\n",
        "\n",
        "pio.show(pie_chart)\n",
        "conn.close()"
      ],
      "metadata": {
        "colab": {
          "base_uri": "https://localhost:8080/",
          "height": 721
        },
        "id": "YQ9AM12-qn7Z",
        "outputId": "8076166e-57be-4ff3-dd5a-45adc8790fb0"
      },
      "id": "YQ9AM12-qn7Z",
      "execution_count": 192,
      "outputs": [
        {
          "output_type": "stream",
          "name": "stdout",
          "text": [
            "   category_name  total_installs  avg_ratings\n",
            "0           Game     31544024415     4.281285\n",
            "1  Communication     24152276251     4.151466\n",
            "2         Social     12513867902     4.254918\n",
            "3   Productivity     12463091369     4.201796\n",
            "4          Tools     11452771915     4.047411\n"
          ]
        },
        {
          "output_type": "display_data",
          "data": {
            "text/html": [
              "<html>\n",
              "<head><meta charset=\"utf-8\" /></head>\n",
              "<body>\n",
              "    <div>\n",
              "            <script src=\"https://cdnjs.cloudflare.com/ajax/libs/mathjax/2.7.5/MathJax.js?config=TeX-AMS-MML_SVG\"></script><script type=\"text/javascript\">if (window.MathJax) {MathJax.Hub.Config({SVG: {font: \"STIX-Web\"}});}</script>\n",
              "                <script type=\"text/javascript\">window.PlotlyConfig = {MathJaxConfig: 'local'};</script>\n",
              "        <script src=\"https://cdn.plot.ly/plotly-latest.min.js\"></script>    \n",
              "            <div id=\"fa6176e9-a788-45ef-91c1-c36748c87f98\" class=\"plotly-graph-div\" style=\"height:600px; width:800px;\"></div>\n",
              "            <script type=\"text/javascript\">\n",
              "                \n",
              "                    window.PLOTLYENV=window.PLOTLYENV || {};\n",
              "                    \n",
              "                if (document.getElementById(\"fa6176e9-a788-45ef-91c1-c36748c87f98\")) {\n",
              "                    Plotly.newPlot(\n",
              "                        'fa6176e9-a788-45ef-91c1-c36748c87f98',\n",
              "                        [{\"customdata\": [[\"Game\"], [\"Communication\"], [\"Social\"], [\"Productivity\"], [\"Tools\"]], \"domain\": {\"x\": [0.0, 1.0], \"y\": [0.0, 1.0]}, \"hole\": 0.5, \"hoverlabel\": {\"namelength\": 0}, \"hovertemplate\": \"<b>%{hovertext}</b><br><br>Category=%{label}<br>total_installs=%{value}\", \"hovertext\": [4.281284916201122, 4.1514657980456, 4.254918032786885, 4.201796407185632, 4.047411444141691], \"labels\": [\"Game\", \"Communication\", \"Social\", \"Productivity\", \"Tools\"], \"legendgroup\": \"\", \"marker\": {\"colors\": [\"red\", \"green\", \"blue\", \"orange\", \"pink\"]}, \"name\": \"\", \"showlegend\": true, \"type\": \"pie\", \"values\": [31544024415, 24152276251, 12513867902, 12463091369, 11452771915]}],\n",
              "                        {\"height\": 600, \"legend\": {\"tracegroupgap\": 0}, \"piecolorway\": [\"red\", \"green\", \"blue\", \"orange\", \"pink\"], \"template\": {\"data\": {\"pie\": [{\"automargin\": true, \"type\": \"pie\"}], \"scatter\": [{\"line\": {\"width\": 3}, \"marker\": {\"size\": 9}, \"type\": \"scatter\"}], \"scatter3d\": [{\"line\": {\"width\": 3}, \"marker\": {\"size\": 9}, \"type\": \"scatter3d\"}], \"scattergeo\": [{\"line\": {\"width\": 3}, \"marker\": {\"size\": 9}, \"type\": \"scattergeo\"}], \"scattergl\": [{\"line\": {\"width\": 3}, \"marker\": {\"size\": 9}, \"type\": \"scattergl\"}], \"scatterpolar\": [{\"line\": {\"width\": 3}, \"marker\": {\"size\": 9}, \"type\": \"scatterpolar\"}], \"scatterpolargl\": [{\"line\": {\"width\": 3}, \"marker\": {\"size\": 9}, \"type\": \"scatterpolargl\"}], \"scatterternary\": [{\"line\": {\"width\": 3}, \"marker\": {\"size\": 9}, \"type\": \"scatterternary\"}], \"table\": [{\"cells\": {\"height\": 30}, \"header\": {\"height\": 36}, \"type\": \"table\"}]}, \"layout\": {\"font\": {\"size\": 18}, \"xaxis\": {\"title\": {\"standoff\": 15}}, \"yaxis\": {\"title\": {\"standoff\": 15}}}}, \"title\": {\"text\": \"Top 5 Category wise Installs\"}, \"width\": 800},\n",
              "                        {\"responsive\": true}\n",
              "                    ).then(function(){\n",
              "                            \n",
              "var gd = document.getElementById('fa6176e9-a788-45ef-91c1-c36748c87f98');\n",
              "var x = new MutationObserver(function (mutations, observer) {{\n",
              "        var display = window.getComputedStyle(gd).display;\n",
              "        if (!display || display === 'none') {{\n",
              "            console.log([gd, 'removed!']);\n",
              "            Plotly.purge(gd);\n",
              "            observer.disconnect();\n",
              "        }}\n",
              "}});\n",
              "\n",
              "// Listen for the removal of the full notebook cells\n",
              "var notebookContainer = gd.closest('#notebook-container');\n",
              "if (notebookContainer) {{\n",
              "    x.observe(notebookContainer, {childList: true});\n",
              "}}\n",
              "\n",
              "// Listen for the clearing of the current output cell\n",
              "var outputEl = gd.closest('.output');\n",
              "if (outputEl) {{\n",
              "    x.observe(outputEl, {childList: true});\n",
              "}}\n",
              "\n",
              "                        })\n",
              "                };\n",
              "                \n",
              "            </script>\n",
              "        </div>\n",
              "</body>\n",
              "</html>"
            ]
          },
          "metadata": {}
        }
      ]
    },
    {
      "cell_type": "markdown",
      "source": [
        "### Analysis from plot\n",
        "- Though Family Apps had the highest installs, it's nowhere in the top 5 list.\n",
        "- Android developers need to shift focus to making apps that are in more demand."
      ],
      "metadata": {
        "id": "f3-YTtxhrvGW"
      },
      "id": "f3-YTtxhrvGW"
    },
    {
      "cell_type": "markdown",
      "source": [
        "### Checking if there is any major difference in paid/free ratings \n",
        "\n",
        "Steps:\n",
        "- Fetch data from normalized db using an a joined sql statement fetching category name, payment_type and avg. rating. Only \n",
        "  considering the top 5 categories (by install count)\n",
        "- Group results by catrgory name,payment_type\n",
        "- Plot the results using bar plot.\n"
      ],
      "metadata": {
        "id": "yvVLu3qPr1m1"
      },
      "id": "yvVLu3qPr1m1"
    },
    {
      "cell_type": "code",
      "source": [
        "import plotly           #(version 4.5.4) #pip install plotly==4.5.4\n",
        "import plotly.express as px\n",
        "import plotly.io as pio\n",
        "\n",
        "conn = create_connection(db_filename)\n",
        "#sql_statement = \"select b.category_name,avg(a.size) as avg_size,avg(a.rating) as avg_ratings,avg(a.installs) as avg_installs from App a,Category b where a.category_id=b.category_id group by b.category_name order by avg_installs desc\"\n",
        "sql_statement = \"select b.category_name,c.type_desc as payment,avg(a.rating) as avg_rating from App a,Category b,Payment c where a.category_id=b.category_id and a.payment_type_id=c.type_id group by b.category_name,payment order by avg_rating desc\"\n",
        "subset = pd.read_sql_query(sql_statement, conn)\n",
        "#print(subset)\n",
        "Category_list = ['Game','Communication','Social','Productivity','Tools']\n",
        "\n",
        "import numpy as np \n",
        "import matplotlib.pyplot as plt \n",
        "free_apps = []\n",
        "\n",
        "free_app_data=subset[subset['category_name'].isin(Category_list)]\n",
        "free_app_data=np.array(free_app_data[free_app_data['payment']=='Free']['avg_rating'])\n",
        "\n",
        "paid_app_data=subset[subset['category_name'].isin(Category_list)]\n",
        "paid_app_data=np.array(paid_app_data[paid_app_data['payment']=='Paid']['avg_rating'])\n",
        "\n",
        "\n",
        "Yfree = free_app_data\n",
        "YPaid = paid_app_data\n",
        "  \n",
        "X_axis = np.arange(len(Category_list))\n",
        "  \n",
        "plt.bar(X_axis - 0.2, Yfree, 0.4, label = 'Free')\n",
        "plt.bar(X_axis + 0.2, YPaid, 0.4, label = 'Paid')\n",
        "  \n",
        "plt.xticks(X_axis, Category_list)\n",
        "plt.xlabel(\"Category\")\n",
        "plt.ylabel(\"Avg. Ratings\")\n",
        "plt.title(\"Average ratings for top 5 installed Categories(Free vs Paid)\")\n",
        "plt.legend()\n",
        "plt.show()\n",
        "\n",
        "conn.close()\n"
      ],
      "metadata": {
        "colab": {
          "base_uri": "https://localhost:8080/",
          "height": 295
        },
        "id": "S2yCbMN_r5-U",
        "outputId": "f9ce8dac-b33e-4fad-a765-e2b8e02bfe83"
      },
      "id": "S2yCbMN_r5-U",
      "execution_count": 193,
      "outputs": [
        {
          "output_type": "display_data",
          "data": {
            "image/png": "[encoded data removed]",
            "text/plain": [
              "<Figure size 432x288 with 1 Axes>"
            ]
          },
          "metadata": {
            "needs_background": "light"
          }
        }
      ]
    },
    {
      "cell_type": "markdown",
      "id": "7ed6f502",
      "metadata": {
        "id": "7ed6f502"
      },
      "source": [
        "### Relation between the number of installs and number of reviews"
      ]
    },
    {
      "cell_type": "code",
      "execution_count": 194,
      "id": "0b9bc62f",
      "metadata": {
        "id": "0b9bc62f"
      },
      "outputs": [],
      "source": [
        "conn = create_connection(db_filename)\n",
        "\n",
        "with conn:\n",
        "    c = conn.cursor()\n",
        "    c.execute('''Select installs, reviews, size from App''')\n",
        "    res = c.fetchall()\n",
        "    installs = []\n",
        "    reviews = []\n",
        "    sizes = []\n",
        "    for i,j,k in res:\n",
        "        if k>0: # consider only valid app sizes\n",
        "            installs.append(i)\n",
        "            reviews.append(j)\n",
        "            sizes.append(k)\n",
        "    data = pd.DataFrame({'Installs':installs, 'Reviews': reviews, 'Size':sizes})\n",
        "#     no use of the below plot\n",
        "#     fig = px.line(data, x=\"Size\", y=\"Installs\", title='Life expectancy in Canada')\n",
        "#     fig.show()"
      ]
    },
    {
      "cell_type": "markdown",
      "source": [
        "### Simple Dashboard to check top performer in each category."
      ],
      "metadata": {
        "id": "kO7fmV7wIXVN"
      },
      "id": "kO7fmV7wIXVN"
    },
    {
      "cell_type": "code",
      "source": [
        "distinct_categories = []\n",
        "distinct_payment_type = []\n",
        "\n",
        "with conn:\n",
        "    distinct_categories = pd.read_sql_query('''Select distinct category_name from Category''', conn)\n",
        "    distinct_categories = distinct_categories['category_name'].values.tolist()\n",
        "    # print(distinct_categories)\n",
        "    distinct_payment_type = pd.read_sql_query('''Select distinct type_desc from payment''', conn)\n",
        "    distinct_payment_type = distinct_payment_type['type_desc'].values.tolist()\n",
        "    # print(distinct_payment_type)"
      ],
      "metadata": {
        "id": "6YacgBDxfWSM"
      },
      "id": "6YacgBDxfWSM",
      "execution_count": 115,
      "outputs": []
    },
    {
      "cell_type": "code",
      "source": [
        "from IPython.display import clear_output\n",
        "def extractAndPlotData(category='All',payment_mode='All',based_on='rating',limit=10):\n",
        "    with conn:\n",
        "        sql_statement = 'Select app_name, {} from app a join category b on a.category_id = b.category_id join Payment c on a.payment_type_id = c.type_id where 1==1 '.format(based_on,based_on)\n",
        "        if category != 'All':\n",
        "            sql_statement += 'and b.category_name = \"{}\" '.format(category)\n",
        "        if payment_mode != 'All':\n",
        "            sql_statement += 'and c.type_desc = \"{}\" '.format(payment_mode)\n",
        "        sql_statement += 'and {} >= 0 order by {} desc LIMIT {}'.format(based_on, based_on,limit)\n",
        "        # print(sql_statement)\n",
        "\n",
        "        result = pd.read_sql_query(sql_statement, conn)\n",
        "        # print(result)\n",
        "        result = result.iloc[::-1]\n",
        "        fig, ax = plt.subplots(figsize=(15,8))\n",
        " \n",
        "        if result.shape[0] != 0:\n",
        "            if result.iloc[:,1].isnull().values.any() != True:\n",
        "\n",
        "                # Save the chart so we can loop through the bars below.\n",
        "                bars = ax.barh(result.iloc[:,0], result.iloc[:,1])\n",
        "\n",
        "                # Add labels and a title.\n",
        "                ax.set_xlabel('{} Counts'.format(based_on), labelpad=15, color='#333333')\n",
        "                ax.set_ylabel('Name of application', labelpad=15, color='#333333')\n",
        "                ax.set_title('Top {} Best Application Based on {}'.format(limit, based_on), pad=15, color='#333333', weight='bold')\n",
        "\n",
        "                fig.tight_layout()\n",
        "            else:\n",
        "                ax.set_title('None Datatype Present !!! - Top {} Apps based on {}'.format(limit, based_on), pad=15, color='#333333', weight='bold')\n",
        "        else :\n",
        "            ax.set_title('No Data Found for !!! - Top {} Best Application Based on {}'.format(limit, based_on), pad=15, color='#333333', weight='bold')\n",
        "extractAndPlotData(based_on='installs')"
      ],
      "metadata": {
        "id": "xDqLD_K6yRgC",
        "colab": {
          "base_uri": "https://localhost:8080/",
          "height": 585
        },
        "outputId": "437d55af-e32c-4c31-aa65-ccf685c3d744"
      },
      "id": "xDqLD_K6yRgC",
      "execution_count": 116,
      "outputs": [
        {
          "output_type": "display_data",
          "data": {
            "image/png": "[encoded data removed]",
            "text/plain": [
              "<Figure size 1080x576 with 1 Axes>"
            ]
          },
          "metadata": {
            "needs_background": "light"
          }
        }
      ]
    },
    {
      "cell_type": "code",
      "source": [
        "from google.colab import output\n",
        "import time \n",
        "\n",
        "def on_button_clicked(b):\n",
        "        clear_output()\n",
        "        category = form_items[0].children[1].value\n",
        "        payment_mode = form_items[1].children[1].value\n",
        "        based_on = form_items[2].children[1].value\n",
        "        limit = form_items[3].children[1].value\n",
        "        time.sleep(1)\n",
        "        extractAndPlotData(category=category, payment_mode=payment_mode, based_on=based_on, limit=limit)\n",
        "        display(form)"
      ],
      "metadata": {
        "id": "WAp0-d0UDScV"
      },
      "id": "WAp0-d0UDScV",
      "execution_count": 117,
      "outputs": []
    },
    {
      "cell_type": "code",
      "source": [
        "from ipywidgets import Layout, Button, Box, FloatText, Textarea, Dropdown, Label, IntSlider, SelectionRangeSlider\n",
        "\n",
        "\n",
        "form_item_layout = Layout(\n",
        "    display='flex',\n",
        "    flex_flow='row',\n",
        "    justify_content='space-between'\n",
        ")\n",
        "\n",
        "button = widgets.Button(description=\"Plot Graph !\")\n",
        "output = widgets.Output()\n",
        "\n",
        "form_items = [\n",
        "    Box([Label(value='Category : '), Dropdown(options=['All']+distinct_categories)], layout=form_item_layout),\n",
        "    Box([Label(value='Payment Mode : '), Dropdown(options=['All']+distinct_payment_type)], layout=form_item_layout),\n",
        "    Box([Label(value='Based on : '), Dropdown(options=['rating', 'installs', 'reviews', 'size'])], layout=form_item_layout),\n",
        "    Box([Label(value='How many top : '), Dropdown(options=['5', '10', '15', '20', '25'])], layout=form_item_layout),\n",
        "    Box([Label(value='Submit : '), button], layout=form_item_layout),\n",
        "]\n",
        "\n",
        "button.on_click(on_button_clicked)\n",
        "\n",
        "form = Box(form_items, layout=Layout(\n",
        "    display='flex',\n",
        "    flex_flow='column',\n",
        "    border='solid 2px',\n",
        "    align_items='stretch',\n",
        "    width='50%'\n",
        "))\n",
        "form\n"
      ],
      "metadata": {
        "id": "DjhPUt4Zc2SW",
        "colab": {
          "base_uri": "https://localhost:8080/",
          "height": 748,
          "referenced_widgets": [
            "47313eea182f45cf90b9c5ce028a28c2",
            "7350ecc098e5446c85347dfc78d22a48",
            "f8ed899e54464cbb9dd12938b6bbabf8",
            "44d87ea644454768b506fd2675f69e97",
            "cc21327428b443babde50b162f389616",
            "52fddc05381343d9b4cb4f96808c6259",
            "e570e82a8e094238aa724337b3e242a5",
            "9e83dd6478da4cc391b882157c28fd62",
            "d3167f0d0815437d8d8567c3713770b7",
            "d41ec757f7df437e9272f681ea5099f4",
            "b0ecf6063a08426a9fb1e261d07fe77b",
            "4a4c9f949e5342fbbd69dc5713efed20",
            "566ea29b502d4dc18c19386a84ab0657",
            "fda91e625b3e439dab0160c99949234c",
            "d1f7157491da417ba4139cd2f5e5cd8a",
            "746e44e3dd634c06953ed413bcc7b62b",
            "3c4e82fac95542e5b384800b5b15746a",
            "58b33ed90d144eb6b6b684e3be05ec3a",
            "93234f77675d42caa0a8034988df4029",
            "2146a949d3f74044b7d72ed4f46e74f2",
            "4ce59226d104439592d4a5a2383eccd7",
            "56da0342ebfa416ea2827ccbe47cca62",
            "83601f30c2724abb9fb2bb37cb8d421a",
            "6be8f5c3dda940efa3e58e880520b70a",
            "d95c401e21fa4150b75f5d1eb27fccca",
            "e07fdce5e31a4420ac5d0e4d54cc4385",
            "29f03a3672784ca4b2a429bedcc86ab2",
            "e3a4b613e9554e18a6e2341cd5cb9fff",
            "fb56c228e7cc40558f9778003b1bd375",
            "8b017db6f67f43b7b6992c7b959800f6",
            "ba612d964c6f453f8704620eb8c4984f",
            "ea44de09aa3148e2acb37e190ab88ec6",
            "64ed571f1abd43378fed59963b1a84e8",
            "6f63229abd5d4915bb9b253483fd0434",
            "6f6e6f81c356460a94a45cd67ee27256",
            "38cb01f040b74ba1b1cbb165941f3aab",
            "c1cd51df36ae4e41bab45162ffd32065",
            "afa6327a9739418e8bc6bdb2646e1749"
          ]
        },
        "outputId": "6376bd12-7418-4e82-a980-ec093f4b6228"
      },
      "id": "DjhPUt4Zc2SW",
      "execution_count": 118,
      "outputs": [
        {
          "output_type": "display_data",
          "data": {
            "application/vnd.jupyter.widget-view+json": {
              "model_id": "47313eea182f45cf90b9c5ce028a28c2",
              "version_minor": 0,
              "version_major": 2
            },
            "text/plain": [
              "Box(children=(Box(children=(Label(value='Category : '), Dropdown(index=9, options=('All', 'Art and design', 'A…"
            ]
          },
          "metadata": {}
        },
        {
          "output_type": "display_data",
          "data": {
            "image/png": "[encoded data removed]",
            "text/plain": [
              "<Figure size 1080x576 with 1 Axes>"
            ]
          },
          "metadata": {
            "needs_background": "light"
          }
        }
      ]
    },
    {
      "cell_type": "markdown",
      "source": [
        "### On average which application categories are heavy in size?\n",
        "\n",
        "\n",
        "\n",
        "\n",
        "\n"
      ],
      "metadata": {
        "id": "Yld2A2K3qQ7d"
      },
      "id": "Yld2A2K3qQ7d"
    },
    {
      "cell_type": "code",
      "source": [
        "\n",
        "with conn:\n",
        "    sql_statement = ''' SELECT b.category_name, AVG(a.size) AS counts\n",
        "                        FROM app a JOIN category b ON a.category_id = b.category_id\n",
        "                        JOIN Payment c ON a.payment_type_id = c.type_id\n",
        "                        GROUP BY b.category_name;'''\n",
        "\n",
        "    result = pd.read_sql_query(sql_statement, conn)\n",
        "        \n",
        "    fig = px.pie(result, values='counts', names='category_name', title='Average Size of each category.')\n",
        "    fig.show()"
      ],
      "metadata": {
        "id": "JUds2uDhq3LB",
        "colab": {
          "base_uri": "https://localhost:8080/",
          "height": 542
        },
        "outputId": "3607ed27-c06a-4086-bc5c-894b6e747a9d"
      },
      "id": "JUds2uDhq3LB",
      "execution_count": 120,
      "outputs": [
        {
          "output_type": "display_data",
          "data": {
            "text/html": [
              "<html>\n",
              "<head><meta charset=\"utf-8\" /></head>\n",
              "<body>\n",
              "    <div>\n",
              "            <script src=\"https://cdnjs.cloudflare.com/ajax/libs/mathjax/2.7.5/MathJax.js?config=TeX-AMS-MML_SVG\"></script><script type=\"text/javascript\">if (window.MathJax) {MathJax.Hub.Config({SVG: {font: \"STIX-Web\"}});}</script>\n",
              "                <script type=\"text/javascript\">window.PlotlyConfig = {MathJaxConfig: 'local'};</script>\n",
              "        <script src=\"https://cdn.plot.ly/plotly-latest.min.js\"></script>    \n",
              "            <div id=\"d666b917-94f0-45ff-b7e2-ce38d11c3a0b\" class=\"plotly-graph-div\" style=\"height:525px; width:100%;\"></div>\n",
              "            <script type=\"text/javascript\">\n",
              "                \n",
              "                    window.PLOTLYENV=window.PLOTLYENV || {};\n",
              "                    \n",
              "                if (document.getElementById(\"d666b917-94f0-45ff-b7e2-ce38d11c3a0b\")) {\n",
              "                    Plotly.newPlot(\n",
              "                        'd666b917-94f0-45ff-b7e2-ce38d11c3a0b',\n",
              "                        [{\"domain\": {\"x\": [0.0, 1.0], \"y\": [0.0, 1.0]}, \"hoverlabel\": {\"namelength\": 0}, \"hovertemplate\": \"category_name=%{label}<br>counts=%{value}\", \"labels\": [\"Art and design\", \"Auto and vehicles\", \"Beauty\", \"Books and reference\", \"Business\", \"Comics\", \"Communication\", \"Dating\", \"Education\", \"Entertainment\", \"Events\", \"Family\", \"Finance\", \"Food and drink\", \"Game\", \"Health and fitness\", \"House and home\", \"Libraries and demo\", \"Lifestyle\", \"Maps and navigation\", \"Medical\", \"News and magazines\", \"Parenting\", \"Personalization\", \"Photography\", \"Productivity\", \"Shopping\", \"Social\", \"Sports\", \"Tools\", \"Travel and local\", \"Video players\", \"Weather\"], \"legendgroup\": \"\", \"name\": \"\", \"showlegend\": true, \"type\": \"pie\", \"values\": [11.753846153846156, 17.56218823529412, 12.120754716981134, 11.092313043478258, 12.236451990632323, 11.312550000000003, 7.992286885245901, 14.28070408163266, 14.564476923076919, 13.268468468468468, 12.32709375, 25.890564590838895, 14.991861111111103, 17.221774193548388, 39.2558876003568, 16.75938562091503, 12.151949999999998, 10.656864705882352, 13.36890616621984, 12.886051094890512, 17.98480147058823, 9.803439393939403, 20.161666666666665, 10.213512886597947, 12.457102484472049, 9.191078624078624, 12.654290178571433, 11.959975000000004, 20.235421652421664, 7.565781731909848, 18.271573839662445, 11.789028571428569, 8.81807317073171]}],\n",
              "                        {\"legend\": {\"tracegroupgap\": 0}, \"template\": {\"data\": {\"bar\": [{\"error_x\": {\"color\": \"#2a3f5f\"}, \"error_y\": {\"color\": \"#2a3f5f\"}, \"marker\": {\"line\": {\"color\": \"#E5ECF6\", \"width\": 0.5}}, \"type\": \"bar\"}], \"barpolar\": [{\"marker\": {\"line\": {\"color\": \"#E5ECF6\", \"width\": 0.5}}, \"type\": \"barpolar\"}], \"carpet\": [{\"aaxis\": {\"endlinecolor\": \"#2a3f5f\", \"gridcolor\": \"white\", \"linecolor\": \"white\", \"minorgridcolor\": \"white\", \"startlinecolor\": \"#2a3f5f\"}, \"baxis\": {\"endlinecolor\": \"#2a3f5f\", \"gridcolor\": \"white\", \"linecolor\": \"white\", \"minorgridcolor\": \"white\", \"startlinecolor\": \"#2a3f5f\"}, \"type\": \"carpet\"}], \"choropleth\": [{\"colorbar\": {\"outlinewidth\": 0, \"ticks\": \"\"}, \"type\": \"choropleth\"}], \"contour\": [{\"colorbar\": {\"outlinewidth\": 0, \"ticks\": \"\"}, \"colorscale\": [[0.0, \"#0d0887\"], [0.1111111111111111, \"#46039f\"], [0.2222222222222222, \"#7201a8\"], [0.3333333333333333, \"#9c179e\"], [0.4444444444444444, \"#bd3786\"], [0.5555555555555556, \"#d8576b\"], [0.6666666666666666, \"#ed7953\"], [0.7777777777777778, \"#fb9f3a\"], [0.8888888888888888, \"#fdca26\"], [1.0, \"#f0f921\"]], \"type\": \"contour\"}], \"contourcarpet\": [{\"colorbar\": {\"outlinewidth\": 0, \"ticks\": \"\"}, \"type\": \"contourcarpet\"}], \"heatmap\": [{\"colorbar\": {\"outlinewidth\": 0, \"ticks\": \"\"}, \"colorscale\": [[0.0, \"#0d0887\"], [0.1111111111111111, \"#46039f\"], [0.2222222222222222, \"#7201a8\"], [0.3333333333333333, \"#9c179e\"], [0.4444444444444444, \"#bd3786\"], [0.5555555555555556, \"#d8576b\"], [0.6666666666666666, \"#ed7953\"], [0.7777777777777778, \"#fb9f3a\"], [0.8888888888888888, \"#fdca26\"], [1.0, \"#f0f921\"]], \"type\": \"heatmap\"}], \"heatmapgl\": [{\"colorbar\": {\"outlinewidth\": 0, \"ticks\": \"\"}, \"colorscale\": [[0.0, \"#0d0887\"], [0.1111111111111111, \"#46039f\"], [0.2222222222222222, \"#7201a8\"], [0.3333333333333333, \"#9c179e\"], [0.4444444444444444, \"#bd3786\"], [0.5555555555555556, \"#d8576b\"], [0.6666666666666666, \"#ed7953\"], [0.7777777777777778, \"#fb9f3a\"], [0.8888888888888888, \"#fdca26\"], [1.0, \"#f0f921\"]], \"type\": \"heatmapgl\"}], \"histogram\": [{\"marker\": {\"colorbar\": {\"outlinewidth\": 0, \"ticks\": \"\"}}, \"type\": \"histogram\"}], \"histogram2d\": [{\"colorbar\": {\"outlinewidth\": 0, \"ticks\": \"\"}, \"colorscale\": [[0.0, \"#0d0887\"], [0.1111111111111111, \"#46039f\"], [0.2222222222222222, \"#7201a8\"], [0.3333333333333333, \"#9c179e\"], [0.4444444444444444, \"#bd3786\"], [0.5555555555555556, \"#d8576b\"], [0.6666666666666666, \"#ed7953\"], [0.7777777777777778, \"#fb9f3a\"], [0.8888888888888888, \"#fdca26\"], [1.0, \"#f0f921\"]], \"type\": \"histogram2d\"}], \"histogram2dcontour\": [{\"colorbar\": {\"outlinewidth\": 0, \"ticks\": \"\"}, \"colorscale\": [[0.0, \"#0d0887\"], [0.1111111111111111, \"#46039f\"], [0.2222222222222222, \"#7201a8\"], [0.3333333333333333, \"#9c179e\"], [0.4444444444444444, \"#bd3786\"], [0.5555555555555556, \"#d8576b\"], [0.6666666666666666, \"#ed7953\"], [0.7777777777777778, \"#fb9f3a\"], [0.8888888888888888, \"#fdca26\"], [1.0, \"#f0f921\"]], \"type\": \"histogram2dcontour\"}], \"mesh3d\": [{\"colorbar\": {\"outlinewidth\": 0, \"ticks\": \"\"}, \"type\": \"mesh3d\"}], \"parcoords\": [{\"line\": {\"colorbar\": {\"outlinewidth\": 0, \"ticks\": \"\"}}, \"type\": \"parcoords\"}], \"pie\": [{\"automargin\": true, \"type\": \"pie\"}], \"scatter\": [{\"marker\": {\"colorbar\": {\"outlinewidth\": 0, \"ticks\": \"\"}}, \"type\": \"scatter\"}], \"scatter3d\": [{\"line\": {\"colorbar\": {\"outlinewidth\": 0, \"ticks\": \"\"}}, \"marker\": {\"colorbar\": {\"outlinewidth\": 0, \"ticks\": \"\"}}, \"type\": \"scatter3d\"}], \"scattercarpet\": [{\"marker\": {\"colorbar\": {\"outlinewidth\": 0, \"ticks\": \"\"}}, \"type\": \"scattercarpet\"}], \"scattergeo\": [{\"marker\": {\"colorbar\": {\"outlinewidth\": 0, \"ticks\": \"\"}}, \"type\": \"scattergeo\"}], \"scattergl\": [{\"marker\": {\"colorbar\": {\"outlinewidth\": 0, \"ticks\": \"\"}}, \"type\": \"scattergl\"}], \"scattermapbox\": [{\"marker\": {\"colorbar\": {\"outlinewidth\": 0, \"ticks\": \"\"}}, \"type\": \"scattermapbox\"}], \"scatterpolar\": [{\"marker\": {\"colorbar\": {\"outlinewidth\": 0, \"ticks\": \"\"}}, \"type\": \"scatterpolar\"}], \"scatterpolargl\": [{\"marker\": {\"colorbar\": {\"outlinewidth\": 0, \"ticks\": \"\"}}, \"type\": \"scatterpolargl\"}], \"scatterternary\": [{\"marker\": {\"colorbar\": {\"outlinewidth\": 0, \"ticks\": \"\"}}, \"type\": \"scatterternary\"}], \"surface\": [{\"colorbar\": {\"outlinewidth\": 0, \"ticks\": \"\"}, \"colorscale\": [[0.0, \"#0d0887\"], [0.1111111111111111, \"#46039f\"], [0.2222222222222222, \"#7201a8\"], [0.3333333333333333, \"#9c179e\"], [0.4444444444444444, \"#bd3786\"], [0.5555555555555556, \"#d8576b\"], [0.6666666666666666, \"#ed7953\"], [0.7777777777777778, \"#fb9f3a\"], [0.8888888888888888, \"#fdca26\"], [1.0, \"#f0f921\"]], \"type\": \"surface\"}], \"table\": [{\"cells\": {\"fill\": {\"color\": \"#EBF0F8\"}, \"line\": {\"color\": \"white\"}}, \"header\": {\"fill\": {\"color\": \"#C8D4E3\"}, \"line\": {\"color\": \"white\"}}, \"type\": \"table\"}]}, \"layout\": {\"annotationdefaults\": {\"arrowcolor\": \"#2a3f5f\", \"arrowhead\": 0, \"arrowwidth\": 1}, \"coloraxis\": {\"colorbar\": {\"outlinewidth\": 0, \"ticks\": \"\"}}, \"colorscale\": {\"diverging\": [[0, \"#8e0152\"], [0.1, \"#c51b7d\"], [0.2, \"#de77ae\"], [0.3, \"#f1b6da\"], [0.4, \"#fde0ef\"], [0.5, \"#f7f7f7\"], [0.6, \"#e6f5d0\"], [0.7, \"#b8e186\"], [0.8, \"#7fbc41\"], [0.9, \"#4d9221\"], [1, \"#276419\"]], \"sequential\": [[0.0, \"#0d0887\"], [0.1111111111111111, \"#46039f\"], [0.2222222222222222, \"#7201a8\"], [0.3333333333333333, \"#9c179e\"], [0.4444444444444444, \"#bd3786\"], [0.5555555555555556, \"#d8576b\"], [0.6666666666666666, \"#ed7953\"], [0.7777777777777778, \"#fb9f3a\"], [0.8888888888888888, \"#fdca26\"], [1.0, \"#f0f921\"]], \"sequentialminus\": [[0.0, \"#0d0887\"], [0.1111111111111111, \"#46039f\"], [0.2222222222222222, \"#7201a8\"], [0.3333333333333333, \"#9c179e\"], [0.4444444444444444, \"#bd3786\"], [0.5555555555555556, \"#d8576b\"], [0.6666666666666666, \"#ed7953\"], [0.7777777777777778, \"#fb9f3a\"], [0.8888888888888888, \"#fdca26\"], [1.0, \"#f0f921\"]]}, \"colorway\": [\"#636efa\", \"#EF553B\", \"#00cc96\", \"#ab63fa\", \"#FFA15A\", \"#19d3f3\", \"#FF6692\", \"#B6E880\", \"#FF97FF\", \"#FECB52\"], \"font\": {\"color\": \"#2a3f5f\"}, \"geo\": {\"bgcolor\": \"white\", \"lakecolor\": \"white\", \"landcolor\": \"#E5ECF6\", \"showlakes\": true, \"showland\": true, \"subunitcolor\": \"white\"}, \"hoverlabel\": {\"align\": \"left\"}, \"hovermode\": \"closest\", \"mapbox\": {\"style\": \"light\"}, \"paper_bgcolor\": \"white\", \"plot_bgcolor\": \"#E5ECF6\", \"polar\": {\"angularaxis\": {\"gridcolor\": \"white\", \"linecolor\": \"white\", \"ticks\": \"\"}, \"bgcolor\": \"#E5ECF6\", \"radialaxis\": {\"gridcolor\": \"white\", \"linecolor\": \"white\", \"ticks\": \"\"}}, \"scene\": {\"xaxis\": {\"backgroundcolor\": \"#E5ECF6\", \"gridcolor\": \"white\", \"gridwidth\": 2, \"linecolor\": \"white\", \"showbackground\": true, \"ticks\": \"\", \"zerolinecolor\": \"white\"}, \"yaxis\": {\"backgroundcolor\": \"#E5ECF6\", \"gridcolor\": \"white\", \"gridwidth\": 2, \"linecolor\": \"white\", \"showbackground\": true, \"ticks\": \"\", \"zerolinecolor\": \"white\"}, \"zaxis\": {\"backgroundcolor\": \"#E5ECF6\", \"gridcolor\": \"white\", \"gridwidth\": 2, \"linecolor\": \"white\", \"showbackground\": true, \"ticks\": \"\", \"zerolinecolor\": \"white\"}}, \"shapedefaults\": {\"line\": {\"color\": \"#2a3f5f\"}}, \"ternary\": {\"aaxis\": {\"gridcolor\": \"white\", \"linecolor\": \"white\", \"ticks\": \"\"}, \"baxis\": {\"gridcolor\": \"white\", \"linecolor\": \"white\", \"ticks\": \"\"}, \"bgcolor\": \"#E5ECF6\", \"caxis\": {\"gridcolor\": \"white\", \"linecolor\": \"white\", \"ticks\": \"\"}}, \"title\": {\"x\": 0.05}, \"xaxis\": {\"automargin\": true, \"gridcolor\": \"white\", \"linecolor\": \"white\", \"ticks\": \"\", \"title\": {\"standoff\": 15}, \"zerolinecolor\": \"white\", \"zerolinewidth\": 2}, \"yaxis\": {\"automargin\": true, \"gridcolor\": \"white\", \"linecolor\": \"white\", \"ticks\": \"\", \"title\": {\"standoff\": 15}, \"zerolinecolor\": \"white\", \"zerolinewidth\": 2}}}, \"title\": {\"text\": \"Average Size of each category.\"}},\n",
              "                        {\"responsive\": true}\n",
              "                    ).then(function(){\n",
              "                            \n",
              "var gd = document.getElementById('d666b917-94f0-45ff-b7e2-ce38d11c3a0b');\n",
              "var x = new MutationObserver(function (mutations, observer) {{\n",
              "        var display = window.getComputedStyle(gd).display;\n",
              "        if (!display || display === 'none') {{\n",
              "            console.log([gd, 'removed!']);\n",
              "            Plotly.purge(gd);\n",
              "            observer.disconnect();\n",
              "        }}\n",
              "}});\n",
              "\n",
              "// Listen for the removal of the full notebook cells\n",
              "var notebookContainer = gd.closest('#notebook-container');\n",
              "if (notebookContainer) {{\n",
              "    x.observe(notebookContainer, {childList: true});\n",
              "}}\n",
              "\n",
              "// Listen for the clearing of the current output cell\n",
              "var outputEl = gd.closest('.output');\n",
              "if (outputEl) {{\n",
              "    x.observe(outputEl, {childList: true});\n",
              "}}\n",
              "\n",
              "                        })\n",
              "                };\n",
              "                \n",
              "            </script>\n",
              "        </div>\n",
              "</body>\n",
              "</html>"
            ]
          },
          "metadata": {}
        }
      ]
    },
    {
      "cell_type": "markdown",
      "source": [
        "**Analysis from plot :**\n",
        "\n",
        "> 1. On average Games are taking much space as compared to other applications.\n",
        "> 2. More than 75% of the application are less than 20 Mb in size except for a few categories like Games, Family, Sports, and Parenting. \n",
        "> 3. Low space application categories are Tools and Communication which only consumes Less than 7 Mb on average.   \n"
      ],
      "metadata": {
        "id": "FA7wunxbuoSb"
      },
      "id": "FA7wunxbuoSb"
    },
    {
      "cell_type": "markdown",
      "source": [
        "# Predicting number of installs using linear regression\n",
        "Now we attempt to predict the number of installs based on app features"
      ],
      "metadata": {
        "id": "y3r91QrgJjq_"
      },
      "id": "y3r91QrgJjq_"
    },
    {
      "cell_type": "code",
      "source": [
        "from sklearn.linear_model import LinearRegression\n",
        "data = df\n",
        "data = data.iloc[:,:-4]\n",
        "\n",
        "# remove rows with very less number of install to normalize the distribution of installs\n",
        "data = data[data['Installs']>10000]\n",
        "data.head()\n",
        "\n",
        "# one hot encoding for categorical variables\n",
        "one_hot_type = pd.get_dummies(df['Type'])\n",
        "data.drop('Type',axis=1,inplace=True)\n",
        "data = data.join(one_hot_type)\n",
        "one_hot_category = pd.get_dummies(df['Category'])\n",
        "data.drop('Category',axis=1,inplace=True)\n",
        "data = data.join(one_hot_category)\n",
        "one_hot_contentrating = pd.get_dummies(df['Content Rating'])\n",
        "data.drop('Content Rating',axis=1,inplace=True)\n",
        "data = data.join(one_hot_contentrating)\n",
        "\n",
        "#drop apps with negative value of size\n",
        "index_names = data[data['Size']<0].index\n",
        "data.drop(index_names,inplace=True)\n",
        "data.head()\n",
        "# data.shape"
      ],
      "metadata": {
        "colab": {
          "base_uri": "https://localhost:8080/",
          "height": 582
        },
        "id": "aVs70iizJg6z",
        "outputId": "ff362976-0a26-4c2b-ee5e-dd6a7690362d"
      },
      "id": "aVs70iizJg6z",
      "execution_count": 121,
      "outputs": [
        {
          "output_type": "execute_result",
          "data": {
            "text/html": [
              "\n",
              "  <div id=\"df-dd773f2c-cf80-4d2e-a7ae-ca0f2d3c0b2a\">\n",
              "    <div class=\"colab-df-container\">\n",
              "      <div>\n",
              "<style scoped>\n",
              "    .dataframe tbody tr th:only-of-type {\n",
              "        vertical-align: middle;\n",
              "    }\n",
              "\n",
              "    .dataframe tbody tr th {\n",
              "        vertical-align: top;\n",
              "    }\n",
              "\n",
              "    .dataframe thead th {\n",
              "        text-align: right;\n",
              "    }\n",
              "</style>\n",
              "<table border=\"1\" class=\"dataframe\">\n",
              "  <thead>\n",
              "    <tr style=\"text-align: right;\">\n",
              "      <th></th>\n",
              "      <th>App</th>\n",
              "      <th>Rating</th>\n",
              "      <th>Reviews</th>\n",
              "      <th>Size</th>\n",
              "      <th>Installs</th>\n",
              "      <th>Price</th>\n",
              "      <th>Free</th>\n",
              "      <th>Paid</th>\n",
              "      <th>Art and design</th>\n",
              "      <th>Auto and vehicles</th>\n",
              "      <th>Beauty</th>\n",
              "      <th>Books and reference</th>\n",
              "      <th>Business</th>\n",
              "      <th>Comics</th>\n",
              "      <th>Communication</th>\n",
              "      <th>Dating</th>\n",
              "      <th>Education</th>\n",
              "      <th>Entertainment</th>\n",
              "      <th>Events</th>\n",
              "      <th>Family</th>\n",
              "      <th>Finance</th>\n",
              "      <th>Food and drink</th>\n",
              "      <th>Game</th>\n",
              "      <th>Health and fitness</th>\n",
              "      <th>House and home</th>\n",
              "      <th>Libraries and demo</th>\n",
              "      <th>Lifestyle</th>\n",
              "      <th>Maps and navigation</th>\n",
              "      <th>Medical</th>\n",
              "      <th>News and magazines</th>\n",
              "      <th>Parenting</th>\n",
              "      <th>Personalization</th>\n",
              "      <th>Photography</th>\n",
              "      <th>Productivity</th>\n",
              "      <th>Shopping</th>\n",
              "      <th>Social</th>\n",
              "      <th>Sports</th>\n",
              "      <th>Tools</th>\n",
              "      <th>Travel and local</th>\n",
              "      <th>Video players</th>\n",
              "      <th>Weather</th>\n",
              "      <th>Adults only 18+</th>\n",
              "      <th>Everyone</th>\n",
              "      <th>Everyone 10+</th>\n",
              "      <th>Mature 17+</th>\n",
              "      <th>Teen</th>\n",
              "      <th>Unrated</th>\n",
              "    </tr>\n",
              "  </thead>\n",
              "  <tbody>\n",
              "    <tr>\n",
              "      <th>1</th>\n",
              "      <td>Coloring book moana</td>\n",
              "      <td>3.9</td>\n",
              "      <td>967</td>\n",
              "      <td>14.0</td>\n",
              "      <td>500000</td>\n",
              "      <td>0.0</td>\n",
              "      <td>1</td>\n",
              "      <td>0</td>\n",
              "      <td>1</td>\n",
              "      <td>0</td>\n",
              "      <td>0</td>\n",
              "      <td>0</td>\n",
              "      <td>0</td>\n",
              "      <td>0</td>\n",
              "      <td>0</td>\n",
              "      <td>0</td>\n",
              "      <td>0</td>\n",
              "      <td>0</td>\n",
              "      <td>0</td>\n",
              "      <td>0</td>\n",
              "      <td>0</td>\n",
              "      <td>0</td>\n",
              "      <td>0</td>\n",
              "      <td>0</td>\n",
              "      <td>0</td>\n",
              "      <td>0</td>\n",
              "      <td>0</td>\n",
              "      <td>0</td>\n",
              "      <td>0</td>\n",
              "      <td>0</td>\n",
              "      <td>0</td>\n",
              "      <td>0</td>\n",
              "      <td>0</td>\n",
              "      <td>0</td>\n",
              "      <td>0</td>\n",
              "      <td>0</td>\n",
              "      <td>0</td>\n",
              "      <td>0</td>\n",
              "      <td>0</td>\n",
              "      <td>0</td>\n",
              "      <td>0</td>\n",
              "      <td>0</td>\n",
              "      <td>1</td>\n",
              "      <td>0</td>\n",
              "      <td>0</td>\n",
              "      <td>0</td>\n",
              "      <td>0</td>\n",
              "    </tr>\n",
              "    <tr>\n",
              "      <th>2</th>\n",
              "      <td>U Launcher Lite – FREE Live Cool Themes, Hide ...</td>\n",
              "      <td>4.7</td>\n",
              "      <td>87510</td>\n",
              "      <td>8.7</td>\n",
              "      <td>5000000</td>\n",
              "      <td>0.0</td>\n",
              "      <td>1</td>\n",
              "      <td>0</td>\n",
              "      <td>1</td>\n",
              "      <td>0</td>\n",
              "      <td>0</td>\n",
              "      <td>0</td>\n",
              "      <td>0</td>\n",
              "      <td>0</td>\n",
              "      <td>0</td>\n",
              "      <td>0</td>\n",
              "      <td>0</td>\n",
              "      <td>0</td>\n",
              "      <td>0</td>\n",
              "      <td>0</td>\n",
              "      <td>0</td>\n",
              "      <td>0</td>\n",
              "      <td>0</td>\n",
              "      <td>0</td>\n",
              "      <td>0</td>\n",
              "      <td>0</td>\n",
              "      <td>0</td>\n",
              "      <td>0</td>\n",
              "      <td>0</td>\n",
              "      <td>0</td>\n",
              "      <td>0</td>\n",
              "      <td>0</td>\n",
              "      <td>0</td>\n",
              "      <td>0</td>\n",
              "      <td>0</td>\n",
              "      <td>0</td>\n",
              "      <td>0</td>\n",
              "      <td>0</td>\n",
              "      <td>0</td>\n",
              "      <td>0</td>\n",
              "      <td>0</td>\n",
              "      <td>0</td>\n",
              "      <td>1</td>\n",
              "      <td>0</td>\n",
              "      <td>0</td>\n",
              "      <td>0</td>\n",
              "      <td>0</td>\n",
              "    </tr>\n",
              "    <tr>\n",
              "      <th>3</th>\n",
              "      <td>Sketch - Draw &amp; Paint</td>\n",
              "      <td>4.5</td>\n",
              "      <td>215644</td>\n",
              "      <td>25.0</td>\n",
              "      <td>50000000</td>\n",
              "      <td>0.0</td>\n",
              "      <td>1</td>\n",
              "      <td>0</td>\n",
              "      <td>1</td>\n",
              "      <td>0</td>\n",
              "      <td>0</td>\n",
              "      <td>0</td>\n",
              "      <td>0</td>\n",
              "      <td>0</td>\n",
              "      <td>0</td>\n",
              "      <td>0</td>\n",
              "      <td>0</td>\n",
              "      <td>0</td>\n",
              "      <td>0</td>\n",
              "      <td>0</td>\n",
              "      <td>0</td>\n",
              "      <td>0</td>\n",
              "      <td>0</td>\n",
              "      <td>0</td>\n",
              "      <td>0</td>\n",
              "      <td>0</td>\n",
              "      <td>0</td>\n",
              "      <td>0</td>\n",
              "      <td>0</td>\n",
              "      <td>0</td>\n",
              "      <td>0</td>\n",
              "      <td>0</td>\n",
              "      <td>0</td>\n",
              "      <td>0</td>\n",
              "      <td>0</td>\n",
              "      <td>0</td>\n",
              "      <td>0</td>\n",
              "      <td>0</td>\n",
              "      <td>0</td>\n",
              "      <td>0</td>\n",
              "      <td>0</td>\n",
              "      <td>0</td>\n",
              "      <td>0</td>\n",
              "      <td>0</td>\n",
              "      <td>0</td>\n",
              "      <td>1</td>\n",
              "      <td>0</td>\n",
              "    </tr>\n",
              "    <tr>\n",
              "      <th>4</th>\n",
              "      <td>Pixel Draw - Number Art Coloring Book</td>\n",
              "      <td>4.3</td>\n",
              "      <td>967</td>\n",
              "      <td>2.8</td>\n",
              "      <td>100000</td>\n",
              "      <td>0.0</td>\n",
              "      <td>1</td>\n",
              "      <td>0</td>\n",
              "      <td>1</td>\n",
              "      <td>0</td>\n",
              "      <td>0</td>\n",
              "      <td>0</td>\n",
              "      <td>0</td>\n",
              "      <td>0</td>\n",
              "      <td>0</td>\n",
              "      <td>0</td>\n",
              "      <td>0</td>\n",
              "      <td>0</td>\n",
              "      <td>0</td>\n",
              "      <td>0</td>\n",
              "      <td>0</td>\n",
              "      <td>0</td>\n",
              "      <td>0</td>\n",
              "      <td>0</td>\n",
              "      <td>0</td>\n",
              "      <td>0</td>\n",
              "      <td>0</td>\n",
              "      <td>0</td>\n",
              "      <td>0</td>\n",
              "      <td>0</td>\n",
              "      <td>0</td>\n",
              "      <td>0</td>\n",
              "      <td>0</td>\n",
              "      <td>0</td>\n",
              "      <td>0</td>\n",
              "      <td>0</td>\n",
              "      <td>0</td>\n",
              "      <td>0</td>\n",
              "      <td>0</td>\n",
              "      <td>0</td>\n",
              "      <td>0</td>\n",
              "      <td>0</td>\n",
              "      <td>1</td>\n",
              "      <td>0</td>\n",
              "      <td>0</td>\n",
              "      <td>0</td>\n",
              "      <td>0</td>\n",
              "    </tr>\n",
              "    <tr>\n",
              "      <th>5</th>\n",
              "      <td>Paper flowers instructions</td>\n",
              "      <td>4.4</td>\n",
              "      <td>167</td>\n",
              "      <td>5.6</td>\n",
              "      <td>50000</td>\n",
              "      <td>0.0</td>\n",
              "      <td>1</td>\n",
              "      <td>0</td>\n",
              "      <td>1</td>\n",
              "      <td>0</td>\n",
              "      <td>0</td>\n",
              "      <td>0</td>\n",
              "      <td>0</td>\n",
              "      <td>0</td>\n",
              "      <td>0</td>\n",
              "      <td>0</td>\n",
              "      <td>0</td>\n",
              "      <td>0</td>\n",
              "      <td>0</td>\n",
              "      <td>0</td>\n",
              "      <td>0</td>\n",
              "      <td>0</td>\n",
              "      <td>0</td>\n",
              "      <td>0</td>\n",
              "      <td>0</td>\n",
              "      <td>0</td>\n",
              "      <td>0</td>\n",
              "      <td>0</td>\n",
              "      <td>0</td>\n",
              "      <td>0</td>\n",
              "      <td>0</td>\n",
              "      <td>0</td>\n",
              "      <td>0</td>\n",
              "      <td>0</td>\n",
              "      <td>0</td>\n",
              "      <td>0</td>\n",
              "      <td>0</td>\n",
              "      <td>0</td>\n",
              "      <td>0</td>\n",
              "      <td>0</td>\n",
              "      <td>0</td>\n",
              "      <td>0</td>\n",
              "      <td>1</td>\n",
              "      <td>0</td>\n",
              "      <td>0</td>\n",
              "      <td>0</td>\n",
              "      <td>0</td>\n",
              "    </tr>\n",
              "  </tbody>\n",
              "</table>\n",
              "</div>\n",
              "      <button class=\"colab-df-convert\" onclick=\"convertToInteractive('df-dd773f2c-cf80-4d2e-a7ae-ca0f2d3c0b2a')\"\n",
              "              title=\"Convert this dataframe to an interactive table.\"\n",
              "              style=\"display:none;\">\n",
              "        \n",
              "  <svg xmlns=\"http://www.w3.org/2000/svg\" height=\"24px\"viewBox=\"0 0 24 24\"\n",
              "       width=\"24px\">\n",
              "    <path d=\"M0 0h24v24H0V0z\" fill=\"none\"/>\n",
              "    <path d=\"M18.56 5.44l.94 2.06.94-2.06 2.06-.94-2.06-.94-.94-2.06-.94 2.06-2.06.94zm-11 1L8.5 8.5l.94-2.06 2.06-.94-2.06-.94L8.5 2.5l-.94 2.06-2.06.94zm10 10l.94 2.06.94-2.06 2.06-.94-2.06-.94-.94-2.06-.94 2.06-2.06.94z\"/><path d=\"M17.41 7.96l-1.37-1.37c-.4-.4-.92-.59-1.43-.59-.52 0-1.04.2-1.43.59L10.3 9.45l-7.72 7.72c-.78.78-.78 2.05 0 2.83L4 21.41c.39.39.9.59 1.41.59.51 0 1.02-.2 1.41-.59l7.78-7.78 2.81-2.81c.8-.78.8-2.07 0-2.86zM5.41 20L4 18.59l7.72-7.72 1.47 1.35L5.41 20z\"/>\n",
              "  </svg>\n",
              "      </button>\n",
              "      \n",
              "  <style>\n",
              "    .colab-df-container {\n",
              "      display:flex;\n",
              "      flex-wrap:wrap;\n",
              "      gap: 12px;\n",
              "    }\n",
              "\n",
              "    .colab-df-convert {\n",
              "      background-color: #E8F0FE;\n",
              "      border: none;\n",
              "      border-radius: 50%;\n",
              "      cursor: pointer;\n",
              "      display: none;\n",
              "      fill: #1967D2;\n",
              "      height: 32px;\n",
              "      padding: 0 0 0 0;\n",
              "      width: 32px;\n",
              "    }\n",
              "\n",
              "    .colab-df-convert:hover {\n",
              "      background-color: #E2EBFA;\n",
              "      box-shadow: 0px 1px 2px rgba(60, 64, 67, 0.3), 0px 1px 3px 1px rgba(60, 64, 67, 0.15);\n",
              "      fill: #174EA6;\n",
              "    }\n",
              "\n",
              "    [theme=dark] .colab-df-convert {\n",
              "      background-color: #3B4455;\n",
              "      fill: #D2E3FC;\n",
              "    }\n",
              "\n",
              "    [theme=dark] .colab-df-convert:hover {\n",
              "      background-color: #434B5C;\n",
              "      box-shadow: 0px 1px 3px 1px rgba(0, 0, 0, 0.15);\n",
              "      filter: drop-shadow(0px 1px 2px rgba(0, 0, 0, 0.3));\n",
              "      fill: #FFFFFF;\n",
              "    }\n",
              "  </style>\n",
              "\n",
              "      <script>\n",
              "        const buttonEl =\n",
              "          document.querySelector('#df-dd773f2c-cf80-4d2e-a7ae-ca0f2d3c0b2a button.colab-df-convert');\n",
              "        buttonEl.style.display =\n",
              "          google.colab.kernel.accessAllowed ? 'block' : 'none';\n",
              "\n",
              "        async function convertToInteractive(key) {\n",
              "          const element = document.querySelector('#df-dd773f2c-cf80-4d2e-a7ae-ca0f2d3c0b2a');\n",
              "          const dataTable =\n",
              "            await google.colab.kernel.invokeFunction('convertToInteractive',\n",
              "                                                     [key], {});\n",
              "          if (!dataTable) return;\n",
              "\n",
              "          const docLinkHtml = 'Like what you see? Visit the ' +\n",
              "            '<a target=\"_blank\" href=https://colab.research.google.com/notebooks/data_table.ipynb>data table notebook</a>'\n",
              "            + ' to learn more about interactive tables.';\n",
              "          element.innerHTML = '';\n",
              "          dataTable['output_type'] = 'display_data';\n",
              "          await google.colab.output.renderOutput(dataTable, element);\n",
              "          const docLink = document.createElement('div');\n",
              "          docLink.innerHTML = docLinkHtml;\n",
              "          element.appendChild(docLink);\n",
              "        }\n",
              "      </script>\n",
              "    </div>\n",
              "  </div>\n",
              "  "
            ],
            "text/plain": [
              "                                                 App  Rating  ... Teen  Unrated\n",
              "1                                Coloring book moana     3.9  ...    0        0\n",
              "2  U Launcher Lite – FREE Live Cool Themes, Hide ...     4.7  ...    0        0\n",
              "3                              Sketch - Draw & Paint     4.5  ...    1        0\n",
              "4              Pixel Draw - Number Art Coloring Book     4.3  ...    0        0\n",
              "5                         Paper flowers instructions     4.4  ...    0        0\n",
              "\n",
              "[5 rows x 47 columns]"
            ]
          },
          "metadata": {},
          "execution_count": 121
        }
      ]
    },
    {
      "cell_type": "markdown",
      "source": [
        "### Plotting the correlation between features of the dataset"
      ],
      "metadata": {
        "id": "OoL8pQKcutQt"
      },
      "id": "OoL8pQKcutQt"
    },
    {
      "cell_type": "code",
      "source": [
        "corr = data.corr()\n",
        "corr2 = corr[corr>0.1]\n",
        "# sns.heatmap(corr2)\n",
        "plt.figure(figsize=(12,10))\n",
        "\n",
        "sns.heatmap(corr, cmap='RdYlGn_r', mask = (np.abs(corr) >= 0.5))"
      ],
      "metadata": {
        "colab": {
          "base_uri": "https://localhost:8080/",
          "height": 705
        },
        "id": "8b5JRdM3LZXp",
        "outputId": "e8964c0a-a85c-4805-df6b-761d44158abf"
      },
      "id": "8b5JRdM3LZXp",
      "execution_count": 122,
      "outputs": [
        {
          "output_type": "execute_result",
          "data": {
            "text/plain": [
              "<matplotlib.axes._subplots.AxesSubplot at 0x7ff3521faed0>"
            ]
          },
          "metadata": {},
          "execution_count": 122
        },
        {
          "output_type": "display_data",
          "data": {
            "image/png": "[encoded data removed]",
            "text/plain": [
              "<Figure size 864x720 with 2 Axes>"
            ]
          },
          "metadata": {
            "needs_background": "light"
          }
        }
      ]
    },
    {
      "cell_type": "markdown",
      "source": [
        "From the above heatmap, we can easily observe that majority of features have around zero correlation among them. "
      ],
      "metadata": {
        "id": "pUl89IaUu3SS"
      },
      "id": "pUl89IaUu3SS"
    },
    {
      "cell_type": "code",
      "source": [
        "sns.distplot(data['Installs'], color = 'r')\n",
        "plt.title('Number of installs distribution', fontsize = 16)\n",
        "plt.xlabel('Number of installs', fontsize = 14)\n",
        "plt.ylabel('Frequency', fontsize = 14)\n",
        "plt.xticks(fontsize = 12)\n",
        "plt.yticks(fontsize = 12)\n",
        "\n",
        "plt.savefig('distplot.png')\n",
        "plt.show()"
      ],
      "metadata": {
        "colab": {
          "base_uri": "https://localhost:8080/",
          "height": 393
        },
        "id": "dJqnjxZAR_a0",
        "outputId": "3ada6b63-a868-46dd-d1b0-099debd73ebd"
      },
      "id": "dJqnjxZAR_a0",
      "execution_count": 123,
      "outputs": [
        {
          "output_type": "stream",
          "name": "stderr",
          "text": [
            "/usr/local/lib/python3.7/dist-packages/seaborn/distributions.py:2619: FutureWarning:\n",
            "\n",
            "`distplot` is a deprecated function and will be removed in a future version. Please adapt your code to use either `displot` (a figure-level function with similar flexibility) or `histplot` (an axes-level function for histograms).\n",
            "\n"
          ]
        },
        {
          "output_type": "display_data",
          "data": {
            "image/png": "[encoded data removed]",
            "text/plain": [
              "<Figure size 432x288 with 1 Axes>"
            ]
          },
          "metadata": {
            "needs_background": "light"
          }
        }
      ]
    },
    {
      "cell_type": "code",
      "source": [
        "from sklearn.model_selection import train_test_split\n",
        "variables = list(data.columns)\n",
        "data.fillna(0,inplace=True)\n",
        "variables = variables[1:]\n",
        "variables.remove('Installs')\n",
        "print(variables)\n",
        "X_var = data[variables].values\n",
        "y_var = data['Installs'].values\n",
        "\n",
        "X_train, X_test, y_train, y_test = train_test_split(X_var, y_var, test_size = 0.2, random_state = 0)\n"
      ],
      "metadata": {
        "colab": {
          "base_uri": "https://localhost:8080/"
        },
        "id": "TbVXRF_kTDuK",
        "outputId": "f90ec2b2-3887-47f0-c97d-3506bf46c65c"
      },
      "id": "TbVXRF_kTDuK",
      "execution_count": 124,
      "outputs": [
        {
          "output_type": "stream",
          "name": "stdout",
          "text": [
            "['Rating', 'Reviews', 'Size', 'Price', 'Free', 'Paid', 'Art and design', 'Auto and vehicles', 'Beauty', 'Books and reference', 'Business', 'Comics', 'Communication', 'Dating', 'Education', 'Entertainment', 'Events', 'Family', 'Finance', 'Food and drink', 'Game', 'Health and fitness', 'House and home', 'Libraries and demo', 'Lifestyle', 'Maps and navigation', 'Medical', 'News and magazines', 'Parenting', 'Personalization', 'Photography', 'Productivity', 'Shopping', 'Social', 'Sports', 'Tools', 'Travel and local', 'Video players', 'Weather', 'Adults only 18+', 'Everyone', 'Everyone 10+', 'Mature 17+', 'Teen', 'Unrated']\n"
          ]
        }
      ]
    },
    {
      "cell_type": "code",
      "source": [
        "data['Rating'].unique"
      ],
      "metadata": {
        "colab": {
          "base_uri": "https://localhost:8080/"
        },
        "id": "5QcUeFlyWViu",
        "outputId": "34909802-c08c-45a2-a50c-6f1dcc9f2732"
      },
      "id": "5QcUeFlyWViu",
      "execution_count": 125,
      "outputs": [
        {
          "output_type": "execute_result",
          "data": {
            "text/plain": [
              "<bound method Series.unique of 1        3.9\n",
              "2        4.7\n",
              "3        4.5\n",
              "4        4.3\n",
              "5        4.4\n",
              "        ... \n",
              "10815    4.2\n",
              "10817    4.0\n",
              "10830    3.8\n",
              "10832    3.8\n",
              "10840    4.5\n",
              "Name: Rating, Length: 4787, dtype: float64>"
            ]
          },
          "metadata": {},
          "execution_count": 125
        }
      ]
    },
    {
      "cell_type": "markdown",
      "source": [
        "### Data normalization"
      ],
      "metadata": {
        "id": "kNoQbUaRvDQ9"
      },
      "id": "kNoQbUaRvDQ9"
    },
    {
      "cell_type": "code",
      "source": [
        "from sklearn.preprocessing import StandardScaler\n",
        "scaler = StandardScaler()\n",
        "scaler.fit(X_train)\n",
        "train_set = scaler.transform(X_train)\n",
        "test_set = scaler.transform(X_test)"
      ],
      "metadata": {
        "id": "felTo9rZX5d3"
      },
      "id": "felTo9rZX5d3",
      "execution_count": 126,
      "outputs": []
    },
    {
      "cell_type": "markdown",
      "source": [
        "### Prediction using linear regression model"
      ],
      "metadata": {
        "id": "7RRS2T9vvH3w"
      },
      "id": "7RRS2T9vvH3w"
    },
    {
      "cell_type": "code",
      "source": [
        "ols = LinearRegression()\n",
        "ols.fit(X_train, y_train)\n",
        "ols_yhat = ols.predict(X_test)\n",
        "# print(ols_yhat)\n",
        "# print(y_test)\n",
        "predictions = []\n",
        "# for i in ols_yhat:\n",
        "#   predictions.append(round(i,0))\n",
        "# sns.regplot(x=y_test,y=)\n",
        "from sklearn.metrics import r2_score\n",
        "print(r2_score(y_test,ols_yhat))\n"
      ],
      "metadata": {
        "id": "jnUI8mA6WLRp",
        "colab": {
          "base_uri": "https://localhost:8080/"
        },
        "outputId": "61a19684-ff75-47b8-a715-3ca93e6174ae"
      },
      "id": "jnUI8mA6WLRp",
      "execution_count": 129,
      "outputs": [
        {
          "output_type": "stream",
          "name": "stdout",
          "text": [
            "0.48016126983743646\n"
          ]
        }
      ]
    },
    {
      "cell_type": "markdown",
      "source": [
        "### **Conclusion**\n",
        "> 1. There is no strong correlation between the number of installs and other features.\n",
        "> 2. Linear regression can predict the number of installs with an accuracy of ~48% which is not far from guessing.\n",
        "> 3. We can try other advanced approaches for predicting number of features but we suspect that achieving higher results is going to be challenging due to the nature of data.\n",
        "> 4. There are other external factors outside the scope of the data that can determine the popularity of an app."
      ],
      "metadata": {
        "id": "uhF-4jWFvSTS"
      },
      "id": "uhF-4jWFvSTS"
    },
    {
      "cell_type": "markdown",
      "source": [
        "Dropping all tables in the end"
      ],
      "metadata": {
        "id": "5CHnY5wkvHBA"
      },
      "id": "5CHnY5wkvHBA"
    },
    {
      "cell_type": "code",
      "execution_count": 130,
      "id": "a22d72af",
      "metadata": {
        "id": "a22d72af"
      },
      "outputs": [],
      "source": [
        "# dropping all tables in the end\n",
        "conn = create_connection(db_filename)\n",
        "with conn:\n",
        "    c = conn.cursor()\n",
        "    c.execute('''Drop table if exists App''')\n",
        "    c.execute('''Drop table if exists ContentRating''')\n",
        "    c.execute('''Drop table if exists Payment''')\n",
        "    c.execute('''Drop table if exists Category''')"
      ]
    },
    {
      "cell_type": "code",
      "execution_count": null,
      "id": "aa697108",
      "metadata": {
        "id": "aa697108"
      },
      "outputs": [],
      "source": [
        ""
      ]
    }
  ],
  "metadata": {
    "kernelspec": {
      "display_name": "Python 3",
      "language": "python",
      "name": "python3"
    },
    "language_info": {
      "codemirror_mode": {
        "name": "ipython",
        "version": 3
      },
      "file_extension": ".py",
      "mimetype": "text/x-python",
      "name": "python",
      "nbconvert_exporter": "python",
      "pygments_lexer": "ipython3",
      "version": "3.8.8"
    },
    "colab": {
      "name": "eas503 project.ipynb",
      "provenance": [],
      "collapsed_sections": [
        "209b3224",
        "41393904"
      ]
    },
    "widgets": {
      "application/vnd.jupyter.widget-state+json": {
        "47313eea182f45cf90b9c5ce028a28c2": {
          "model_module": "@jupyter-widgets/controls",
          "model_name": "BoxModel",
          "model_module_version": "1.5.0",
          "state": {
            "_view_name": "BoxView",
            "_dom_classes": [],
            "_model_name": "BoxModel",
            "_view_module": "@jupyter-widgets/controls",
            "_model_module_version": "1.5.0",
            "_view_count": null,
            "_view_module_version": "1.5.0",
            "box_style": "",
            "layout": "IPY_MODEL_7350ecc098e5446c85347dfc78d22a48",
            "_model_module": "@jupyter-widgets/controls",
            "children": [
              "IPY_MODEL_f8ed899e54464cbb9dd12938b6bbabf8",
              "IPY_MODEL_44d87ea644454768b506fd2675f69e97",
              "IPY_MODEL_cc21327428b443babde50b162f389616",
              "IPY_MODEL_52fddc05381343d9b4cb4f96808c6259",
              "IPY_MODEL_e570e82a8e094238aa724337b3e242a5"
            ]
          }
        },
        "7350ecc098e5446c85347dfc78d22a48": {
          "model_module": "@jupyter-widgets/base",
          "model_name": "LayoutModel",
          "model_module_version": "1.2.0",
          "state": {
            "_view_name": "LayoutView",
            "grid_template_rows": null,
            "right": null,
            "justify_content": null,
            "_view_module": "@jupyter-widgets/base",
            "overflow": null,
            "_model_module_version": "1.2.0",
            "_view_count": null,
            "flex_flow": "column",
            "width": "50%",
            "min_width": null,
            "border": "solid 2px",
            "align_items": "stretch",
            "bottom": null,
            "_model_module": "@jupyter-widgets/base",
            "top": null,
            "grid_column": null,
            "overflow_y": null,
            "overflow_x": null,
            "grid_auto_flow": null,
            "grid_area": null,
            "grid_template_columns": null,
            "flex": null,
            "_model_name": "LayoutModel",
            "justify_items": null,
            "grid_row": null,
            "max_height": null,
            "align_content": null,
            "visibility": null,
            "align_self": null,
            "height": null,
            "min_height": null,
            "padding": null,
            "grid_auto_rows": null,
            "grid_gap": null,
            "max_width": null,
            "order": null,
            "_view_module_version": "1.2.0",
            "grid_template_areas": null,
            "object_position": null,
            "object_fit": null,
            "grid_auto_columns": null,
            "margin": null,
            "display": "flex",
            "left": null
          }
        },
        "f8ed899e54464cbb9dd12938b6bbabf8": {
          "model_module": "@jupyter-widgets/controls",
          "model_name": "BoxModel",
          "model_module_version": "1.5.0",
          "state": {
            "_view_name": "BoxView",
            "_dom_classes": [],
            "_model_name": "BoxModel",
            "_view_module": "@jupyter-widgets/controls",
            "_model_module_version": "1.5.0",
            "_view_count": null,
            "_view_module_version": "1.5.0",
            "box_style": "",
            "layout": "IPY_MODEL_9e83dd6478da4cc391b882157c28fd62",
            "_model_module": "@jupyter-widgets/controls",
            "children": [
              "IPY_MODEL_d3167f0d0815437d8d8567c3713770b7",
              "IPY_MODEL_d41ec757f7df437e9272f681ea5099f4"
            ]
          }
        },
        "44d87ea644454768b506fd2675f69e97": {
          "model_module": "@jupyter-widgets/controls",
          "model_name": "BoxModel",
          "model_module_version": "1.5.0",
          "state": {
            "_view_name": "BoxView",
            "_dom_classes": [],
            "_model_name": "BoxModel",
            "_view_module": "@jupyter-widgets/controls",
            "_model_module_version": "1.5.0",
            "_view_count": null,
            "_view_module_version": "1.5.0",
            "box_style": "",
            "layout": "IPY_MODEL_9e83dd6478da4cc391b882157c28fd62",
            "_model_module": "@jupyter-widgets/controls",
            "children": [
              "IPY_MODEL_b0ecf6063a08426a9fb1e261d07fe77b",
              "IPY_MODEL_4a4c9f949e5342fbbd69dc5713efed20"
            ]
          }
        },
        "cc21327428b443babde50b162f389616": {
          "model_module": "@jupyter-widgets/controls",
          "model_name": "BoxModel",
          "model_module_version": "1.5.0",
          "state": {
            "_view_name": "BoxView",
            "_dom_classes": [],
            "_model_name": "BoxModel",
            "_view_module": "@jupyter-widgets/controls",
            "_model_module_version": "1.5.0",
            "_view_count": null,
            "_view_module_version": "1.5.0",
            "box_style": "",
            "layout": "IPY_MODEL_9e83dd6478da4cc391b882157c28fd62",
            "_model_module": "@jupyter-widgets/controls",
            "children": [
              "IPY_MODEL_566ea29b502d4dc18c19386a84ab0657",
              "IPY_MODEL_fda91e625b3e439dab0160c99949234c"
            ]
          }
        },
        "52fddc05381343d9b4cb4f96808c6259": {
          "model_module": "@jupyter-widgets/controls",
          "model_name": "BoxModel",
          "model_module_version": "1.5.0",
          "state": {
            "_view_name": "BoxView",
            "_dom_classes": [],
            "_model_name": "BoxModel",
            "_view_module": "@jupyter-widgets/controls",
            "_model_module_version": "1.5.0",
            "_view_count": null,
            "_view_module_version": "1.5.0",
            "box_style": "",
            "layout": "IPY_MODEL_9e83dd6478da4cc391b882157c28fd62",
            "_model_module": "@jupyter-widgets/controls",
            "children": [
              "IPY_MODEL_d1f7157491da417ba4139cd2f5e5cd8a",
              "IPY_MODEL_746e44e3dd634c06953ed413bcc7b62b"
            ]
          }
        },
        "e570e82a8e094238aa724337b3e242a5": {
          "model_module": "@jupyter-widgets/controls",
          "model_name": "BoxModel",
          "model_module_version": "1.5.0",
          "state": {
            "_view_name": "BoxView",
            "_dom_classes": [],
            "_model_name": "BoxModel",
            "_view_module": "@jupyter-widgets/controls",
            "_model_module_version": "1.5.0",
            "_view_count": null,
            "_view_module_version": "1.5.0",
            "box_style": "",
            "layout": "IPY_MODEL_9e83dd6478da4cc391b882157c28fd62",
            "_model_module": "@jupyter-widgets/controls",
            "children": [
              "IPY_MODEL_3c4e82fac95542e5b384800b5b15746a",
              "IPY_MODEL_58b33ed90d144eb6b6b684e3be05ec3a"
            ]
          }
        },
        "9e83dd6478da4cc391b882157c28fd62": {
          "model_module": "@jupyter-widgets/base",
          "model_name": "LayoutModel",
          "model_module_version": "1.2.0",
          "state": {
            "_view_name": "LayoutView",
            "grid_template_rows": null,
            "right": null,
            "justify_content": "space-between",
            "_view_module": "@jupyter-widgets/base",
            "overflow": null,
            "_model_module_version": "1.2.0",
            "_view_count": null,
            "flex_flow": "row",
            "width": null,
            "min_width": null,
            "border": null,
            "align_items": null,
            "bottom": null,
            "_model_module": "@jupyter-widgets/base",
            "top": null,
            "grid_column": null,
            "overflow_y": null,
            "overflow_x": null,
            "grid_auto_flow": null,
            "grid_area": null,
            "grid_template_columns": null,
            "flex": null,
            "_model_name": "LayoutModel",
            "justify_items": null,
            "grid_row": null,
            "max_height": null,
            "align_content": null,
            "visibility": null,
            "align_self": null,
            "height": null,
            "min_height": null,
            "padding": null,
            "grid_auto_rows": null,
            "grid_gap": null,
            "max_width": null,
            "order": null,
            "_view_module_version": "1.2.0",
            "grid_template_areas": null,
            "object_position": null,
            "object_fit": null,
            "grid_auto_columns": null,
            "margin": null,
            "display": "flex",
            "left": null
          }
        },
        "d3167f0d0815437d8d8567c3713770b7": {
          "model_module": "@jupyter-widgets/controls",
          "model_name": "LabelModel",
          "model_module_version": "1.5.0",
          "state": {
            "_view_name": "LabelView",
            "style": "IPY_MODEL_93234f77675d42caa0a8034988df4029",
            "_dom_classes": [],
            "description": "",
            "_model_name": "LabelModel",
            "placeholder": "​",
            "_view_module": "@jupyter-widgets/controls",
            "_model_module_version": "1.5.0",
            "value": "Category : ",
            "_view_count": null,
            "_view_module_version": "1.5.0",
            "description_tooltip": null,
            "_model_module": "@jupyter-widgets/controls",
            "layout": "IPY_MODEL_2146a949d3f74044b7d72ed4f46e74f2"
          }
        },
        "d41ec757f7df437e9272f681ea5099f4": {
          "model_module": "@jupyter-widgets/controls",
          "model_name": "DropdownModel",
          "model_module_version": "1.5.0",
          "state": {
            "_options_labels": [
              "All",
              "Art and design",
              "Auto and vehicles",
              "Beauty",
              "Books and reference",
              "Business",
              "Comics",
              "Communication",
              "Dating",
              "Education",
              "Entertainment",
              "Events",
              "Family",
              "Finance",
              "Food and drink",
              "Game",
              "Health and fitness",
              "House and home",
              "Libraries and demo",
              "Lifestyle",
              "Maps and navigation",
              "Medical",
              "News and magazines",
              "Parenting",
              "Personalization",
              "Photography",
              "Productivity",
              "Shopping",
              "Social",
              "Sports",
              "Tools",
              "Travel and local",
              "Video players",
              "Weather"
            ],
            "_view_name": "DropdownView",
            "style": "IPY_MODEL_4ce59226d104439592d4a5a2383eccd7",
            "_dom_classes": [],
            "description": "",
            "_model_name": "DropdownModel",
            "index": 9,
            "_view_module": "@jupyter-widgets/controls",
            "_model_module_version": "1.5.0",
            "_view_count": null,
            "disabled": false,
            "_view_module_version": "1.5.0",
            "description_tooltip": null,
            "_model_module": "@jupyter-widgets/controls",
            "layout": "IPY_MODEL_56da0342ebfa416ea2827ccbe47cca62"
          }
        },
        "b0ecf6063a08426a9fb1e261d07fe77b": {
          "model_module": "@jupyter-widgets/controls",
          "model_name": "LabelModel",
          "model_module_version": "1.5.0",
          "state": {
            "_view_name": "LabelView",
            "style": "IPY_MODEL_83601f30c2724abb9fb2bb37cb8d421a",
            "_dom_classes": [],
            "description": "",
            "_model_name": "LabelModel",
            "placeholder": "​",
            "_view_module": "@jupyter-widgets/controls",
            "_model_module_version": "1.5.0",
            "value": "Payment Mode : ",
            "_view_count": null,
            "_view_module_version": "1.5.0",
            "description_tooltip": null,
            "_model_module": "@jupyter-widgets/controls",
            "layout": "IPY_MODEL_6be8f5c3dda940efa3e58e880520b70a"
          }
        },
        "4a4c9f949e5342fbbd69dc5713efed20": {
          "model_module": "@jupyter-widgets/controls",
          "model_name": "DropdownModel",
          "model_module_version": "1.5.0",
          "state": {
            "_options_labels": [
              "All",
              "Paid",
              "Free"
            ],
            "_view_name": "DropdownView",
            "style": "IPY_MODEL_d95c401e21fa4150b75f5d1eb27fccca",
            "_dom_classes": [],
            "description": "",
            "_model_name": "DropdownModel",
            "index": 0,
            "_view_module": "@jupyter-widgets/controls",
            "_model_module_version": "1.5.0",
            "_view_count": null,
            "disabled": false,
            "_view_module_version": "1.5.0",
            "description_tooltip": null,
            "_model_module": "@jupyter-widgets/controls",
            "layout": "IPY_MODEL_e07fdce5e31a4420ac5d0e4d54cc4385"
          }
        },
        "566ea29b502d4dc18c19386a84ab0657": {
          "model_module": "@jupyter-widgets/controls",
          "model_name": "LabelModel",
          "model_module_version": "1.5.0",
          "state": {
            "_view_name": "LabelView",
            "style": "IPY_MODEL_29f03a3672784ca4b2a429bedcc86ab2",
            "_dom_classes": [],
            "description": "",
            "_model_name": "LabelModel",
            "placeholder": "​",
            "_view_module": "@jupyter-widgets/controls",
            "_model_module_version": "1.5.0",
            "value": "Based on : ",
            "_view_count": null,
            "_view_module_version": "1.5.0",
            "description_tooltip": null,
            "_model_module": "@jupyter-widgets/controls",
            "layout": "IPY_MODEL_e3a4b613e9554e18a6e2341cd5cb9fff"
          }
        },
        "fda91e625b3e439dab0160c99949234c": {
          "model_module": "@jupyter-widgets/controls",
          "model_name": "DropdownModel",
          "model_module_version": "1.5.0",
          "state": {
            "_options_labels": [
              "rating",
              "installs",
              "reviews",
              "size"
            ],
            "_view_name": "DropdownView",
            "style": "IPY_MODEL_fb56c228e7cc40558f9778003b1bd375",
            "_dom_classes": [],
            "description": "",
            "_model_name": "DropdownModel",
            "index": 0,
            "_view_module": "@jupyter-widgets/controls",
            "_model_module_version": "1.5.0",
            "_view_count": null,
            "disabled": false,
            "_view_module_version": "1.5.0",
            "description_tooltip": null,
            "_model_module": "@jupyter-widgets/controls",
            "layout": "IPY_MODEL_8b017db6f67f43b7b6992c7b959800f6"
          }
        },
        "d1f7157491da417ba4139cd2f5e5cd8a": {
          "model_module": "@jupyter-widgets/controls",
          "model_name": "LabelModel",
          "model_module_version": "1.5.0",
          "state": {
            "_view_name": "LabelView",
            "style": "IPY_MODEL_ba612d964c6f453f8704620eb8c4984f",
            "_dom_classes": [],
            "description": "",
            "_model_name": "LabelModel",
            "placeholder": "​",
            "_view_module": "@jupyter-widgets/controls",
            "_model_module_version": "1.5.0",
            "value": "How many top : ",
            "_view_count": null,
            "_view_module_version": "1.5.0",
            "description_tooltip": null,
            "_model_module": "@jupyter-widgets/controls",
            "layout": "IPY_MODEL_ea44de09aa3148e2acb37e190ab88ec6"
          }
        },
        "746e44e3dd634c06953ed413bcc7b62b": {
          "model_module": "@jupyter-widgets/controls",
          "model_name": "DropdownModel",
          "model_module_version": "1.5.0",
          "state": {
            "_options_labels": [
              "5",
              "10",
              "15",
              "20",
              "25"
            ],
            "_view_name": "DropdownView",
            "style": "IPY_MODEL_64ed571f1abd43378fed59963b1a84e8",
            "_dom_classes": [],
            "description": "",
            "_model_name": "DropdownModel",
            "index": 0,
            "_view_module": "@jupyter-widgets/controls",
            "_model_module_version": "1.5.0",
            "_view_count": null,
            "disabled": false,
            "_view_module_version": "1.5.0",
            "description_tooltip": null,
            "_model_module": "@jupyter-widgets/controls",
            "layout": "IPY_MODEL_6f63229abd5d4915bb9b253483fd0434"
          }
        },
        "3c4e82fac95542e5b384800b5b15746a": {
          "model_module": "@jupyter-widgets/controls",
          "model_name": "LabelModel",
          "model_module_version": "1.5.0",
          "state": {
            "_view_name": "LabelView",
            "style": "IPY_MODEL_6f6e6f81c356460a94a45cd67ee27256",
            "_dom_classes": [],
            "description": "",
            "_model_name": "LabelModel",
            "placeholder": "​",
            "_view_module": "@jupyter-widgets/controls",
            "_model_module_version": "1.5.0",
            "value": "Submit : ",
            "_view_count": null,
            "_view_module_version": "1.5.0",
            "description_tooltip": null,
            "_model_module": "@jupyter-widgets/controls",
            "layout": "IPY_MODEL_38cb01f040b74ba1b1cbb165941f3aab"
          }
        },
        "58b33ed90d144eb6b6b684e3be05ec3a": {
          "model_module": "@jupyter-widgets/controls",
          "model_name": "ButtonModel",
          "model_module_version": "1.5.0",
          "state": {
            "_view_name": "ButtonView",
            "style": "IPY_MODEL_c1cd51df36ae4e41bab45162ffd32065",
            "_dom_classes": [],
            "description": "Plot Graph !",
            "_model_name": "ButtonModel",
            "button_style": "",
            "_view_module": "@jupyter-widgets/controls",
            "_model_module_version": "1.5.0",
            "tooltip": "",
            "_view_count": null,
            "disabled": false,
            "_view_module_version": "1.5.0",
            "layout": "IPY_MODEL_afa6327a9739418e8bc6bdb2646e1749",
            "_model_module": "@jupyter-widgets/controls",
            "icon": ""
          }
        },
        "93234f77675d42caa0a8034988df4029": {
          "model_module": "@jupyter-widgets/controls",
          "model_name": "DescriptionStyleModel",
          "model_module_version": "1.5.0",
          "state": {
            "_view_name": "StyleView",
            "_model_name": "DescriptionStyleModel",
            "description_width": "",
            "_view_module": "@jupyter-widgets/base",
            "_model_module_version": "1.5.0",
            "_view_count": null,
            "_view_module_version": "1.2.0",
            "_model_module": "@jupyter-widgets/controls"
          }
        },
        "2146a949d3f74044b7d72ed4f46e74f2": {
          "model_module": "@jupyter-widgets/base",
          "model_name": "LayoutModel",
          "model_module_version": "1.2.0",
          "state": {
            "_view_name": "LayoutView",
            "grid_template_rows": null,
            "right": null,
            "justify_content": null,
            "_view_module": "@jupyter-widgets/base",
            "overflow": null,
            "_model_module_version": "1.2.0",
            "_view_count": null,
            "flex_flow": null,
            "width": null,
            "min_width": null,
            "border": null,
            "align_items": null,
            "bottom": null,
            "_model_module": "@jupyter-widgets/base",
            "top": null,
            "grid_column": null,
            "overflow_y": null,
            "overflow_x": null,
            "grid_auto_flow": null,
            "grid_area": null,
            "grid_template_columns": null,
            "flex": null,
            "_model_name": "LayoutModel",
            "justify_items": null,
            "grid_row": null,
            "max_height": null,
            "align_content": null,
            "visibility": null,
            "align_self": null,
            "height": null,
            "min_height": null,
            "padding": null,
            "grid_auto_rows": null,
            "grid_gap": null,
            "max_width": null,
            "order": null,
            "_view_module_version": "1.2.0",
            "grid_template_areas": null,
            "object_position": null,
            "object_fit": null,
            "grid_auto_columns": null,
            "margin": null,
            "display": null,
            "left": null
          }
        },
        "4ce59226d104439592d4a5a2383eccd7": {
          "model_module": "@jupyter-widgets/controls",
          "model_name": "DescriptionStyleModel",
          "model_module_version": "1.5.0",
          "state": {
            "_view_name": "StyleView",
            "_model_name": "DescriptionStyleModel",
            "description_width": "",
            "_view_module": "@jupyter-widgets/base",
            "_model_module_version": "1.5.0",
            "_view_count": null,
            "_view_module_version": "1.2.0",
            "_model_module": "@jupyter-widgets/controls"
          }
        },
        "56da0342ebfa416ea2827ccbe47cca62": {
          "model_module": "@jupyter-widgets/base",
          "model_name": "LayoutModel",
          "model_module_version": "1.2.0",
          "state": {
            "_view_name": "LayoutView",
            "grid_template_rows": null,
            "right": null,
            "justify_content": null,
            "_view_module": "@jupyter-widgets/base",
            "overflow": null,
            "_model_module_version": "1.2.0",
            "_view_count": null,
            "flex_flow": null,
            "width": null,
            "min_width": null,
            "border": null,
            "align_items": null,
            "bottom": null,
            "_model_module": "@jupyter-widgets/base",
            "top": null,
            "grid_column": null,
            "overflow_y": null,
            "overflow_x": null,
            "grid_auto_flow": null,
            "grid_area": null,
            "grid_template_columns": null,
            "flex": null,
            "_model_name": "LayoutModel",
            "justify_items": null,
            "grid_row": null,
            "max_height": null,
            "align_content": null,
            "visibility": null,
            "align_self": null,
            "height": null,
            "min_height": null,
            "padding": null,
            "grid_auto_rows": null,
            "grid_gap": null,
            "max_width": null,
            "order": null,
            "_view_module_version": "1.2.0",
            "grid_template_areas": null,
            "object_position": null,
            "object_fit": null,
            "grid_auto_columns": null,
            "margin": null,
            "display": null,
            "left": null
          }
        },
        "83601f30c2724abb9fb2bb37cb8d421a": {
          "model_module": "@jupyter-widgets/controls",
          "model_name": "DescriptionStyleModel",
          "model_module_version": "1.5.0",
          "state": {
            "_view_name": "StyleView",
            "_model_name": "DescriptionStyleModel",
            "description_width": "",
            "_view_module": "@jupyter-widgets/base",
            "_model_module_version": "1.5.0",
            "_view_count": null,
            "_view_module_version": "1.2.0",
            "_model_module": "@jupyter-widgets/controls"
          }
        },
        "6be8f5c3dda940efa3e58e880520b70a": {
          "model_module": "@jupyter-widgets/base",
          "model_name": "LayoutModel",
          "model_module_version": "1.2.0",
          "state": {
            "_view_name": "LayoutView",
            "grid_template_rows": null,
            "right": null,
            "justify_content": null,
            "_view_module": "@jupyter-widgets/base",
            "overflow": null,
            "_model_module_version": "1.2.0",
            "_view_count": null,
            "flex_flow": null,
            "width": null,
            "min_width": null,
            "border": null,
            "align_items": null,
            "bottom": null,
            "_model_module": "@jupyter-widgets/base",
            "top": null,
            "grid_column": null,
            "overflow_y": null,
            "overflow_x": null,
            "grid_auto_flow": null,
            "grid_area": null,
            "grid_template_columns": null,
            "flex": null,
            "_model_name": "LayoutModel",
            "justify_items": null,
            "grid_row": null,
            "max_height": null,
            "align_content": null,
            "visibility": null,
            "align_self": null,
            "height": null,
            "min_height": null,
            "padding": null,
            "grid_auto_rows": null,
            "grid_gap": null,
            "max_width": null,
            "order": null,
            "_view_module_version": "1.2.0",
            "grid_template_areas": null,
            "object_position": null,
            "object_fit": null,
            "grid_auto_columns": null,
            "margin": null,
            "display": null,
            "left": null
          }
        },
        "d95c401e21fa4150b75f5d1eb27fccca": {
          "model_module": "@jupyter-widgets/controls",
          "model_name": "DescriptionStyleModel",
          "model_module_version": "1.5.0",
          "state": {
            "_view_name": "StyleView",
            "_model_name": "DescriptionStyleModel",
            "description_width": "",
            "_view_module": "@jupyter-widgets/base",
            "_model_module_version": "1.5.0",
            "_view_count": null,
            "_view_module_version": "1.2.0",
            "_model_module": "@jupyter-widgets/controls"
          }
        },
        "e07fdce5e31a4420ac5d0e4d54cc4385": {
          "model_module": "@jupyter-widgets/base",
          "model_name": "LayoutModel",
          "model_module_version": "1.2.0",
          "state": {
            "_view_name": "LayoutView",
            "grid_template_rows": null,
            "right": null,
            "justify_content": null,
            "_view_module": "@jupyter-widgets/base",
            "overflow": null,
            "_model_module_version": "1.2.0",
            "_view_count": null,
            "flex_flow": null,
            "width": null,
            "min_width": null,
            "border": null,
            "align_items": null,
            "bottom": null,
            "_model_module": "@jupyter-widgets/base",
            "top": null,
            "grid_column": null,
            "overflow_y": null,
            "overflow_x": null,
            "grid_auto_flow": null,
            "grid_area": null,
            "grid_template_columns": null,
            "flex": null,
            "_model_name": "LayoutModel",
            "justify_items": null,
            "grid_row": null,
            "max_height": null,
            "align_content": null,
            "visibility": null,
            "align_self": null,
            "height": null,
            "min_height": null,
            "padding": null,
            "grid_auto_rows": null,
            "grid_gap": null,
            "max_width": null,
            "order": null,
            "_view_module_version": "1.2.0",
            "grid_template_areas": null,
            "object_position": null,
            "object_fit": null,
            "grid_auto_columns": null,
            "margin": null,
            "display": null,
            "left": null
          }
        },
        "29f03a3672784ca4b2a429bedcc86ab2": {
          "model_module": "@jupyter-widgets/controls",
          "model_name": "DescriptionStyleModel",
          "model_module_version": "1.5.0",
          "state": {
            "_view_name": "StyleView",
            "_model_name": "DescriptionStyleModel",
            "description_width": "",
            "_view_module": "@jupyter-widgets/base",
            "_model_module_version": "1.5.0",
            "_view_count": null,
            "_view_module_version": "1.2.0",
            "_model_module": "@jupyter-widgets/controls"
          }
        },
        "e3a4b613e9554e18a6e2341cd5cb9fff": {
          "model_module": "@jupyter-widgets/base",
          "model_name": "LayoutModel",
          "model_module_version": "1.2.0",
          "state": {
            "_view_name": "LayoutView",
            "grid_template_rows": null,
            "right": null,
            "justify_content": null,
            "_view_module": "@jupyter-widgets/base",
            "overflow": null,
            "_model_module_version": "1.2.0",
            "_view_count": null,
            "flex_flow": null,
            "width": null,
            "min_width": null,
            "border": null,
            "align_items": null,
            "bottom": null,
            "_model_module": "@jupyter-widgets/base",
            "top": null,
            "grid_column": null,
            "overflow_y": null,
            "overflow_x": null,
            "grid_auto_flow": null,
            "grid_area": null,
            "grid_template_columns": null,
            "flex": null,
            "_model_name": "LayoutModel",
            "justify_items": null,
            "grid_row": null,
            "max_height": null,
            "align_content": null,
            "visibility": null,
            "align_self": null,
            "height": null,
            "min_height": null,
            "padding": null,
            "grid_auto_rows": null,
            "grid_gap": null,
            "max_width": null,
            "order": null,
            "_view_module_version": "1.2.0",
            "grid_template_areas": null,
            "object_position": null,
            "object_fit": null,
            "grid_auto_columns": null,
            "margin": null,
            "display": null,
            "left": null
          }
        },
        "fb56c228e7cc40558f9778003b1bd375": {
          "model_module": "@jupyter-widgets/controls",
          "model_name": "DescriptionStyleModel",
          "model_module_version": "1.5.0",
          "state": {
            "_view_name": "StyleView",
            "_model_name": "DescriptionStyleModel",
            "description_width": "",
            "_view_module": "@jupyter-widgets/base",
            "_model_module_version": "1.5.0",
            "_view_count": null,
            "_view_module_version": "1.2.0",
            "_model_module": "@jupyter-widgets/controls"
          }
        },
        "8b017db6f67f43b7b6992c7b959800f6": {
          "model_module": "@jupyter-widgets/base",
          "model_name": "LayoutModel",
          "model_module_version": "1.2.0",
          "state": {
            "_view_name": "LayoutView",
            "grid_template_rows": null,
            "right": null,
            "justify_content": null,
            "_view_module": "@jupyter-widgets/base",
            "overflow": null,
            "_model_module_version": "1.2.0",
            "_view_count": null,
            "flex_flow": null,
            "width": null,
            "min_width": null,
            "border": null,
            "align_items": null,
            "bottom": null,
            "_model_module": "@jupyter-widgets/base",
            "top": null,
            "grid_column": null,
            "overflow_y": null,
            "overflow_x": null,
            "grid_auto_flow": null,
            "grid_area": null,
            "grid_template_columns": null,
            "flex": null,
            "_model_name": "LayoutModel",
            "justify_items": null,
            "grid_row": null,
            "max_height": null,
            "align_content": null,
            "visibility": null,
            "align_self": null,
            "height": null,
            "min_height": null,
            "padding": null,
            "grid_auto_rows": null,
            "grid_gap": null,
            "max_width": null,
            "order": null,
            "_view_module_version": "1.2.0",
            "grid_template_areas": null,
            "object_position": null,
            "object_fit": null,
            "grid_auto_columns": null,
            "margin": null,
            "display": null,
            "left": null
          }
        },
        "ba612d964c6f453f8704620eb8c4984f": {
          "model_module": "@jupyter-widgets/controls",
          "model_name": "DescriptionStyleModel",
          "model_module_version": "1.5.0",
          "state": {
            "_view_name": "StyleView",
            "_model_name": "DescriptionStyleModel",
            "description_width": "",
            "_view_module": "@jupyter-widgets/base",
            "_model_module_version": "1.5.0",
            "_view_count": null,
            "_view_module_version": "1.2.0",
            "_model_module": "@jupyter-widgets/controls"
          }
        },
        "ea44de09aa3148e2acb37e190ab88ec6": {
          "model_module": "@jupyter-widgets/base",
          "model_name": "LayoutModel",
          "model_module_version": "1.2.0",
          "state": {
            "_view_name": "LayoutView",
            "grid_template_rows": null,
            "right": null,
            "justify_content": null,
            "_view_module": "@jupyter-widgets/base",
            "overflow": null,
            "_model_module_version": "1.2.0",
            "_view_count": null,
            "flex_flow": null,
            "width": null,
            "min_width": null,
            "border": null,
            "align_items": null,
            "bottom": null,
            "_model_module": "@jupyter-widgets/base",
            "top": null,
            "grid_column": null,
            "overflow_y": null,
            "overflow_x": null,
            "grid_auto_flow": null,
            "grid_area": null,
            "grid_template_columns": null,
            "flex": null,
            "_model_name": "LayoutModel",
            "justify_items": null,
            "grid_row": null,
            "max_height": null,
            "align_content": null,
            "visibility": null,
            "align_self": null,
            "height": null,
            "min_height": null,
            "padding": null,
            "grid_auto_rows": null,
            "grid_gap": null,
            "max_width": null,
            "order": null,
            "_view_module_version": "1.2.0",
            "grid_template_areas": null,
            "object_position": null,
            "object_fit": null,
            "grid_auto_columns": null,
            "margin": null,
            "display": null,
            "left": null
          }
        },
        "64ed571f1abd43378fed59963b1a84e8": {
          "model_module": "@jupyter-widgets/controls",
          "model_name": "DescriptionStyleModel",
          "model_module_version": "1.5.0",
          "state": {
            "_view_name": "StyleView",
            "_model_name": "DescriptionStyleModel",
            "description_width": "",
            "_view_module": "@jupyter-widgets/base",
            "_model_module_version": "1.5.0",
            "_view_count": null,
            "_view_module_version": "1.2.0",
            "_model_module": "@jupyter-widgets/controls"
          }
        },
        "6f63229abd5d4915bb9b253483fd0434": {
          "model_module": "@jupyter-widgets/base",
          "model_name": "LayoutModel",
          "model_module_version": "1.2.0",
          "state": {
            "_view_name": "LayoutView",
            "grid_template_rows": null,
            "right": null,
            "justify_content": null,
            "_view_module": "@jupyter-widgets/base",
            "overflow": null,
            "_model_module_version": "1.2.0",
            "_view_count": null,
            "flex_flow": null,
            "width": null,
            "min_width": null,
            "border": null,
            "align_items": null,
            "bottom": null,
            "_model_module": "@jupyter-widgets/base",
            "top": null,
            "grid_column": null,
            "overflow_y": null,
            "overflow_x": null,
            "grid_auto_flow": null,
            "grid_area": null,
            "grid_template_columns": null,
            "flex": null,
            "_model_name": "LayoutModel",
            "justify_items": null,
            "grid_row": null,
            "max_height": null,
            "align_content": null,
            "visibility": null,
            "align_self": null,
            "height": null,
            "min_height": null,
            "padding": null,
            "grid_auto_rows": null,
            "grid_gap": null,
            "max_width": null,
            "order": null,
            "_view_module_version": "1.2.0",
            "grid_template_areas": null,
            "object_position": null,
            "object_fit": null,
            "grid_auto_columns": null,
            "margin": null,
            "display": null,
            "left": null
          }
        },
        "6f6e6f81c356460a94a45cd67ee27256": {
          "model_module": "@jupyter-widgets/controls",
          "model_name": "DescriptionStyleModel",
          "model_module_version": "1.5.0",
          "state": {
            "_view_name": "StyleView",
            "_model_name": "DescriptionStyleModel",
            "description_width": "",
            "_view_module": "@jupyter-widgets/base",
            "_model_module_version": "1.5.0",
            "_view_count": null,
            "_view_module_version": "1.2.0",
            "_model_module": "@jupyter-widgets/controls"
          }
        },
        "38cb01f040b74ba1b1cbb165941f3aab": {
          "model_module": "@jupyter-widgets/base",
          "model_name": "LayoutModel",
          "model_module_version": "1.2.0",
          "state": {
            "_view_name": "LayoutView",
            "grid_template_rows": null,
            "right": null,
            "justify_content": null,
            "_view_module": "@jupyter-widgets/base",
            "overflow": null,
            "_model_module_version": "1.2.0",
            "_view_count": null,
            "flex_flow": null,
            "width": null,
            "min_width": null,
            "border": null,
            "align_items": null,
            "bottom": null,
            "_model_module": "@jupyter-widgets/base",
            "top": null,
            "grid_column": null,
            "overflow_y": null,
            "overflow_x": null,
            "grid_auto_flow": null,
            "grid_area": null,
            "grid_template_columns": null,
            "flex": null,
            "_model_name": "LayoutModel",
            "justify_items": null,
            "grid_row": null,
            "max_height": null,
            "align_content": null,
            "visibility": null,
            "align_self": null,
            "height": null,
            "min_height": null,
            "padding": null,
            "grid_auto_rows": null,
            "grid_gap": null,
            "max_width": null,
            "order": null,
            "_view_module_version": "1.2.0",
            "grid_template_areas": null,
            "object_position": null,
            "object_fit": null,
            "grid_auto_columns": null,
            "margin": null,
            "display": null,
            "left": null
          }
        },
        "c1cd51df36ae4e41bab45162ffd32065": {
          "model_module": "@jupyter-widgets/controls",
          "model_name": "ButtonStyleModel",
          "model_module_version": "1.5.0",
          "state": {
            "_view_name": "StyleView",
            "_model_name": "ButtonStyleModel",
            "_view_module": "@jupyter-widgets/base",
            "_model_module_version": "1.5.0",
            "_view_count": null,
            "button_color": null,
            "font_weight": "",
            "_view_module_version": "1.2.0",
            "_model_module": "@jupyter-widgets/controls"
          }
        },
        "afa6327a9739418e8bc6bdb2646e1749": {
          "model_module": "@jupyter-widgets/base",
          "model_name": "LayoutModel",
          "model_module_version": "1.2.0",
          "state": {
            "_view_name": "LayoutView",
            "grid_template_rows": null,
            "right": null,
            "justify_content": null,
            "_view_module": "@jupyter-widgets/base",
            "overflow": null,
            "_model_module_version": "1.2.0",
            "_view_count": null,
            "flex_flow": null,
            "width": null,
            "min_width": null,
            "border": null,
            "align_items": null,
            "bottom": null,
            "_model_module": "@jupyter-widgets/base",
            "top": null,
            "grid_column": null,
            "overflow_y": null,
            "overflow_x": null,
            "grid_auto_flow": null,
            "grid_area": null,
            "grid_template_columns": null,
            "flex": null,
            "_model_name": "LayoutModel",
            "justify_items": null,
            "grid_row": null,
            "max_height": null,
            "align_content": null,
            "visibility": null,
            "align_self": null,
            "height": null,
            "min_height": null,
            "padding": null,
            "grid_auto_rows": null,
            "grid_gap": null,
            "max_width": null,
            "order": null,
            "_view_module_version": "1.2.0",
            "grid_template_areas": null,
            "object_position": null,
            "object_fit": null,
            "grid_auto_columns": null,
            "margin": null,
            "display": null,
            "left": null
          }
        }
      }
    }
  },
  "nbformat": 4,
  "nbformat_minor": 5
}